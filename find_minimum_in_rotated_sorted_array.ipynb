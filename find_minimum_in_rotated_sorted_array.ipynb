{
  "nbformat": 4,
  "nbformat_minor": 0,
  "metadata": {
    "colab": {
      "name": "find_minimum_in_rotated_sorted_array.ipynb",
      "provenance": [],
      "collapsed_sections": [],
      "authorship_tag": "ABX9TyMZm6ZDeh2h1hhvUuDpFs4n",
      "include_colab_link": true
    },
    "kernelspec": {
      "name": "python3",
      "display_name": "Python 3"
    },
    "language_info": {
      "name": "python"
    }
  },
  "cells": [
    {
      "cell_type": "markdown",
      "metadata": {
        "id": "view-in-github",
        "colab_type": "text"
      },
      "source": [
        "<a href=\"https://colab.research.google.com/github/albertofernandezvillan/algorithm-coding/blob/main/find_minimum_in_rotated_sorted_array.ipynb\" target=\"_parent\"><img src=\"https://colab.research.google.com/assets/colab-badge.svg\" alt=\"Open In Colab\"/></a>"
      ]
    },
    {
      "cell_type": "markdown",
      "metadata": {
        "id": "ZKfdzHVT-oYS"
      },
      "source": [
        "# Find Minimum in Rotated Sorted Array\n",
        "\n",
        "Suppose an array of length `n` sorted in ascending order is rotated between `1` and `n` times. For example, the array `nums = [0,1,2,4,5,6,7]` might become:\n",
        "\n",
        "* `[4,5,6,7,0,1,2]` if it was rotated `4` times.\n",
        "* `[0,1,2,4,5,6,7]` if it was rotated `7` times.\n",
        "\n",
        "Notice that rotating an array `[a[0], a[1], a[2], ..., a[n-1]]` `1` time results in the array `[a[n-1], a[0], a[1], a[2], ..., a[n-2]]`.\n",
        "\n",
        "Given the sorted rotated array `nums` of unique elements, return the minimum element of this array.\n",
        "\n",
        "You must write an algorithm that runs in `O(log n)` time.\n",
        "\n",
        "```\n",
        "Example 1:\n",
        "Input: nums = [3,4,5,1,2]\n",
        "Output: 1\n",
        "Explanation: The original array was [1,2,3,4,5] rotated 3 times.\n",
        "\n",
        "Example 2:\n",
        "Input: nums = [4,5,6,7,0,1,2]\n",
        "Output: 0\n",
        "Explanation: The original array was [0,1,2,4,5,6,7] and it was rotated 4 times.\n",
        "\n",
        "Example 3:\n",
        "Input: nums = [11,13,15,17]\n",
        "Output: 11\n",
        "Explanation: The original array was [11,13,15,17] and it was rotated 4 times. \n",
        "```\n",
        "\n",
        "Constraints:\n",
        "\n",
        "- n == nums.length\n",
        "- 1 <= n <= 5000\n",
        "- -5000 <= nums[i] <= 5000\n",
        "- All the integers of nums are unique.\n",
        "- nums is sorted and rotated between 1 and n times."
      ]
    },
    {
      "cell_type": "markdown",
      "metadata": {
        "id": "nSzhGCZb_UjY"
      },
      "source": [
        "A simple solution is to traverse the complete array and find a minimum. This solution requires `O(n)` time. We can do it in `O(Log n)` using **Binary Search** (this search algorithm takes advantage of a collection of elements that is already sorted by ignoring half of the elements after just one comparison)."
      ]
    },
    {
      "cell_type": "code",
      "metadata": {
        "id": "gwe16w_7-ngW"
      },
      "source": [
        "class Solution(object):\n",
        "    def findMin(self, nums):\n",
        "        \"\"\"\n",
        "        :type nums: List[int]\n",
        "        :rtype: int\n",
        "        \"\"\""
      ],
      "execution_count": 1,
      "outputs": []
    },
    {
      "cell_type": "markdown",
      "metadata": {
        "id": "08pblwoGGXZ1"
      },
      "source": [
        "Example of binary search (just to remember the idea). Note that this is an iterative approach of the binary search. [Same functionality can be achieved using a recursive approach](https://www.geeksforgeeks.org/python-program-for-binary-search/). "
      ]
    },
    {
      "cell_type": "code",
      "metadata": {
        "id": "JeQoB0POEcpH"
      },
      "source": [
        "def binary_search(arr, x):\n",
        "  low = 0\n",
        "  high = len(arr) - 1\n",
        "  mid = 0\n",
        "\n",
        "  while low <= high:\n",
        "    mid = (low + high) // 2\n",
        "\n",
        "    if arr[mid] < x:\n",
        "      low = mid + 1\n",
        "    elif arr[mid] > x:\n",
        "      high = mid -1\n",
        "    else:\n",
        "       return mid"
      ],
      "execution_count": 3,
      "outputs": []
    },
    {
      "cell_type": "code",
      "metadata": {
        "colab": {
          "base_uri": "https://localhost:8080/"
        },
        "id": "YdpRcOsCGD35",
        "outputId": "85e9d70a-92b0-4014-9ca0-c7256268c416"
      },
      "source": [
        "print(binary_search([1,2,3,4,5,6], 1))\n",
        "print(binary_search([1,2,3,4,5,6], 2))\n",
        "print(binary_search([1,2,3,4,5,6], 3))\n",
        "print(binary_search([1,2,3,4,5,6], 4))\n",
        "print(binary_search([1,2,3,4,5,6], 5))\n",
        "print(binary_search([1,2,3,4,5,6], 6))"
      ],
      "execution_count": 6,
      "outputs": [
        {
          "output_type": "stream",
          "name": "stdout",
          "text": [
            "0\n",
            "1\n",
            "2\n",
            "3\n",
            "4\n",
            "5\n"
          ]
        }
      ]
    },
    {
      "cell_type": "code",
      "metadata": {
        "id": "OUMm-NDaIBYO"
      },
      "source": [
        "class Solution(object):\n",
        "    def findMin(self, nums):\n",
        "        \"\"\"\n",
        "        :type nums: List[int]\n",
        "        :rtype: int\n",
        "        \"\"\"\n",
        "\n",
        "        left = 0\n",
        "        right = len(nums) - 1\n",
        "        mid = 0\n",
        "\n",
        "        while left < right:\n",
        "          mid = (left + right) // 2\n",
        "\n",
        "          if nums[mid] > nums[right]: \n",
        "            left = mid + 1\n",
        "          else: # nums[mid] <= nums[right]:\n",
        "            right = mid\n",
        "        \n",
        "        return nums[left]"
      ],
      "execution_count": 9,
      "outputs": []
    },
    {
      "cell_type": "markdown",
      "metadata": {
        "id": "6IopvpeWSk_b"
      },
      "source": [
        "Indeed the comparison can be against the last element of the array:"
      ]
    },
    {
      "cell_type": "code",
      "metadata": {
        "id": "8TIJCvtTSj5N"
      },
      "source": [
        "class Solution(object):\n",
        "    def findMin(self, nums):\n",
        "        \"\"\"\n",
        "        :type nums: List[int]\n",
        "        :rtype: int\n",
        "        \"\"\"\n",
        "\n",
        "        left = 0\n",
        "        right = len(nums) - 1\n",
        "        mid = 0\n",
        "        VAL = nums[right]\n",
        "\n",
        "        while left < right:\n",
        "          mid = (left + right) // 2\n",
        "\n",
        "          if nums[mid] > VAL: \n",
        "            left = mid + 1\n",
        "          else: # nums[mid] <= nums[right]:\n",
        "            right = mid\n",
        "        \n",
        "        return nums[left]"
      ],
      "execution_count": 10,
      "outputs": []
    }
  ]
}