{
  "nbformat": 4,
  "nbformat_minor": 0,
  "metadata": {
    "colab": {
      "name": "peak_index_in_a_mountain_array.ipynb",
      "provenance": [],
      "collapsed_sections": [],
      "authorship_tag": "ABX9TyOD704YFJwrdEQi6NmmjMLr",
      "include_colab_link": true
    },
    "kernelspec": {
      "name": "python3",
      "display_name": "Python 3"
    },
    "language_info": {
      "name": "python"
    }
  },
  "cells": [
    {
      "cell_type": "markdown",
      "metadata": {
        "id": "view-in-github",
        "colab_type": "text"
      },
      "source": [
        "<a href=\"https://colab.research.google.com/github/albertofernandezvillan/algorithm-coding/blob/main/peak_index_in_a_mountain_array.ipynb\" target=\"_parent\"><img src=\"https://colab.research.google.com/assets/colab-badge.svg\" alt=\"Open In Colab\"/></a>"
      ]
    },
    {
      "cell_type": "markdown",
      "metadata": {
        "id": "5PYXuU3-f0_V"
      },
      "source": [
        "# Peak Index in a Mountain Array\n",
        "\n",
        "Let's call an array `arr` a **mountain** if the following properties hold:\n",
        "\n",
        "- `arr.length >= 3`\n",
        "- There exists some `i` with `0 < i < arr.length - 1` such that:\n",
        "   - `arr[0] < arr[1] < ... arr[i-1] < arr[i]`\n",
        "   - `arr[i] > arr[i+1] > ... > arr[arr.length - 1]`\n",
        "\n",
        "Given an integer array `arr` that is **guaranteed** to be a **mountain**, return any `i` such that `arr[0] < arr[1] < ... arr[i - 1] < arr[i] > arr[i + 1] > ... > arr[arr.length - 1]`.\n",
        "\n",
        "Seen here: https://leetcode.com/problems/peak-index-in-a-mountain-array/\n",
        "\n",
        "[Remember mountain array](https://leetcode.com/problems/valid-mountain-array/):\n",
        "\n",
        "<img src=\"https://assets.leetcode.com/uploads/2019/10/20/hint_valid_mountain_array.png\" width=400>\n",
        "\n",
        "**Example**:\n",
        "- Input: `arr = [24,69,100,99,79,78,67,36,26,19]`\n",
        "- Output: `2`\n",
        "\n",
        "```\n",
        "class Solution(object):\n",
        "    def peakIndexInMountainArray(self, arr):\n",
        "        \"\"\"\n",
        "        :type arr: List[int]\n",
        "        :rtype: int\n",
        "        \"\"\"\n",
        "```"
      ]
    },
    {
      "cell_type": "code",
      "metadata": {
        "id": "fMltqvhHg85y"
      },
      "source": [
        "class Solution(object):\n",
        "    def peakIndexInMountainArray(self, arr):\n",
        "        \"\"\"\n",
        "        :type arr: List[int]\n",
        "        :rtype: int\n",
        "        \"\"\""
      ],
      "execution_count": null,
      "outputs": []
    },
    {
      "cell_type": "markdown",
      "metadata": {
        "id": "o4AM_0egjM7A"
      },
      "source": [
        "We can solve it using a [binary search](https://www.geeksforgeeks.org/python-program-for-binary-search/) - check also [this reference](https://www.geeksforgeeks.org/binary-search/) for binary search. If we solve it using an iterative approach, we first calculate the index of the mid point of the array (`mid`).\n",
        "\n",
        "* `If arr[mid - 1] < arr[mid] > arr[mid + 1]`: we return mid\n",
        "* `If arr[mid - 1] < arr[mid] < arr[mid + 1]`: we are on the ascending part of the mountain --> shift search space to the right\n",
        "* `If arr[mid - 1] > arr[mid] > arr[mid + 1]`: we are on the desceding part of the mountain --> shift search space to the left"
      ]
    },
    {
      "cell_type": "code",
      "metadata": {
        "id": "fW1YSzTdW1xo"
      },
      "source": [
        "class Solution(object):\n",
        "    def peakIndexInMountainArray(self, arr):\n",
        "        \"\"\"\n",
        "        :type arr: List[int]\n",
        "        :rtype: int\n",
        "        \"\"\"\n",
        "        n = len(arr)\n",
        "        low = 0\n",
        "        high = n - 1\n",
        "\n",
        "        while n <= high:\n",
        "          mid = low + (high - low)//2\n",
        "\n",
        "          if  arr[mid - 1] < arr[mid] < arr[mid + 1]:\n",
        "            return mid\n",
        "          elif arr[mid - 1] < arr[mid] < arr[mid + 1]:\n",
        "            low = mid + 1\n",
        "          else:\n",
        "            high = mid -1"
      ],
      "execution_count": null,
      "outputs": []
    }
  ]
}