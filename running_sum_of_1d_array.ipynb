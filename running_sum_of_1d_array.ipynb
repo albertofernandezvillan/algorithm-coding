{
  "nbformat": 4,
  "nbformat_minor": 0,
  "metadata": {
    "colab": {
      "name": "running_sum_of_1d_array.ipynb",
      "provenance": [],
      "collapsed_sections": [],
      "authorship_tag": "ABX9TyPUigyYkGZxKmpSZ98IytRC",
      "include_colab_link": true
    },
    "kernelspec": {
      "name": "python3",
      "display_name": "Python 3"
    },
    "language_info": {
      "name": "python"
    }
  },
  "cells": [
    {
      "cell_type": "markdown",
      "metadata": {
        "id": "view-in-github",
        "colab_type": "text"
      },
      "source": [
        "<a href=\"https://colab.research.google.com/github/albertofernandezvillan/algorithm-coding/blob/main/running_sum_of_1d_array.ipynb\" target=\"_parent\"><img src=\"https://colab.research.google.com/assets/colab-badge.svg\" alt=\"Open In Colab\"/></a>"
      ]
    },
    {
      "cell_type": "markdown",
      "metadata": {
        "id": "JTiD7vHcMSuf"
      },
      "source": [
        "# Running Sum of 1d Array"
      ]
    },
    {
      "cell_type": "markdown",
      "metadata": {
        "id": "N9DP4B8zGXeJ"
      },
      "source": [
        "Given an array nums. We define a running sum of an array as `runningSum[i] = sum(nums[0]…nums[i])`.\n",
        "\n",
        "Seen here: https://leetcode.com/problems/running-sum-of-1d-array/\n",
        "\n",
        "Example\n",
        "\n",
        "```\n",
        "Input: nums = [3,1,2,10,1]\n",
        "Output: [3,4,6,16,17]\n",
        "```"
      ]
    },
    {
      "cell_type": "markdown",
      "metadata": {
        "id": "mSlp8-6DJvNj"
      },
      "source": [
        "We are required to find the running sum of numbers nums[i] in the input array where i ranges from 0 to n-1 and n is the size of the input array. We can see that the running sum is the sum of all of the elements from index 0 to index i inclusive. Since we start building our output array at index 0, at each index i we have already calculated the sum of all numbers up to and including index i-1. Thus, instead of recalculating the sum, we can get the result for index i by simply adding the element at index i to the previously calculated running sum for index i-1."
      ]
    },
    {
      "cell_type": "code",
      "metadata": {
        "id": "ILW1U7lUGRTV"
      },
      "source": [
        "class Solution_1(object):\n",
        "    def runningSum(self, nums):\n",
        "        \"\"\"\n",
        "        :type nums: List[int]\n",
        "        :rtype: List[int]\n",
        "        \"\"\"\n",
        "        n = len(nums)\n",
        "        res = []\n",
        "\n",
        "        # Initialize result with the first element in nums:\n",
        "        res.append(nums[0])\n",
        "\n",
        "        for i in range(1, n):\n",
        "          sum = res[i-1] + nums[i]\n",
        "          res.append(sum)\n",
        "        \n",
        "        return res        "
      ],
      "execution_count": 17,
      "outputs": []
    },
    {
      "cell_type": "code",
      "metadata": {
        "id": "BbWBRyW7Gl_4"
      },
      "source": [
        "sol = Solution_1()"
      ],
      "execution_count": 18,
      "outputs": []
    },
    {
      "cell_type": "code",
      "metadata": {
        "colab": {
          "base_uri": "https://localhost:8080/"
        },
        "id": "HE5hNA8CGiyQ",
        "outputId": "f6b6f8ce-ca3d-4c70-f782-9abee74f1718"
      },
      "source": [
        "nums = [3,1,2,10,1]\n",
        "sol.runningSum(nums)"
      ],
      "execution_count": 19,
      "outputs": [
        {
          "output_type": "execute_result",
          "data": {
            "text/plain": [
              "[3, 4, 6, 16, 17]"
            ]
          },
          "metadata": {
            "tags": []
          },
          "execution_count": 19
        }
      ]
    },
    {
      "cell_type": "markdown",
      "metadata": {
        "id": "58osCteDMDq2"
      },
      "source": [
        "In the previous approach we created an extra array to store our results. However, we do not actually need to do so. We can obtain the same result without using extra space by performing the same operations on the input array instead."
      ]
    },
    {
      "cell_type": "markdown",
      "metadata": {
        "id": "wHOEjTZQJnaF"
      },
      "source": [
        "**Complexity Analysis**\n",
        "\n",
        "* Time complexity: O(n) where nn is the length of the input array. This is because we use a single loop that iterates over the entire array to calculate the running sum.\n",
        "\n",
        "* Space complexity: O(1) since we don't use any additional space to find the running sum. Note that we do not take into consideration the space occupied by the output array."
      ]
    },
    {
      "cell_type": "code",
      "metadata": {
        "id": "TO0002BNLphj"
      },
      "source": [
        "class Solution_2(object):\n",
        "    def runningSum(self, nums):\n",
        "        \"\"\"\n",
        "        :type nums: List[int]\n",
        "        :rtype: List[int]\n",
        "        \"\"\"\n",
        "        n = len(nums)        \n",
        "\n",
        "        # Initialize with the first element in nums:\n",
        "        curr_sum = nums[0]\n",
        "\n",
        "        for i in range(1, n):\n",
        "          curr_sum = curr_sum + nums[i]\n",
        "          nums[i] = curr_sum\n",
        "        \n",
        "        return nums     "
      ],
      "execution_count": 23,
      "outputs": []
    },
    {
      "cell_type": "code",
      "metadata": {
        "id": "4-XMSeX5L46F"
      },
      "source": [
        "sol = Solution_2()"
      ],
      "execution_count": 24,
      "outputs": []
    },
    {
      "cell_type": "code",
      "metadata": {
        "colab": {
          "base_uri": "https://localhost:8080/"
        },
        "id": "-T_5aaZ5L7hU",
        "outputId": "274c90d0-663e-49fb-f802-ce7bbabf9292"
      },
      "source": [
        "nums = [3,1,2,10,1]\n",
        "sol.runningSum(nums)"
      ],
      "execution_count": 25,
      "outputs": [
        {
          "output_type": "execute_result",
          "data": {
            "text/plain": [
              "[3, 4, 6, 16, 17]"
            ]
          },
          "metadata": {
            "tags": []
          },
          "execution_count": 25
        }
      ]
    },
    {
      "cell_type": "markdown",
      "metadata": {
        "id": "bqdbanIRMGY2"
      },
      "source": [
        "**Complexity Analysis**\n",
        "\n",
        "* Time complexity: O(n) where n is the length of input array.\n",
        "\n",
        "* Space complexity: O(1) since we don't use any additional space to find the running sum. Note that we do not take into consideration the space occupied by the output array."
      ]
    }
  ]
}