{
  "nbformat": 4,
  "nbformat_minor": 0,
  "metadata": {
    "colab": {
      "name": "maximum_depth_of_binary_tree.ipynb",
      "provenance": [],
      "collapsed_sections": [],
      "authorship_tag": "ABX9TyNygZqeRA6k6DvqVA6OE1T6",
      "include_colab_link": true
    },
    "kernelspec": {
      "name": "python3",
      "display_name": "Python 3"
    },
    "language_info": {
      "name": "python"
    }
  },
  "cells": [
    {
      "cell_type": "markdown",
      "metadata": {
        "id": "view-in-github",
        "colab_type": "text"
      },
      "source": [
        "<a href=\"https://colab.research.google.com/github/albertofernandezvillan/algorithm-coding/blob/main/maximum_depth_of_binary_tree.ipynb\" target=\"_parent\"><img src=\"https://colab.research.google.com/assets/colab-badge.svg\" alt=\"Open In Colab\"/></a>"
      ]
    },
    {
      "cell_type": "markdown",
      "metadata": {
        "id": "Z1e7CGNtpZpc"
      },
      "source": [
        "# Maximum Depth of Binary Tree\n",
        "\n",
        "Given the root of a binary tree, return its maximum depth.\n",
        "\n",
        "A binary tree's maximum depth is the number of nodes along the longest path from the root node down to the farthest leaf node.\n",
        "\n",
        "**Example 1**:\n",
        "\n",
        "<img src=\"https://assets.leetcode.com/uploads/2020/11/26/tmp-tree.jpg\" width =300>\n",
        " \n",
        "- Input: root = `[3,9,20,null,null,15,7]`\n",
        "- Output: `3`\n",
        "\n",
        "**Example 2**:\n",
        "\n",
        "- Input: `root = [1,null,2]`\n",
        "- Output: `2`\n",
        "\n",
        "**Example 3**:\n",
        "\n",
        "- Input: `root = []`\n",
        "- Output: `0`\n",
        "\n",
        "**Example 4**:\n",
        "\n",
        "- Input: `root = [0]`\n",
        "- Output: `1`\n",
        "\n",
        "\n",
        "Seen here: https://leetcode.com/problems/maximum-depth-of-binary-tree/"
      ]
    },
    {
      "cell_type": "code",
      "metadata": {
        "id": "fkM7G7HlpTqy"
      },
      "source": [
        "# Definition for a binary tree node.\n",
        "class TreeNode(object):\n",
        "     def __init__(self, val=0, left=None, right=None):\n",
        "         self.val = val\n",
        "         self.left = left\n",
        "         self.right = right"
      ],
      "execution_count": 1,
      "outputs": []
    },
    {
      "cell_type": "markdown",
      "metadata": {
        "id": "a5AA9ZOtremN"
      },
      "source": [
        "Playing a little with the `TreeNode` class. Just build the tree defined above:"
      ]
    },
    {
      "cell_type": "code",
      "metadata": {
        "id": "HWjLiGR7qQHj"
      },
      "source": [
        "a = TreeNode(15, None, None)\n",
        "b = TreeNode(7, None, None)\n",
        "right = TreeNode(20, a, b)\n",
        "left = TreeNode(9, None, None)\n",
        "root = TreeNode(3, left, right)"
      ],
      "execution_count": 2,
      "outputs": []
    },
    {
      "cell_type": "code",
      "metadata": {
        "id": "S4XWyC65t0hN"
      },
      "source": [
        "class Solution(object):\n",
        "    def maxDepth(self, root):\n",
        "        \"\"\"\n",
        "        :type root: TreeNode\n",
        "        :rtype: int\n",
        "        \"\"\"        \n",
        "        if root == None:\n",
        "          return 0\n",
        "\n",
        "        left = root.left\n",
        "        right = root.right\n",
        "\n",
        "        maxDepthSubTree = max(self.maxDepth(left), self.maxDepth(right))\n",
        "        return maxDepthSubTree + 1"
      ],
      "execution_count": 3,
      "outputs": []
    },
    {
      "cell_type": "code",
      "metadata": {
        "colab": {
          "base_uri": "https://localhost:8080/"
        },
        "id": "aP_LF0_LuupU",
        "outputId": "4f0b429d-8206-412f-8ed4-6dbf2f8b3c82"
      },
      "source": [
        "sol = Solution()\n",
        "sol.maxDepth(root)"
      ],
      "execution_count": 4,
      "outputs": [
        {
          "output_type": "execute_result",
          "data": {
            "text/plain": [
              "3"
            ]
          },
          "metadata": {
            "tags": []
          },
          "execution_count": 4
        }
      ]
    },
    {
      "cell_type": "markdown",
      "metadata": {
        "id": "1ja5MXvq4WzU"
      },
      "source": [
        "Printing the [Depth First Traversals (DFT) ](https://www.geeksforgeeks.org/dfs-traversal-of-a-tree-using-recursion/) of this tree in \n",
        " 1. Inorder: (Left, Root, Right)\n",
        " 2. Preorder: (Root, Left, Right)\n",
        " 3. Postorder: (Left, Right, Root)"
      ]
    },
    {
      "cell_type": "code",
      "metadata": {
        "id": "ZzAhvlD13kjM"
      },
      "source": [
        "class Solution(object):\n",
        "    def printTreeInorder(self, root):\n",
        "        \"\"\"\n",
        "        :type root: TreeNode\n",
        "        \"\"\"        \n",
        "        if root == None:\n",
        "          return\n",
        "        \n",
        "        left = root.left\n",
        "        right = root.right\n",
        "\n",
        "        # Inorder (Left, Root, Right)\n",
        "        self.printTreeInorder(left)\n",
        "        print(root.val)\n",
        "        self.printTreeInorder(right)"
      ],
      "execution_count": 5,
      "outputs": []
    },
    {
      "cell_type": "code",
      "metadata": {
        "colab": {
          "base_uri": "https://localhost:8080/"
        },
        "id": "xUTdoj4l3s0B",
        "outputId": "3be15a1f-9478-4b43-fbff-31221c040e44"
      },
      "source": [
        "sol = Solution()\n",
        "sol.printTreeInorder(root)"
      ],
      "execution_count": 6,
      "outputs": [
        {
          "output_type": "stream",
          "text": [
            "9\n",
            "3\n",
            "15\n",
            "20\n",
            "7\n"
          ],
          "name": "stdout"
        }
      ]
    }
  ]
}