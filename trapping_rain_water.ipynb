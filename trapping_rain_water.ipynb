{
  "nbformat": 4,
  "nbformat_minor": 0,
  "metadata": {
    "colab": {
      "name": "trapping_rain_water.ipynb",
      "provenance": [],
      "collapsed_sections": [],
      "authorship_tag": "ABX9TyOtGukWW/bJpM6jw1FbORlm",
      "include_colab_link": true
    },
    "kernelspec": {
      "name": "python3",
      "display_name": "Python 3"
    },
    "language_info": {
      "name": "python"
    }
  },
  "cells": [
    {
      "cell_type": "markdown",
      "metadata": {
        "id": "view-in-github",
        "colab_type": "text"
      },
      "source": [
        "<a href=\"https://colab.research.google.com/github/albertofernandezvillan/algorithm-coding/blob/main/trapping_rain_water.ipynb\" target=\"_parent\"><img src=\"https://colab.research.google.com/assets/colab-badge.svg\" alt=\"Open In Colab\"/></a>"
      ]
    },
    {
      "cell_type": "markdown",
      "metadata": {
        "id": "KXel8D6Z7dF7"
      },
      "source": [
        "# Trapping Rain Water\n",
        "\n",
        "Given `n` non-negative integers representing an elevation map where the width of each bar is `1`, compute how much water it can trap after raining.\n",
        "\n",
        "<img src=\"https://assets.leetcode.com/uploads/2018/10/22/rainwatertrap.png\" width=500>\n",
        "\n",
        "\n",
        "\n",
        "```\n",
        "Input: height = [0,1,0,2,1,0,1,3,2,1,2,1]\n",
        "Output: 6\n",
        "Explanation: The above elevation map (black section) is represented by array [0,1,0,2,1,0,1,3,2,1,2,1]. \n",
        "In this case, 6 units of rain water (blue section) are being trapped.\n",
        "```\n",
        "\n",
        "Seen here: https://leetcode.com/problems/trapping-rain-water/\n",
        "\n"
      ]
    },
    {
      "cell_type": "code",
      "metadata": {
        "id": "DQWtKdZI75DG"
      },
      "source": [
        "class Solution(object):\n",
        "    def trap(self, height):\n",
        "        \"\"\"\n",
        "        :type height: List[int]\n",
        "        :rtype: int\n",
        "        \"\"\""
      ],
      "execution_count": null,
      "outputs": []
    },
    {
      "cell_type": "markdown",
      "metadata": {
        "id": "F-0PlDJFC9HX"
      },
      "source": [
        "Approach 1: Brute force. Intuition: For each element in the array, we find the maximum level of water it can trap after the rain, which is equal to the minimum of maximum height of bars on both the sides minus its own height.\n",
        "\n",
        "An element of the array can store water if there are higher bars on the left and right. The amount of water to be stored in every element can be found out by finding the heights of bars on the left and right sides. The idea is to compute the amount of water that can be stored in every element of the array. \n",
        "\n",
        "**Complexity Analysis**\n",
        "\n",
        "*   Time complexity: O(n^2). For each element of array, we iterate the left and right parts.\n",
        "*   Space complexity: O(1) extra space."
      ]
    },
    {
      "cell_type": "code",
      "metadata": {
        "id": "IC5jBOvZEwUy"
      },
      "source": [
        "class Solution(object):\n",
        "    def max_val(self, arr, low, high):\n",
        "      res = -1\n",
        "      for i in range(low, high):\n",
        "        res = max(res, arr[i])\n",
        "      return res\n",
        "\n",
        "    def trap(self, height):\n",
        "        \"\"\"\n",
        "        :type height: List[int]\n",
        "        :rtype: int\n",
        "        \"\"\"\n",
        "        trapped = 0\n",
        "        n = len(height)\n",
        "        for i in range(n):\n",
        "          max_left = self.max_val(height, 0, i)\n",
        "          max_right = self.max_val(height, i+1, n)\n",
        "\n",
        "          curr_trapped = min(max_left, max_right) - height[i]\n",
        "\n",
        "          if curr_trapped > 0:\n",
        "            trapped += curr_trapped\n",
        "\n",
        "        return trapped"
      ],
      "execution_count": 18,
      "outputs": []
    },
    {
      "cell_type": "code",
      "metadata": {
        "colab": {
          "base_uri": "https://localhost:8080/"
        },
        "id": "oA5eUZMh78yW",
        "outputId": "945a25f0-d814-44c1-bd56-cb4af5431fbd"
      },
      "source": [
        "sol = Solution()\n",
        "height = [0,1,0,2,1,0,1,3,2,1,2,1]\n",
        "sol.trap(height)"
      ],
      "execution_count": 19,
      "outputs": [
        {
          "output_type": "execute_result",
          "data": {
            "text/plain": [
              "6"
            ]
          },
          "metadata": {},
          "execution_count": 19
        }
      ]
    },
    {
      "cell_type": "markdown",
      "metadata": {
        "id": "OZhyCrhcIWRe"
      },
      "source": [
        "In the previous solution, to find the highest bar on the left and right, array traversal is needed which reduces the efficiency of the solution.\n",
        "\n",
        "To make this efficient one must pre-compute the highest bar on the left and right of every bar in linear time. Then use these pre-computed values to find the amount of water in every array element.\n"
      ]
    },
    {
      "cell_type": "code",
      "metadata": {
        "id": "s4rM8TYVJqwA"
      },
      "source": [
        "class Solution(object):\n",
        "    def trap(self, height):\n",
        "        \"\"\"\n",
        "        :type height: List[int]\n",
        "        :rtype: int\n",
        "        \"\"\"        \n",
        "        n = len(height)\n",
        "\n",
        "        arr_max_left = [0] * n\n",
        "        arr_max_right = [0] * n\n",
        "\n",
        "        cur_max_left = height[0]\n",
        "        cur_max_right = height[n-1]\n",
        "\n",
        "        for i in range(1, n):\n",
        "          cur_max_left = max(cur_max_left, height[i-1])\n",
        "          arr_max_left[i] = cur_max_left\n",
        "        \n",
        "        for i in range(n-2, -1, -1):\n",
        "          cur_max_right = max(cur_max_right, height[i+1])\n",
        "          arr_max_right[i] = cur_max_right\n",
        "        \n",
        "        trapped = 0\n",
        "        for i in range(n):\n",
        "          max_left = arr_max_left[i]\n",
        "          max_right = arr_max_right[i]\n",
        "\n",
        "          curr_trapped = min(max_left, max_right) - height[i]\n",
        "\n",
        "          if curr_trapped > 0:\n",
        "            trapped += curr_trapped\n",
        "        \n",
        "        return trapped"
      ],
      "execution_count": 36,
      "outputs": []
    },
    {
      "cell_type": "code",
      "metadata": {
        "colab": {
          "base_uri": "https://localhost:8080/"
        },
        "id": "2pE-GiDrLYAE",
        "outputId": "c7f75898-0d9b-463a-b82c-0ebbf41f10a6"
      },
      "source": [
        "sol = Solution()\n",
        "height = [0,1,0,2,1,0,1,3,2,1,2,1]\n",
        "sol.trap(height)"
      ],
      "execution_count": 37,
      "outputs": [
        {
          "output_type": "execute_result",
          "data": {
            "text/plain": [
              "6"
            ]
          },
          "metadata": {},
          "execution_count": 37
        }
      ]
    },
    {
      "cell_type": "markdown",
      "metadata": {
        "id": "Ber44H3VRH5F"
      },
      "source": [
        "**Complexity Analysis**: \n",
        "* Time Complexity: O(n). Only one traversal of the array is needed.\n",
        "* Space Complexity: O(n). Two extra arrays are needed each of size n."
      ]
    },
    {
      "cell_type": "markdown",
      "metadata": {
        "id": "0Wb-a0jcTZjl"
      },
      "source": [
        "Space Optimization for the above Solution: Instead of maintaining two arrays of size n for storing the left and a right max of each element, maintain two variables to store the maximum till that point.\n",
        "\n",
        "https://www.geeksforgeeks.org/trapping-rain-water/"
      ]
    }
  ]
}