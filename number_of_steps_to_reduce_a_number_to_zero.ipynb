{
  "nbformat": 4,
  "nbformat_minor": 0,
  "metadata": {
    "colab": {
      "name": "number_of_steps_to_reduce_a_number_to_zero.ipynb",
      "provenance": [],
      "collapsed_sections": [],
      "authorship_tag": "ABX9TyOZ2vPowAAlhuzauv+WaZFd",
      "include_colab_link": true
    },
    "kernelspec": {
      "name": "python3",
      "display_name": "Python 3"
    },
    "language_info": {
      "name": "python"
    }
  },
  "cells": [
    {
      "cell_type": "markdown",
      "metadata": {
        "id": "view-in-github",
        "colab_type": "text"
      },
      "source": [
        "<a href=\"https://colab.research.google.com/github/albertofernandezvillan/algorithm-coding/blob/main/number_of_steps_to_reduce_a_number_to_zero.ipynb\" target=\"_parent\"><img src=\"https://colab.research.google.com/assets/colab-badge.svg\" alt=\"Open In Colab\"/></a>"
      ]
    },
    {
      "cell_type": "markdown",
      "metadata": {
        "id": "Yv10RgQyf18Y"
      },
      "source": [
        "# Number of Steps to Reduce a Number to Zero\n",
        "\n",
        "Given a non-negative integer `num`, return the number of steps to reduce it to zero. \n",
        "- If the current number is even, you have to divide it by 2, otherwise, \n",
        "- you have to subtract 1 from it.\n",
        "\n",
        "**Example 1**:\n",
        "\n",
        "- Input: `num = 14`\n",
        "- Output: `6`\n",
        "\n",
        "**Explanation**: \n",
        "- Step 1) 14 is even; divide by 2 and obtain 7. \n",
        "- Step 2) 7 is odd; subtract 1 and obtain 6.\n",
        "- Step 3) 6 is even; divide by 2 and obtain 3. \n",
        "- Step 4) 3 is odd; subtract 1 and obtain 2. \n",
        "- Step 5) 2 is even; divide by 2 and obtain 1. \n",
        "- Step 6) 1 is odd; subtract 1 and obtain 0."
      ]
    },
    {
      "cell_type": "code",
      "metadata": {
        "id": "PY9CsYdzfvZJ"
      },
      "source": [
        "class Solution(object):\n",
        "    def numberOfSteps(self, num):\n",
        "        \"\"\"\n",
        "        :type num: int\n",
        "        :rtype: int\n",
        "        \"\"\"\n",
        "        steps = 0\n",
        "\n",
        "        while num != 0:\n",
        "          if num % 2 == 0:\n",
        "            num = num // 2\n",
        "          else:\n",
        "            num -= 1\n",
        "          steps += 1\n",
        "        \n",
        "        return steps"
      ],
      "execution_count": 4,
      "outputs": []
    },
    {
      "cell_type": "code",
      "metadata": {
        "colab": {
          "base_uri": "https://localhost:8080/"
        },
        "id": "qehMy0LZg0o6",
        "outputId": "73bb5a4f-3d5b-4241-fc9e-e711ada35945"
      },
      "source": [
        "sol = Solution()\n",
        "num = 123\n",
        "sol.numberOfSteps(num)"
      ],
      "execution_count": 5,
      "outputs": [
        {
          "output_type": "execute_result",
          "data": {
            "text/plain": [
              "12"
            ]
          },
          "metadata": {
            "tags": []
          },
          "execution_count": 5
        }
      ]
    },
    {
      "cell_type": "markdown",
      "metadata": {
        "id": "4Fm2UFZWil15"
      },
      "source": [
        "Complexitiy:\n",
        "- Time: O(log(num))\n",
        "- Space: O(1)."
      ]
    },
    {
      "cell_type": "markdown",
      "metadata": {
        "id": "y32uH3jglKZI"
      },
      "source": [
        "Another method is based on the following asumption:\n",
        "\n",
        "If `num` is `even` or `1`, we use only `1` step to reduce: `-` or `/`; otherwise, `2` steps: `-` and `/`.\n",
        "\n",
        "Moreover, taking the following into account:"
      ]
    },
    {
      "cell_type": "code",
      "metadata": {
        "colab": {
          "base_uri": "https://localhost:8080/"
        },
        "id": "l0Rak5Oii5SG",
        "outputId": "6dcc75d9-0506-4ef7-fb32-99ace294e332"
      },
      "source": [
        "# This will return the firt element (index 0) of the list [1,2] --> 1\n",
        "print([1,2][0])\n",
        "\n",
        "# This will return the second element (index 1) of the list [1,2] -->2\n",
        "print([1,2][1])"
      ],
      "execution_count": 20,
      "outputs": [
        {
          "output_type": "stream",
          "text": [
            "1\n",
            "2\n"
          ],
          "name": "stdout"
        }
      ]
    },
    {
      "cell_type": "markdown",
      "metadata": {
        "id": "sYCrKHlhldFP"
      },
      "source": [
        "We can write the code as following:"
      ]
    },
    {
      "cell_type": "code",
      "metadata": {
        "id": "KTUQuZqVlfKT"
      },
      "source": [
        "class Solution_2(object):\n",
        "    def numberOfSteps(self, num):\n",
        "        \"\"\"\n",
        "        :type num: int\n",
        "        :rtype: int\n",
        "        \"\"\"\n",
        "\n",
        "        count = 0\n",
        "\n",
        "        while num > 1:\n",
        "          count += [1, 2][num % 2]\n",
        "          num = num // 2\n",
        "        \n",
        "        return count + 1"
      ],
      "execution_count": 61,
      "outputs": []
    },
    {
      "cell_type": "code",
      "metadata": {
        "colab": {
          "base_uri": "https://localhost:8080/"
        },
        "id": "NZA0aXODl1fL",
        "outputId": "2a7b6b6b-5c33-4d85-dc70-aca1799ee6e2"
      },
      "source": [
        "sol = Solution_2()\n",
        "num = 123\n",
        "sol.numberOfSteps(num)"
      ],
      "execution_count": 63,
      "outputs": [
        {
          "output_type": "execute_result",
          "data": {
            "text/plain": [
              "12"
            ]
          },
          "metadata": {
            "tags": []
          },
          "execution_count": 63
        }
      ]
    },
    {
      "cell_type": "markdown",
      "metadata": {
        "id": "sSecxnDXn5yS"
      },
      "source": [
        "See that this approach is almost correct, but it fails with the input: `num = 0`:"
      ]
    },
    {
      "cell_type": "code",
      "metadata": {
        "colab": {
          "base_uri": "https://localhost:8080/"
        },
        "id": "_H6M17_goDCw",
        "outputId": "39ac5066-465b-4824-defb-633e6577e550"
      },
      "source": [
        "sol = Solution_2()\n",
        "num = 0\n",
        "sol.numberOfSteps(num)"
      ],
      "execution_count": 64,
      "outputs": [
        {
          "output_type": "execute_result",
          "data": {
            "text/plain": [
              "1"
            ]
          },
          "metadata": {
            "tags": []
          },
          "execution_count": 64
        }
      ]
    },
    {
      "cell_type": "markdown",
      "metadata": {
        "id": "qLjhxEayoEfR"
      },
      "source": [
        "If `num = 0`, the output should be `0` and not `1`. To correct this issue:"
      ]
    },
    {
      "cell_type": "code",
      "metadata": {
        "id": "vtMKB-ARoM6w"
      },
      "source": [
        "class Solution_3(object):\n",
        "    def numberOfSteps(self, num):\n",
        "        \"\"\"\n",
        "        :type num: int\n",
        "        :rtype: int\n",
        "        \"\"\"\n",
        "        count = 0\n",
        "\n",
        "        while num > 1:\n",
        "          count += [1, 2][num % 2]\n",
        "          num = num // 2\n",
        "        \n",
        "        # At this point we know that num is either 0 or 1:\n",
        "        return [count, count + 1][num]"
      ],
      "execution_count": 66,
      "outputs": []
    },
    {
      "cell_type": "code",
      "metadata": {
        "colab": {
          "base_uri": "https://localhost:8080/"
        },
        "id": "dwc2bIXaoeR5",
        "outputId": "edff831d-73a2-461a-faf5-c8703a47f093"
      },
      "source": [
        "sol = Solution_3()\n",
        "num = 0\n",
        "sol.numberOfSteps(num)"
      ],
      "execution_count": 67,
      "outputs": [
        {
          "output_type": "execute_result",
          "data": {
            "text/plain": [
              "0"
            ]
          },
          "metadata": {
            "tags": []
          },
          "execution_count": 67
        }
      ]
    }
  ]
}