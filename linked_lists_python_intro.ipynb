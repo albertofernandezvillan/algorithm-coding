{
  "nbformat": 4,
  "nbformat_minor": 0,
  "metadata": {
    "colab": {
      "name": "linked_lists_python_intro.ipynb",
      "provenance": [],
      "collapsed_sections": [],
      "authorship_tag": "ABX9TyPqZT4/H3S42ywqHvRjrm/5",
      "include_colab_link": true
    },
    "kernelspec": {
      "name": "python3",
      "display_name": "Python 3"
    },
    "language_info": {
      "name": "python"
    }
  },
  "cells": [
    {
      "cell_type": "markdown",
      "metadata": {
        "id": "view-in-github",
        "colab_type": "text"
      },
      "source": [
        "<a href=\"https://colab.research.google.com/github/albertofernandezvillan/algorithm-coding/blob/main/linked_lists_python_intro.ipynb\" target=\"_parent\"><img src=\"https://colab.research.google.com/assets/colab-badge.svg\" alt=\"Open In Colab\"/></a>"
      ]
    },
    {
      "cell_type": "markdown",
      "metadata": {
        "id": "WztFK7mUETBi"
      },
      "source": [
        "# Linked Lists in Python"
      ]
    },
    {
      "cell_type": "markdown",
      "metadata": {
        "id": "Fb8WPfOW9Uzp"
      },
      "source": [
        "See [this link for more info](https://realpython.com/linked-lists-python/). Each element of a linked list is called a node, and every **node** has two different fields:\n",
        "* **Data** contains the value to be stored in the node\n",
        "* **Next** contains a reference to the next node on the list\n",
        "\n",
        "The first node is called the **head**, and it’s used as the starting point for any iteration through the list. The **last** node must have its next reference pointing to `None` to determine the end of the list. \n",
        "\n",
        "<img src=\"https://files.realpython.com/media/Group_14.27f7c4c6ec02.png\" width=400>\n",
        "\n",
        "*They can be used to implement queues or stacks as well as graphs. They’re also useful for much more complex tasks, such as lifecycle management for an operating system application*.\n",
        "\n",
        "**Queues** follow a **First-In/First-Out (FIFO)** approach: first element inserted in the list is the first one to be retrieved.\n",
        "\n",
        "**Stacks** follow a **Last-In/Fist-Out (LIFO)** approach: the last element inserted in the list is the first to be retrieved.\n",
        "\n",
        "<img src=\"https://files.realpython.com/media/Group_6_3.67b18836f065.png\" width=\"300\"> \n",
        "<img src=\"https://files.realpython.com/media/Group_7_5.930e25fcf2a0.png\" width=\"200\">\n",
        "\n",
        "\n",
        "\n",
        "\n",
        "\n",
        "\n",
        "\n"
      ]
    },
    {
      "cell_type": "markdown",
      "metadata": {
        "id": "dzWCn_wVC2Wo"
      },
      "source": [
        "Because of the way you insert and retrieve elements from the edges of queues and stacks, linked lists are one of the most convenient ways to implement these data structures. \n",
        "\n",
        "Note that in Python, there’s a specific object in the collections module (`from collections import deque`) that you can use for linked lists called deque (pronounced \"deck\"), which stands for **double-ended queue**. Some of the method this collection provides (e.g. for adding or removing elements from both ends of the list): \n",
        "\n",
        "* `append()`: add elements from the right side\n",
        "* `pop():` remove elements from the right side\n",
        "* `appendleft()`: add elements from the left side\n",
        "* `popleft()`: remove elements from the left side\n"
      ]
    },
    {
      "cell_type": "markdown",
      "metadata": {
        "id": "rf664gGUC6I_"
      },
      "source": [
        "**Graphs** can be used to show relationships between objects or to represent different types of networks. See next figure for a directed acyclic graph (DAG), wich is a directed graph with no directed cycles.\n",
        "\n",
        "<img src=\"https://files.realpython.com/media/Group_20.32afe2d011b9.png\">\n",
        "\n",
        "There are different ways to implement graphs like the above, but one of the most common is to use an adjacency list (a list of linked lists where each vertex of the graph is stored alongside a collection of connected vertices). This adjacency list could also be represented in code using a dict:\n",
        "\n",
        "\n",
        "\n",
        "```\n",
        ">>> graph = {\n",
        "...     1: [2, 3, None],\n",
        "...     2: [4, None],\n",
        "...     3: [None],\n",
        "...     4: [5, 6, None],\n",
        "...     5: [6, None],\n",
        "...     6: [None]\n",
        "... }\n",
        "```\n",
        "\n",
        "The keys of this dictionary are the source vertices, and the value for each key is a list. This list is usually implemented as a linked list.\n",
        "\n"
      ]
    },
    {
      "cell_type": "markdown",
      "metadata": {
        "id": "b2msqNR0GFcg"
      },
      "source": [
        "## Performance Comparison: Lists vs Linked Lists\n",
        "\n",
        "See these links for further info about this ([ref1](https://docs.python.org/3.7/faq/design.html#how-are-lists-implemented-in-cpython), [ref2](http://www.laurentluce.com/posts/python-list-implementation/), [ref3](https://www.bigocheatsheet.com/), [ref4](https://www.geeksforgeeks.org/complexity-cheat-sheet-for-python-operations/)). \n",
        "\n",
        "\n",
        "Inserting elements at the end of a list using `append()` or `insert()` will have constant time, `O(1)`, inserting an element closer to or at the beginning of the list, the average time complexity is `O(n)`. Deleting elements at the end of a list using `remove()` and `pop()` will have constant time, `O(1)`, deleting an element closer to or at the beginning of the list, the average time complexity is `O(n)`. Time complexity for linked lists is always constant: `O(1)`.\n",
        "\n",
        "When it comes to element lookup, lists perform much better (`O(1)`) than linked lists (`O(n)`) because you need to traverse the whole list to find the element.\n",
        "\n",
        "When searching for a specific element, however, both lists and linked lists perform very similarly, with a time complexity of `O(n)`. In both cases, you need to iterate through the entire list to find the element you’re looking for."
      ]
    },
    {
      "cell_type": "markdown",
      "metadata": {
        "id": "a1KxRDKZKm5X"
      },
      "source": [
        "# Implementing your own Linked List"
      ]
    },
    {
      "cell_type": "code",
      "metadata": {
        "id": "9-70U26cKwvg"
      },
      "source": [
        "class Node:\n",
        "   def __init__(self, dataval=None):\n",
        "      self.data = dataval\n",
        "      self.next = None\n",
        "\n",
        "class LinkedList:\n",
        "   def __init__(self):\n",
        "      # The first node is called the head, and it’s used as the starting point \n",
        "      # for any iteration through the list\n",
        "      self.head = None\n",
        "   \n",
        "   def printLinkedList(self):\n",
        "     # Get the first node (head) to start the iteration through the list\n",
        "     node = self.head\n",
        "     while node is not None:\n",
        "       print(node.data)\n",
        "       node = node.next"
      ],
      "execution_count": 2,
      "outputs": []
    },
    {
      "cell_type": "code",
      "metadata": {
        "id": "EhRzb7AVL2Jx"
      },
      "source": [
        "linked_list = LinkedList()"
      ],
      "execution_count": 3,
      "outputs": []
    },
    {
      "cell_type": "code",
      "metadata": {
        "id": "hy_ytO0gMNEJ"
      },
      "source": [
        "first_node = Node(\"monday\")\n",
        "second_node = Node(\"tuesday\")\n",
        "third_node = Node(\"wednesday\")"
      ],
      "execution_count": 4,
      "outputs": []
    },
    {
      "cell_type": "code",
      "metadata": {
        "id": "jY-ngBTaMSe2"
      },
      "source": [
        "linked_list.head = first_node\n",
        "first_node.next = second_node\n",
        "second_node.next = third_node"
      ],
      "execution_count": 5,
      "outputs": []
    },
    {
      "cell_type": "code",
      "metadata": {
        "colab": {
          "base_uri": "https://localhost:8080/"
        },
        "id": "vlBcpil1OWco",
        "outputId": "94584f08-85bb-4af0-ef11-14d0c743ebe8"
      },
      "source": [
        "linked_list.printLinkedList()"
      ],
      "execution_count": 6,
      "outputs": [
        {
          "output_type": "stream",
          "text": [
            "monday\n",
            "tuesday\n",
            "wednesday\n"
          ],
          "name": "stdout"
        }
      ]
    },
    {
      "cell_type": "markdown",
      "metadata": {
        "id": "yk5eMsMwPq66"
      },
      "source": [
        "We can also create an `__iter__` to add the same behavior to linked lists that you would expect from a normal list:"
      ]
    },
    {
      "cell_type": "code",
      "metadata": {
        "id": "I-JfXElDPv-X"
      },
      "source": [
        "class Node:\n",
        "   def __init__(self, dataval=None):\n",
        "      self.data = dataval\n",
        "      self.next = None\n",
        "\n",
        "class LinkedList:\n",
        "   def __init__(self):\n",
        "      # The first node is called the head, and it’s used as the starting point \n",
        "      # for any iteration through the list\n",
        "      self.head = None\n",
        "   \n",
        "   def __iter__(self):\n",
        "     # Get the first node (head) to start the iteration through the list\n",
        "     # and not \"move\" self.head\n",
        "     node = self.head\n",
        "     while node is not None:\n",
        "       yield node.data\n",
        "       node = node.next"
      ],
      "execution_count": 7,
      "outputs": []
    },
    {
      "cell_type": "code",
      "metadata": {
        "id": "96HnncUTP7_2"
      },
      "source": [
        "linked_list = LinkedList()\n",
        "\n",
        "first_node = Node(\"monday\")\n",
        "second_node = Node(\"tuesday\")\n",
        "third_node = Node(\"wednesday\")\n",
        "\n",
        "linked_list.head = first_node\n",
        "first_node.next = second_node\n",
        "second_node.next = third_node"
      ],
      "execution_count": 8,
      "outputs": []
    },
    {
      "cell_type": "code",
      "metadata": {
        "colab": {
          "base_uri": "https://localhost:8080/"
        },
        "id": "VUFl1C6cQB26",
        "outputId": "d1df04ad-453f-4a3e-fc4d-1da2c48ac6b4"
      },
      "source": [
        "for element in linked_list:\n",
        "  print(element)"
      ],
      "execution_count": 9,
      "outputs": [
        {
          "output_type": "stream",
          "text": [
            "monday\n",
            "tuesday\n",
            "wednesday\n"
          ],
          "name": "stdout"
        }
      ]
    },
    {
      "cell_type": "markdown",
      "metadata": {
        "id": "Us6J5CVQTz9o"
      },
      "source": [
        "If we want to perform the following functionallity:\n",
        "```\n",
        "my_linked_list = LinkedList([\"a\", \"b\", \"c\", \"d\", \"e\"])\n",
        "```\n",
        "allowing you to quickly create linked lists with some data, we have to do it in the `__init__` method."
      ]
    },
    {
      "cell_type": "code",
      "metadata": {
        "id": "mc4uNHZ2URD5"
      },
      "source": [
        "class LinkedList:\n",
        "   def __init__(self, values=None):\n",
        "      # The first node is called the head, and it’s used as the starting point \n",
        "      # for any iteration through the list\n",
        "      self.head = None\n",
        "\n",
        "      if values is None:\n",
        "        return\n",
        "\n",
        "      # Take the first value from the list, create a node and\n",
        "      # initialize the linked list with the head pointing to this node\n",
        "      value = values.pop(0)\n",
        "      node = Node(value)\n",
        "      self.head = node\n",
        "      \n",
        "      for value in values:\n",
        "          # insert the new node          \n",
        "          node.next = Node(value)\n",
        "          # update the reference to the last inserted node\n",
        "          node = node.next\n",
        "\n",
        "   def __iter__(self):\n",
        "     # Get the first node (head) to start the iteration through the list\n",
        "     node = self.head\n",
        "     while node is not None:\n",
        "       yield node.data\n",
        "       node = node.next"
      ],
      "execution_count": 10,
      "outputs": []
    },
    {
      "cell_type": "code",
      "metadata": {
        "id": "PrTfd0-HUaJI",
        "colab": {
          "base_uri": "https://localhost:8080/"
        },
        "outputId": "64ca67b9-4940-4c49-a515-0b6bfcc9f14d"
      },
      "source": [
        "my_linked_list = LinkedList([\"a\", \"b\", \"c\", \"d\", \"e\"])\n",
        "for element in my_linked_list:\n",
        "  print(element)"
      ],
      "execution_count": 11,
      "outputs": [
        {
          "output_type": "stream",
          "text": [
            "a\n",
            "b\n",
            "c\n",
            "d\n",
            "e\n"
          ],
          "name": "stdout"
        }
      ]
    },
    {
      "cell_type": "code",
      "metadata": {
        "id": "Vsc4um6HVSOH"
      },
      "source": [
        "class LinkedList:\n",
        "   def __init__(self, values=None):\n",
        "      # The first node is called the head, and it’s used as the starting point \n",
        "      # for any iteration through the list\n",
        "      self.head = None\n",
        "\n",
        "      if values is None:\n",
        "        return\n",
        "\n",
        "      # Take the first value from the list, create a node and\n",
        "      # initialize the linked list with the head pointing to this node\n",
        "      value = values.pop(0)\n",
        "      node = Node(value)\n",
        "      self.head = node\n",
        "      \n",
        "      for value in values:\n",
        "          # insert the new node          \n",
        "          node.next = Node(value)\n",
        "          # update the reference to the last inserted node\n",
        "          node = node.next\n",
        "\n",
        "   def __iter__(self):\n",
        "     # Get the first node (head) to start the iteration through the list\n",
        "     node = self.head\n",
        "     while node is not None:\n",
        "       yield node.data\n",
        "       node = node.next\n",
        "  \n",
        "   def add_first(self, value):\n",
        "     node = Node(value)\n",
        "     node.next = self.head\n",
        "     self.head = node\n",
        "   \n",
        "   def add_last(self, value):\n",
        "     new_node = Node(value)\n",
        "     # if the list is empty, self.head is None\n",
        "     if self.head is None:\n",
        "       self.head = new_node\n",
        "       return      \n",
        "     node = self.head     \n",
        "     # We want to find the last element (node.next is None)\n",
        "     while node.next is not None:\n",
        "       node = node.next\n",
        "     node.next = new_node\n",
        "  \n",
        "   def add_after(self, target_value, new_value):      \n",
        "      if self.head is None:\n",
        "        raise Exception(\"List is empty\")\n",
        "      \n",
        "      # Iterate until we found the required node\n",
        "      node = self.head\n",
        "      while node is not None:\n",
        "        if node.data == target_value:\n",
        "          break\n",
        "        node = node.next\n",
        "      \n",
        "      # Check if the node is not the last one (so required node not found)\n",
        "      if node is not None:\n",
        "        new_node = Node(new_value)\n",
        "        new_node.next = node.next\n",
        "        node.next = new_node\n",
        "      else:\n",
        "        raise Exception(\"Node with data '%s' not found\" % target_value)\n",
        "\n",
        "   def add_before(self, target_value, new_value):\n",
        "      if self.head is None:\n",
        "        raise Exception(\"List is empty\")\n",
        "      \n",
        "      # Also check if we want to add before the firt element:\n",
        "      if self.head.data == target_value:\n",
        "        new_node = Node(new_value)\n",
        "        new_node.next = self.head\n",
        "        self.head = new_node\n",
        "        return\n",
        "      \n",
        "      # Iterate until we found the required node\n",
        "      node = self.head\n",
        "      next_node = node.next\n",
        "\n",
        "      while next_node is not None:\n",
        "        if next_node.data == target_value:\n",
        "          break\n",
        "        node = next_node      \n",
        "        next_node = next_node.next        \n",
        "      \n",
        "      if node.next is None:\n",
        "        raise Exception(\"Node with data '%s' not found\" % target_value)\n",
        "      \n",
        "      new_node = Node(new_value)\n",
        "      # option 1:\n",
        "      # new_node.next = node.next\n",
        "      # option 2: we can also perform the following:\n",
        "      new_node.next = next_node      \n",
        "      node.next = new_node     \n"
      ],
      "execution_count": 20,
      "outputs": []
    },
    {
      "cell_type": "code",
      "metadata": {
        "colab": {
          "base_uri": "https://localhost:8080/"
        },
        "id": "6ql1ArtJV72O",
        "outputId": "e3f320d7-09c2-4f5c-dcff-995bbc3828da"
      },
      "source": [
        "my_list = LinkedList([4])\n",
        "my_list.add_first(3)\n",
        "my_list.add_first(2)\n",
        "my_list.add_first(1)\n",
        "my_list.add_last(5)\n",
        "for element in my_list:\n",
        "  print(element)\n",
        "print(\"\")\n",
        "my_list = LinkedList()\n",
        "my_list.add_last(1)\n",
        "my_list.add_last(2)\n",
        "for element in my_list:\n",
        "  print(element)"
      ],
      "execution_count": 13,
      "outputs": [
        {
          "output_type": "stream",
          "text": [
            "1\n",
            "2\n",
            "3\n",
            "4\n",
            "5\n",
            "\n",
            "1\n",
            "2\n"
          ],
          "name": "stdout"
        }
      ]
    },
    {
      "cell_type": "code",
      "metadata": {
        "colab": {
          "base_uri": "https://localhost:8080/"
        },
        "id": "vizCTVN4cXZu",
        "outputId": "54bbc545-1220-46a4-efb6-e5314a84b25b"
      },
      "source": [
        "my_list.add_after(1,3)\n",
        "for element in my_list:\n",
        "  print(element)\n",
        "\n",
        "# This line raises an Exception\n",
        "try:\n",
        "  my_list.add_after(10,3)\n",
        "except:\n",
        "  print(\"value not found\")"
      ],
      "execution_count": 14,
      "outputs": [
        {
          "output_type": "stream",
          "text": [
            "1\n",
            "3\n",
            "2\n",
            "value not found\n"
          ],
          "name": "stdout"
        }
      ]
    },
    {
      "cell_type": "code",
      "metadata": {
        "colab": {
          "base_uri": "https://localhost:8080/"
        },
        "id": "lJg9HsRlxDyC",
        "outputId": "007b3dc4-2626-42d7-a89f-bdb4c60a0670"
      },
      "source": [
        "my_list = LinkedList([1,2,3,4,5,6])\n",
        "my_list.add_before(1,10)\n",
        "my_list.add_before(6,9)\n",
        "try:\n",
        "  my_list.add_before(11,9)\n",
        "except:\n",
        "  print(\"element does not exist\")"
      ],
      "execution_count": 18,
      "outputs": [
        {
          "output_type": "stream",
          "text": [
            "element does not exist\n"
          ],
          "name": "stdout"
        }
      ]
    },
    {
      "cell_type": "code",
      "metadata": {
        "colab": {
          "base_uri": "https://localhost:8080/"
        },
        "id": "dp6v8u2HxMeA",
        "outputId": "2f75c6ee-150e-4f8c-92a6-271f98933568"
      },
      "source": [
        "for element in my_list:\n",
        "  print(element)"
      ],
      "execution_count": 19,
      "outputs": [
        {
          "output_type": "stream",
          "text": [
            "10\n",
            "1\n",
            "2\n",
            "3\n",
            "4\n",
            "5\n",
            "9\n",
            "6\n"
          ],
          "name": "stdout"
        }
      ]
    },
    {
      "cell_type": "code",
      "metadata": {
        "id": "qgVwK_cETFxI"
      },
      "source": [
        "class LinkedList:\n",
        "   def __init__(self, values=None):\n",
        "      # The first node is called the head, and it’s used as the starting point \n",
        "      # for any iteration through the list\n",
        "      self.head = None\n",
        "\n",
        "      if values is None:\n",
        "        return\n",
        "\n",
        "      # Take the first value from the list, create a node and\n",
        "      # initialize the linked list with the head pointing to this node\n",
        "      value = values.pop(0)\n",
        "      node = Node(value)\n",
        "      self.head = node\n",
        "      \n",
        "      for value in values:\n",
        "          # insert the new node          \n",
        "          node.next = Node(value)\n",
        "          # update the reference to the last inserted node\n",
        "          node = node.next\n",
        "\n",
        "   def __iter__(self):\n",
        "     # Get the first node (head) to start the iteration through the list\n",
        "     node = self.head\n",
        "     while node is not None:\n",
        "       yield node.data\n",
        "       node = node.next\n",
        "\n",
        "   def remove_node(self, target_node_data):\n",
        "     # Get the first node (head) to start the iteration through the list\n",
        "\n",
        "     if self.head is None:\n",
        "        raise Exception(\"List is empty\")\n",
        "      \n",
        "     if self.head.data == target_node_data:\n",
        "       self.head = self.head.next\n",
        "       return\n",
        "\n",
        "     node = self.head\n",
        "     next_node = node.next\n",
        "\n",
        "     while next_node is not None:\n",
        "       if next_node.data == target_node_data:\n",
        "         break      \n",
        "       node = next_node\n",
        "       next_node = next_node.next\n",
        "    \n",
        "     node.next = next_node.next"
      ],
      "execution_count": 30,
      "outputs": []
    },
    {
      "cell_type": "code",
      "metadata": {
        "colab": {
          "base_uri": "https://localhost:8080/"
        },
        "id": "4f3DpvCSULL3",
        "outputId": "d00a39d6-3712-4822-8216-297ed022a653"
      },
      "source": [
        "my_list = LinkedList([1,2,3,4,5,6])\n",
        "my_list.remove_node(1)\n",
        "for element in my_list:\n",
        "  print(element)"
      ],
      "execution_count": 32,
      "outputs": [
        {
          "output_type": "stream",
          "text": [
            "2\n",
            "3\n",
            "4\n",
            "5\n",
            "6\n"
          ],
          "name": "stdout"
        }
      ]
    },
    {
      "cell_type": "code",
      "metadata": {
        "id": "Ozk1OeKBVpi4"
      },
      "source": [
        "class LinkedList:\n",
        "   def __init__(self, values=None):\n",
        "      # The first node is called the head, and it’s used as the starting point \n",
        "      # for any iteration through the list\n",
        "      self.head = None\n",
        "\n",
        "      if values is None:\n",
        "        return\n",
        "\n",
        "      # Take the first value from the list, create a node and\n",
        "      # initialize the linked list with the head pointing to this node\n",
        "      value = values.pop(0)\n",
        "      node = Node(value)\n",
        "      self.head = node\n",
        "      \n",
        "      for value in values:\n",
        "          # insert the new node          \n",
        "          node.next = Node(value)\n",
        "          # update the reference to the last inserted node\n",
        "          node = node.next\n",
        "\n",
        "   def __iter__(self):\n",
        "     # Get the first node (head) to start the iteration through the list\n",
        "     node = self.head\n",
        "     while node is not None:\n",
        "       yield node.data\n",
        "       node = node.next\n",
        "  \n",
        "   def reverse(self):\n",
        "     prev = None\n",
        "     current = self.head\n",
        "     while current is not None:\n",
        "       next = current.next\n",
        "       current.next = prev\n",
        "       prev = current\n",
        "       current = next\n",
        "     self.head = prev\n",
        "  \n",
        "   def printList(self):\n",
        "     temp = self.head\n",
        "     while temp is not None:\n",
        "       print(temp.data)\n",
        "       temp = temp.next"
      ],
      "execution_count": 99,
      "outputs": []
    },
    {
      "cell_type": "code",
      "metadata": {
        "colab": {
          "base_uri": "https://localhost:8080/"
        },
        "id": "BSQrzKBrXWPg",
        "outputId": "68eb01eb-ac19-47c1-9564-7211254a3e3b"
      },
      "source": [
        "my_list = LinkedList([1,2,3,4,5,6])\n",
        "my_list.reverse()\n",
        "my_list.printList()"
      ],
      "execution_count": 98,
      "outputs": [
        {
          "output_type": "stream",
          "text": [
            "6\n",
            "5\n",
            "4\n",
            "3\n",
            "2\n",
            "1\n"
          ],
          "name": "stdout"
        }
      ]
    },
    {
      "cell_type": "markdown",
      "metadata": {
        "id": "ocJX2WCQZmQ7"
      },
      "source": [
        "[Continue](https://realpython.com/linked-lists-python/#implementing-your-own-linked-list)....\n",
        "\n",
        "[Continue](https://www.tutorialspoint.com/python_data_structure/python_linked_lists.htm)...\n",
        "\n",
        "[Continue](https://leetcode.com/problems/intersection-of-two-linked-lists/)...\n",
        "\n",
        "[Continue](https://www.geeksforgeeks.org/python-program-for-reverse-a-linked-list/)..."
      ]
    }
  ]
}