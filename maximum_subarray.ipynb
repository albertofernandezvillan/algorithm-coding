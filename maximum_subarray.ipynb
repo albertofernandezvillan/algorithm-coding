{
  "nbformat": 4,
  "nbformat_minor": 0,
  "metadata": {
    "colab": {
      "name": "maximum_subarray.ipynb",
      "provenance": [],
      "collapsed_sections": [],
      "authorship_tag": "ABX9TyNW5lD2G0CLLy0pAyvkd6a6",
      "include_colab_link": true
    },
    "kernelspec": {
      "name": "python3",
      "display_name": "Python 3"
    },
    "language_info": {
      "name": "python"
    }
  },
  "cells": [
    {
      "cell_type": "markdown",
      "metadata": {
        "id": "view-in-github",
        "colab_type": "text"
      },
      "source": [
        "<a href=\"https://colab.research.google.com/github/albertofernandezvillan/algorithm-coding/blob/main/maximum_subarray.ipynb\" target=\"_parent\"><img src=\"https://colab.research.google.com/assets/colab-badge.svg\" alt=\"Open In Colab\"/></a>"
      ]
    },
    {
      "cell_type": "markdown",
      "metadata": {
        "id": "YVgh4z6EAWEM"
      },
      "source": [
        "# Maximum Subarray\n",
        "\n",
        "Given an integer array `nums`, find the contiguous subarray (containing at least one number) which has the largest sum and return its sum.\n",
        "\n",
        "```\n",
        "Input: nums = [-2,1,-3,4,-1,2,1,-5,4]\n",
        "Output: 6\n",
        "Explanation: [4,-1,2,1] has the largest sum = 6.\n",
        "```\n",
        "```\n",
        "Input: nums = [1]\n",
        "Output: 1\n",
        "```\n",
        "```\n",
        "Input: nums = [5,4,-1,7,8]\n",
        "Output: 23\n",
        "```"
      ]
    },
    {
      "cell_type": "code",
      "metadata": {
        "id": "BAdCjASmAT1U"
      },
      "source": [
        "class Solution(object):\n",
        "    def maxSubArray(self, nums):\n",
        "        \"\"\"\n",
        "        :type nums: List[int]\n",
        "        :rtype: int\n",
        "        \"\"\""
      ],
      "execution_count": null,
      "outputs": []
    },
    {
      "cell_type": "code",
      "metadata": {
        "id": "9TvMGYRMAq7h"
      },
      "source": [
        "class Solution(object):\n",
        "    def maxSubArray(self, nums):\n",
        "        \"\"\"\n",
        "        :type nums: List[int]\n",
        "        :rtype: int\n",
        "        \"\"\"\n",
        "        n = len(nums)\n",
        "\n",
        "        curr_sum = 0\n",
        "        max_sum = -1000000\n",
        "\n",
        "        for i in range(n):\n",
        "          curr_sum += nums[i]\n",
        "\n",
        "          if curr_sum > max_sum:\n",
        "            max_sum = curr_sum\n",
        "\n",
        "          if curr_sum < 0:\n",
        "            curr_sum = 0\n",
        "            \n",
        "        return max_sum"
      ],
      "execution_count": 1,
      "outputs": []
    },
    {
      "cell_type": "code",
      "metadata": {
        "colab": {
          "base_uri": "https://localhost:8080/"
        },
        "id": "24KLphhXDqut",
        "outputId": "1cdbaae9-4fdd-4939-a4a6-dbed493fd50e"
      },
      "source": [
        "sol = Solution()\n",
        "print(sol.maxSubArray([5,4,-1,7,8]))"
      ],
      "execution_count": 3,
      "outputs": [
        {
          "output_type": "stream",
          "text": [
            "23\n"
          ],
          "name": "stdout"
        }
      ]
    },
    {
      "cell_type": "markdown",
      "metadata": {
        "id": "gv4zgNAZGBR2"
      },
      "source": [
        "Follow up: If you have figured out the `O(n)` solution, try coding another solution using the divide and conquer approach, which is more subtle."
      ]
    }
  ]
}