{
  "nbformat": 4,
  "nbformat_minor": 0,
  "metadata": {
    "colab": {
      "name": "linked_list_cycle.ipynb",
      "provenance": [],
      "collapsed_sections": [],
      "authorship_tag": "ABX9TyOK0V+AusBgvtUAv8ay95Up",
      "include_colab_link": true
    },
    "kernelspec": {
      "name": "python3",
      "display_name": "Python 3"
    },
    "language_info": {
      "name": "python"
    }
  },
  "cells": [
    {
      "cell_type": "markdown",
      "metadata": {
        "id": "view-in-github",
        "colab_type": "text"
      },
      "source": [
        "<a href=\"https://colab.research.google.com/github/albertofernandezvillan/algorithm-coding/blob/main/linked_list_cycle.ipynb\" target=\"_parent\"><img src=\"https://colab.research.google.com/assets/colab-badge.svg\" alt=\"Open In Colab\"/></a>"
      ]
    },
    {
      "cell_type": "markdown",
      "metadata": {
        "id": "lfTENhOjNgCu"
      },
      "source": [
        "# Linked List Cycle\n",
        "\n",
        "Given `head`, the head of a linked list, determine if the linked list has a cycle in it.\n",
        "\n",
        "There is a cycle in a linked list if there is some node in the list that can be reached again by continuously following the `next` pointer. Internally, `pos` is used to denote the index of the node that tail's `next` pointer is connected to. **Note that `pos` is not passed as a parameter**.\n",
        "\n",
        "Return `true` if there is a cycle in the linked list. Otherwise, return `false`.\n",
        "\n",
        "Example: There is a cycle in the linked list, where the tail connects to the 1st node (0-indexed).\n",
        "<img src=\"https://assets.leetcode.com/uploads/2018/12/07/circularlinkedlist.png\">\n",
        "\n",
        "```\n",
        "# Definition for singly-linked list.\n",
        "# class ListNode(object):\n",
        "#     def __init__(self, x):\n",
        "#         self.val = x\n",
        "#         self.next = None\n",
        "\n",
        "class Solution(object):\n",
        "    def hasCycle(self, head):\n",
        "        \"\"\"\n",
        "        :type head: ListNode\n",
        "        :rtype: bool\n",
        "        \"\"\"\n",
        "```"
      ]
    },
    {
      "cell_type": "code",
      "metadata": {
        "id": "VE7o-qMAOKDA"
      },
      "source": [
        "# Definition for singly-linked list.\n",
        "class ListNode(object):\n",
        "     def __init__(self, x):\n",
        "         self.val = x\n",
        "         self.next = None\n",
        " \n",
        "class Solution(object):\n",
        "    def printList(self, head):\n",
        "      # MAX_ITERATIONS is just a workaround to print a list with cycles\n",
        "      # as this function is just for debugging purposes it is OK\n",
        "      MAX_ITERATIONS = 10\n",
        "      node = head\n",
        "      iterations = 0\n",
        "      while node is not None and iterations < MAX_ITERATIONS:\n",
        "        print(node.val)\n",
        "        node = node.next\n",
        "        iterations += 1\n",
        "\n",
        "    def hasCycle(self, head):\n",
        "        \"\"\"\n",
        "        :type head: ListNode\n",
        "        :rtype: bool\n",
        "        \"\"\"\n",
        "        # Use a dictionary/hash table to track the visited nodes\n",
        "        # If we arrive a node that has been visited, there is a cycle   \n",
        "        visited = {}\n",
        "        node = head\n",
        "\n",
        "        while node is not None:\n",
        "          if visited.get(node) is not None:\n",
        "            return True\n",
        "          \n",
        "          visited[node] = True\n",
        "          node = node.next\n",
        "        \n",
        "        return False"
      ],
      "execution_count": null,
      "outputs": []
    },
    {
      "cell_type": "code",
      "metadata": {
        "colab": {
          "base_uri": "https://localhost:8080/"
        },
        "id": "F05LvvpgVPBi",
        "outputId": "2cda8710-2206-429b-face-66d132bc9311"
      },
      "source": [
        "# We create a list with three nodes and no cycles (1,2,3)\n",
        "node_1 = ListNode(1)\n",
        "node_2 = ListNode(2)\n",
        "node_3 = ListNode(3)\n",
        "\n",
        "node_1.next = node_2\n",
        "node_2.next = node_3\n",
        "\n",
        "# Print the list and test that has no cycles\n",
        "sol = Solution()\n",
        "sol.printList(node_1)\n",
        "sol.hasCycle(node_1)"
      ],
      "execution_count": null,
      "outputs": [
        {
          "output_type": "stream",
          "name": "stdout",
          "text": [
            "1\n",
            "2\n",
            "3\n"
          ]
        },
        {
          "output_type": "execute_result",
          "data": {
            "text/plain": [
              "False"
            ]
          },
          "metadata": {},
          "execution_count": 43
        }
      ]
    },
    {
      "cell_type": "code",
      "metadata": {
        "colab": {
          "base_uri": "https://localhost:8080/"
        },
        "id": "oVQTH2LzWJNl",
        "outputId": "6b5c6b34-a4b6-49d0-a100-e74078f4e057"
      },
      "source": [
        "# List with three nodes and a cycle (1,2,3) and node 3 points to node 1\n",
        "node_1 = ListNode(1)\n",
        "node_2 = ListNode(2)\n",
        "node_3 = ListNode(3)\n",
        "\n",
        "node_1.next = node_2\n",
        "node_2.next = node_3\n",
        "# Note the cycle here:\n",
        "node_3.next = node_1\n",
        "\n",
        "# Print the list and test that has cycles\n",
        "sol = Solution()\n",
        "sol.printList(node_1)\n",
        "sol.hasCycle(node_1)"
      ],
      "execution_count": 45,
      "outputs": [
        {
          "output_type": "stream",
          "name": "stdout",
          "text": [
            "1\n",
            "2\n",
            "3\n",
            "1\n",
            "2\n",
            "3\n",
            "1\n",
            "2\n",
            "3\n",
            "1\n"
          ]
        },
        {
          "output_type": "execute_result",
          "data": {
            "text/plain": [
              "True"
            ]
          },
          "metadata": {},
          "execution_count": 45
        }
      ]
    },
    {
      "cell_type": "markdown",
      "metadata": {
        "id": "y7qFNlPdYkhB"
      },
      "source": [
        "**Complexity**:\n",
        "* Time complexity is O(n)\n",
        "* Space is O(n)"
      ]
    },
    {
      "cell_type": "markdown",
      "metadata": {
        "id": "jcSHozvefKpX"
      },
      "source": [
        "Another approach is based on **Floyd's Cycle Detection Algorithm**, also known as **Floyd's Tortoise and Hare Algorithm**: if slow (tortoise) moves one step at a time and fast (hare) moves two steps and a time, if a cycle exists, they will eventually meet."
      ]
    },
    {
      "cell_type": "code",
      "metadata": {
        "id": "riUn_-YnbYlW"
      },
      "source": [
        "class Solution(object):\n",
        "    def printList(self, head):\n",
        "      # MAX_ITERATIONS is just a workaround to print a list with cycles\n",
        "      # as this function is just for debugging purposes it is OK\n",
        "      MAX_ITERATIONS = 10\n",
        "      node = head\n",
        "      iterations = 0\n",
        "      while node is not None and iterations < MAX_ITERATIONS:\n",
        "        print(node.val)\n",
        "        node = node.next\n",
        "        iterations += 1\n",
        "\n",
        "    def hasCycle(self, head):\n",
        "        \"\"\"\n",
        "        :type head: ListNode\n",
        "        :rtype: bool\n",
        "        \"\"\"\n",
        "        if head is None:\n",
        "          return False\n",
        "\n",
        "        slow = head\n",
        "        fast = head.next\n",
        "\n",
        "        while True:\n",
        "          # See that we have to check also fast.next because fast pointer\n",
        "          # moves two times in each iteration\n",
        "          if fast is None or fast.next is None:\n",
        "            return False\n",
        "         \n",
        "          # Check if both pointers are on the same node\n",
        "          if slow == fast:\n",
        "            return True\n",
        "          \n",
        "          # Move the pointers:\n",
        "          slow = slow.next\n",
        "          fast = fast.next.next"
      ],
      "execution_count": 52,
      "outputs": []
    },
    {
      "cell_type": "code",
      "metadata": {
        "colab": {
          "base_uri": "https://localhost:8080/"
        },
        "id": "uCT3Qv5ecKqw",
        "outputId": "05872f46-d3cd-436d-861d-544a88d0cfc2"
      },
      "source": [
        "# List with three nodes and a cycle (1,2,3) and node 3 points to node 1\n",
        "node_1 = ListNode(1)\n",
        "node_2 = ListNode(2)\n",
        "node_3 = ListNode(3)\n",
        "\n",
        "node_1.next = node_2\n",
        "node_2.next = node_3\n",
        "# Note the cycle here:\n",
        "node_3.next = node_1\n",
        "\n",
        "# Print the list and test that has cycles\n",
        "sol = Solution()\n",
        "sol.printList(node_1)\n",
        "sol.hasCycle(node_1)"
      ],
      "execution_count": 53,
      "outputs": [
        {
          "output_type": "stream",
          "name": "stdout",
          "text": [
            "1\n",
            "2\n",
            "3\n",
            "1\n",
            "2\n",
            "3\n",
            "1\n",
            "2\n",
            "3\n",
            "1\n"
          ]
        },
        {
          "output_type": "execute_result",
          "data": {
            "text/plain": [
              "True"
            ]
          },
          "metadata": {},
          "execution_count": 53
        }
      ]
    },
    {
      "cell_type": "markdown",
      "metadata": {
        "id": "Ct4oPP2YeX45"
      },
      "source": [
        "Similar to this approach, a \"trick\" is to not check all the time whether we have reached the end but to handle it via an exception. \"[Easier to ask for forgiveness than permission.](https://docs.python.org/3/glossary.html#term-eafp)\": \n",
        "\n",
        "**EAFP**: *Easier to ask for forgiveness than permission. This common Python coding style assumes the existence of valid keys or attributes and catches exceptions if the assumption proves false. This clean and fast style is characterized by the presence of many try and except statements. The technique contrasts with the LBYL style common to many other languages such as C.*\n",
        "\n",
        "Check [Except-ionally fast Python](https://leetcode.com/problems/linked-list-cycle/discuss/44494/Except-ionally-fast-Python) for futher details. "
      ]
    },
    {
      "cell_type": "code",
      "metadata": {
        "id": "naPGZxOQe6_R"
      },
      "source": [
        "def hasCycle(self, head):\n",
        "    try:\n",
        "        slow = head\n",
        "        fast = head.next\n",
        "        while slow is not fast:\n",
        "            slow = slow.next\n",
        "            fast = fast.next.next\n",
        "        return True\n",
        "    except:\n",
        "        return False"
      ],
      "execution_count": 54,
      "outputs": []
    }
  ]
}