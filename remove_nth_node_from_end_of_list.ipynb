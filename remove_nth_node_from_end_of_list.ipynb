{
  "nbformat": 4,
  "nbformat_minor": 0,
  "metadata": {
    "colab": {
      "name": "remove_nth_node_from_end_of_list.ipynb",
      "provenance": [],
      "collapsed_sections": [],
      "authorship_tag": "ABX9TyNvtS7KvlHPeaLFzzvpP5/u",
      "include_colab_link": true
    },
    "kernelspec": {
      "name": "python3",
      "display_name": "Python 3"
    },
    "language_info": {
      "name": "python"
    }
  },
  "cells": [
    {
      "cell_type": "markdown",
      "metadata": {
        "id": "view-in-github",
        "colab_type": "text"
      },
      "source": [
        "<a href=\"https://colab.research.google.com/github/albertofernandezvillan/algorithm-coding/blob/main/remove_nth_node_from_end_of_list.ipynb\" target=\"_parent\"><img src=\"https://colab.research.google.com/assets/colab-badge.svg\" alt=\"Open In Colab\"/></a>"
      ]
    },
    {
      "cell_type": "markdown",
      "metadata": {
        "id": "EZ9-yQ8diQSa"
      },
      "source": [
        "# Remove Nth Node From End of List\"\n",
        "\n",
        "Given the `head` of a linked list, remove the `nth` node from the end of the list and return its head.\n",
        "\n",
        "<img src=\"https://assets.leetcode.com/uploads/2020/10/03/remove_ex1.jpg\" width=400>\n",
        "\n",
        "```\n",
        "Example 1 (see fig above)\n",
        "Input: head = [1,2,3,4,5], n = 2\n",
        "Output: [1,2,3,5]\n",
        "\n",
        "Example 2:\n",
        "Input: head = [1], n = 1\n",
        "Output: []\n",
        "\n",
        "Example 3:\n",
        "Input: head = [1,2], n = 1\n",
        "Output: [1]\n",
        "\n",
        "Example 4:\n",
        "Input: head = [1,2], n=2\n",
        "Output: [2]\n",
        "```\n",
        "\n",
        "Seen here: https://leetcode.com/problems/remove-nth-node-from-end-of-list/"
      ]
    },
    {
      "cell_type": "code",
      "metadata": {
        "id": "sjyoUQcliPdJ"
      },
      "source": [
        "# Definition for singly-linked list.\n",
        "# class ListNode(object):\n",
        "#     def __init__(self, val=0, next=None):\n",
        "#         self.val = val\n",
        "#         self.next = next\n",
        "class Solution(object):\n",
        "    def removeNthFromEnd(self, head, n):\n",
        "        \"\"\"\n",
        "        :type head: ListNode\n",
        "        :type n: int\n",
        "        :rtype: ListNode\n",
        "        \"\"\""
      ],
      "execution_count": null,
      "outputs": []
    },
    {
      "cell_type": "code",
      "metadata": {
        "id": "IGs7Xf8Mi--s"
      },
      "source": [
        "# Definition for singly-linked list.\n",
        "class ListNode(object):\n",
        "    def __init__(self, val=0, next=None):\n",
        "        self.val = val\n",
        "        self.next = next\n",
        "        \n",
        "class Solution(object):\n",
        "    def printList(self, head):\n",
        "        node = head\n",
        "        while node is not None:\n",
        "          print(node.val)\n",
        "          node = node.next\n",
        "    \n",
        "    def getLength(self, head):\n",
        "      length = 0\n",
        "      node = head\n",
        "      while node is not None:\n",
        "        length += 1\n",
        "        node = node.next\n",
        "      return length\n",
        "\n",
        "    def removeNthFromEnd(self, head, n):\n",
        "        \"\"\"\n",
        "        :type head: ListNode\n",
        "        :type n: int\n",
        "        :rtype: ListNode\n",
        "        \"\"\"\n",
        "        # Get the index of the node to remove from the beginning \n",
        "        index_from_init = self.getLength(head) - n\n",
        "\n",
        "        curr_index = 0\n",
        "        node = head\n",
        "        prev_node = None \n",
        "\n",
        "        if index_from_init == 0:\n",
        "          # remove the node at head:\n",
        "          head = head.next\n",
        "          return head\n",
        "\n",
        "        # Iterate until we reach this node and \n",
        "        # save the reference of the previous node to be deleted\n",
        "        while curr_index < index_from_init:\n",
        "          prev_node = node\n",
        "          node = node.next\n",
        "          curr_index += 1\n",
        "        \n",
        "        # \"Delete\" the node:\n",
        "        prev_node.next = node.next\n",
        "\n",
        "        return head"
      ],
      "execution_count": 10,
      "outputs": []
    },
    {
      "cell_type": "code",
      "metadata": {
        "colab": {
          "base_uri": "https://localhost:8080/"
        },
        "id": "BmxZr3-NjIPx",
        "outputId": "09d06076-3d6d-49f2-c3cd-467383d8484e"
      },
      "source": [
        "myList = ListNode(1)\n",
        "myList = ListNode(1, ListNode(2, ListNode(3, ListNode(4, ListNode(5, None)))))\n",
        "myList = ListNode(1, ListNode(2))\n",
        "\n",
        "erase_index_from_end = 2\n",
        "\n",
        "sol = Solution()\n",
        "print(\"show the created list:\")\n",
        "sol.printList(myList)\n",
        "print(\"show the length:\")\n",
        "print(sol.getLength(myList))\n",
        "resultList = sol.removeNthFromEnd(myList, erase_index_from_end)\n",
        "print(\"Resulting list after removing\")\n",
        "sol.printList(resultList)"
      ],
      "execution_count": 9,
      "outputs": [
        {
          "output_type": "stream",
          "text": [
            "show the created list:\n",
            "1\n",
            "2\n",
            "show the length:\n",
            "2\n",
            "Resulting list after removing\n",
            "2\n"
          ],
          "name": "stdout"
        }
      ]
    },
    {
      "cell_type": "markdown",
      "metadata": {
        "id": "c2U8seZdyz3z"
      },
      "source": [
        "Previous approach is `O(N)` but performs two passes. However, this problem can be solved in one pass using two pointers. One pointer is called `fast` and it is moved `n` nodes before the other pointer - `slow` - starts moving. At this point, both pointers are moved at the same pace. We stop iterating then the `fast` pointer reaches the end.  Doing this will cause `slow` to reach the `n'th` node from the end at the same time that `fast` reaches the end. The node to be removed will be `slow.next`.\n",
        "\n"
      ]
    },
    {
      "cell_type": "code",
      "metadata": {
        "id": "rm2jlY12z4BG"
      },
      "source": [
        "# Definition for singly-linked list.\n",
        "class ListNode(object):\n",
        "    def __init__(self, val=0, next=None):\n",
        "        self.val = val\n",
        "        self.next = next\n",
        "        \n",
        "class Solution(object):\n",
        "    def printList(self, head):\n",
        "        node = head\n",
        "        while node is not None:\n",
        "          print(node.val)\n",
        "          node = node.next\n",
        "    \n",
        "    def getLength(self, head):\n",
        "      length = 0\n",
        "      node = head\n",
        "      while node is not None:\n",
        "        length += 1\n",
        "        node = node.next\n",
        "      return length\n",
        "\n",
        "    def removeNthFromEnd(self, head, n):\n",
        "        \"\"\"\n",
        "        :type head: ListNode\n",
        "        :type n: int\n",
        "        :rtype: ListNode\n",
        "        \"\"\"\n",
        "        fast = slow = head\n",
        "\n",
        "        # Move fast pointer n times\n",
        "        for _ in range(n):\n",
        "          fast = fast.next \n",
        "        \n",
        "        if fast is None: # This only happens if we want to remove node at head\n",
        "          head = head.next\n",
        "          return head  \n",
        "\n",
        "        # Move both pointers and the same time\n",
        "        while fast.next is not None:\n",
        "          fast = fast.next\n",
        "          slow = slow.next\n",
        "        \n",
        "        # Remove the corresponding node:\n",
        "        slow.next = slow.next.next\n",
        "        \n",
        "        return head"
      ],
      "execution_count": 23,
      "outputs": []
    },
    {
      "cell_type": "code",
      "metadata": {
        "colab": {
          "base_uri": "https://localhost:8080/"
        },
        "id": "zQNXMTrA4mmP",
        "outputId": "4e2b63ac-4c3a-4850-b999-c0cc4c8de04f"
      },
      "source": [
        "myList = ListNode(1)\n",
        "myList = ListNode(1, ListNode(2))\n",
        "myList = ListNode(1, ListNode(2, ListNode(3, ListNode(4, ListNode(5, None)))))\n",
        "\n",
        "erase_index_from_end = 2\n",
        "\n",
        "sol = Solution()\n",
        "resultList = sol.removeNthFromEnd(myList, erase_index_from_end)\n",
        "\n",
        "sol.printList(resultList)"
      ],
      "execution_count": 27,
      "outputs": [
        {
          "output_type": "stream",
          "text": [
            "1\n",
            "2\n",
            "3\n",
            "5\n"
          ],
          "name": "stdout"
        }
      ]
    }
  ]
}