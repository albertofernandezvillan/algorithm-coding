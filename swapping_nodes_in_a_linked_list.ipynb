{
  "nbformat": 4,
  "nbformat_minor": 0,
  "metadata": {
    "colab": {
      "name": "swapping_nodes_in_a_linked_list.ipynb",
      "provenance": [],
      "collapsed_sections": [],
      "authorship_tag": "ABX9TyPnS0sp6ALbEwR3xzgT1WU6",
      "include_colab_link": true
    },
    "kernelspec": {
      "name": "python3",
      "display_name": "Python 3"
    },
    "language_info": {
      "name": "python"
    }
  },
  "cells": [
    {
      "cell_type": "markdown",
      "metadata": {
        "id": "view-in-github",
        "colab_type": "text"
      },
      "source": [
        "<a href=\"https://colab.research.google.com/github/albertofernandezvillan/algorithm-coding/blob/main/swapping_nodes_in_a_linked_list.ipynb\" target=\"_parent\"><img src=\"https://colab.research.google.com/assets/colab-badge.svg\" alt=\"Open In Colab\"/></a>"
      ]
    },
    {
      "cell_type": "markdown",
      "metadata": {
        "id": "1CAbiPT_9Bn5"
      },
      "source": [
        "# Swapping Nodes in a Linked List\n",
        "\n",
        "You are given the head of a linked list, and an integer `k`. Return the head of the linked list after swapping the values of the `kth` node from the beginning and the `kth` node from the end (the list is 1-indexed).\n",
        "\n",
        "<img src=\"https://assets.leetcode.com/uploads/2020/09/21/linked1.jpg\" width=400>\n",
        "\n",
        "```\n",
        "Example 1:\n",
        "Input: head = [1,2,3,4,5], k = 2\n",
        "Output: [1,4,3,2,5]\n",
        "\n",
        "Example 2:\n",
        "Input: head = [7,9,6,6,7,8,3,0,9,5], k = 5\n",
        "Output: [7,9,6,6,8,7,3,0,9,5]\n",
        "\n",
        "Example 3:\n",
        "Input: head = [1], k = 1\n",
        "Output: [1]\n",
        "\n",
        "Example 4:\n",
        "Input: head = [1,2], k = 1\n",
        "Output: [2,1]\n",
        "\n",
        "Example 5:\n",
        "Input: head = [1,2,3], k = 2\n",
        "Output: [1,2,3]\n",
        "```\n",
        "\n",
        "\n",
        "\n",
        "\n",
        "Seen here: https://leetcode.com/problems/swapping-nodes-in-a-linked-list/"
      ]
    },
    {
      "cell_type": "code",
      "metadata": {
        "id": "y1eLYtta9k0C"
      },
      "source": [
        "# Definition for singly-linked list.\n",
        "# class ListNode(object):\n",
        "#     def __init__(self, val=0, next=None):\n",
        "#         self.val = val\n",
        "#         self.next = next\n",
        "class Solution(object):\n",
        "    def swapNodes(self, head, k):\n",
        "        \"\"\"\n",
        "        :type head: ListNode\n",
        "        :type k: int\n",
        "        :rtype: ListNode\n",
        "        \"\"\""
      ],
      "execution_count": 2,
      "outputs": []
    },
    {
      "cell_type": "code",
      "metadata": {
        "id": "H3UVApeU9uyO"
      },
      "source": [
        "# Definition for singly-linked list.\n",
        "class ListNode(object):\n",
        "    def __init__(self, val=0, next=None):\n",
        "        self.val = val\n",
        "        self.next = next\n",
        "\n",
        "class Solution(object):\n",
        "    def printList(self, head):\n",
        "        node = head\n",
        "        while node is not None:\n",
        "          print(node.val)\n",
        "          node = node.next\n",
        "\n",
        "    def swapNodes(self, head, k):\n",
        "        \"\"\"\n",
        "        :type head: ListNode\n",
        "        :type k: int\n",
        "        :rtype: ListNode\n",
        "        \"\"\"\n",
        "\n",
        "        fast = slow = head\n",
        "        for _ in range(k-1):\n",
        "          fast = fast.next\n",
        "\n",
        "        # first points to the first node to be swapped:\n",
        "        first = fast\n",
        "\n",
        "        # slow will point (after iterating) to the second node to be swapped:\n",
        "        while fast.next is not None:\n",
        "          fast = fast.next\n",
        "          slow = slow.next\n",
        "        \n",
        "        # Swap values:\n",
        "        first.val, slow.val = slow.val, first.val\n",
        "\n",
        "        return head"
      ],
      "execution_count": 16,
      "outputs": []
    },
    {
      "cell_type": "code",
      "metadata": {
        "colab": {
          "base_uri": "https://localhost:8080/"
        },
        "id": "6jriLucL-z-m",
        "outputId": "06485c20-c0de-42a8-f91d-8ad95c01bee3"
      },
      "source": [
        "myList = ListNode(1, ListNode(2, ListNode(3, ListNode(4, ListNode(5, None)))))\n",
        "sol = Solution()\n",
        "resultList = sol.swapNodes(myList, 2)\n",
        "sol.printList(resultList)"
      ],
      "execution_count": 18,
      "outputs": [
        {
          "output_type": "stream",
          "name": "stdout",
          "text": [
            "1\n",
            "4\n",
            "3\n",
            "2\n",
            "5\n"
          ]
        }
      ]
    },
    {
      "cell_type": "markdown",
      "metadata": {
        "id": "2Bz_tVJIAOaD"
      },
      "source": [
        "Note that we are swapping the values of the two nodes instead of swapping the nodes. Having said that, this solution is considered correct by the platform and other approaches swap the values instead of the nodes. If we want to swap  the nodes instead of the values, we also need to store the address of previous nodes. See here for a Python implementation of this version: https://leetcode.com/problems/swapping-nodes-in-a-linked-list/discuss/1054370/Python-3-or-Swapping-NODES-or-Swapping-Values-or-One-Pass-or-Fully-explained"
      ]
    }
  ]
}