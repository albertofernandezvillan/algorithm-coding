{
  "nbformat": 4,
  "nbformat_minor": 0,
  "metadata": {
    "colab": {
      "name": "deepest_leaves_sum.ipynb",
      "provenance": [],
      "collapsed_sections": [],
      "authorship_tag": "ABX9TyOos8QUaBMceMmo0t2QSi+A",
      "include_colab_link": true
    },
    "kernelspec": {
      "name": "python3",
      "display_name": "Python 3"
    },
    "language_info": {
      "name": "python"
    }
  },
  "cells": [
    {
      "cell_type": "markdown",
      "metadata": {
        "id": "view-in-github",
        "colab_type": "text"
      },
      "source": [
        "<a href=\"https://colab.research.google.com/github/albertofernandezvillan/algorithm-coding/blob/main/deepest_leaves_sum.ipynb\" target=\"_parent\"><img src=\"https://colab.research.google.com/assets/colab-badge.svg\" alt=\"Open In Colab\"/></a>"
      ]
    },
    {
      "cell_type": "markdown",
      "metadata": {
        "id": "-OUwiJaGOjvs"
      },
      "source": [
        "# Deepest Leaves Sum\n",
        "\n",
        "Given the root of a binary tree, return the sum of values of its deepest leaves.\n",
        "\n",
        "<img src=\"https://assets.leetcode.com/uploads/2019/07/31/1483_ex1.png\" width=300>\n",
        "\n",
        "- Input: `root = [1,2,3,4,5,null,6,7,null,null,null,null,8]`\n",
        "- Output: `15`\n",
        "\n",
        "Seen here: https://leetcode.com/problems/deepest-leaves-sum/"
      ]
    },
    {
      "cell_type": "code",
      "metadata": {
        "id": "NSoXsVN5Nw1a"
      },
      "source": [
        "# Definition for a binary tree node.\n",
        "class TreeNode(object):\n",
        "     def __init__(self, val=0, left=None, right=None):\n",
        "         self.val = val\n",
        "         self.left = left\n",
        "         self.right = right"
      ],
      "execution_count": 1,
      "outputs": []
    },
    {
      "cell_type": "code",
      "metadata": {
        "id": "_z5YPqLMO60F"
      },
      "source": [
        "_7 = TreeNode(7)\n",
        "_8 = TreeNode(8)\n",
        "\n",
        "_4 = TreeNode(4, _7)\n",
        "_5 = TreeNode(5)\n",
        "_2 = TreeNode(2, _4, _5)\n",
        "\n",
        "_6 = TreeNode(6, None, _8)\n",
        "_3 = TreeNode(3, None, _6)\n",
        "\n",
        "root = TreeNode(1, _2, _3)"
      ],
      "execution_count": 7,
      "outputs": []
    },
    {
      "cell_type": "markdown",
      "metadata": {
        "id": "VifS-JUOQ2Mb"
      },
      "source": [
        "Maybe a simple approach, but, first of all, thet the max depth of the tree. In a second step, compute the sum required."
      ]
    },
    {
      "cell_type": "code",
      "metadata": {
        "id": "2bPn3dZsPY6M"
      },
      "source": [
        "class Solution(object):\n",
        "    # Solution     \n",
        "    ans = 0\n",
        "\n",
        "    def maxDepth(self, root):\n",
        "        \"\"\"\n",
        "        :type root: TreeNode\n",
        "        :rtype: int\n",
        "        \"\"\"        \n",
        "        if root == None:\n",
        "          return 0\n",
        "\n",
        "        left = root.left\n",
        "        right = root.right\n",
        "\n",
        "        maxDepthSubTree = max(self.maxDepth(left), self.maxDepth(right))\n",
        "        return maxDepthSubTree + 1\n",
        "    \n",
        "    def deepestLeavesSum(self, root, d):\n",
        "        \"\"\"\n",
        "        :type root: TreeNode\n",
        "        :rtype: int\n",
        "        \"\"\"\n",
        "        if root == None: return\n",
        "        if d == depth:\n",
        "          self.ans += root.val\n",
        "        self.deepestLeavesSum(root.right, d+1)  \n",
        "        self.deepestLeavesSum(root.left, d+1)\n",
        "        return self.ans"
      ],
      "execution_count": 68,
      "outputs": []
    },
    {
      "cell_type": "code",
      "metadata": {
        "id": "HjJ6ogwSPZ5i"
      },
      "source": [
        "sol = Solution()\n",
        "depth = sol.maxDepth(root)"
      ],
      "execution_count": 69,
      "outputs": []
    },
    {
      "cell_type": "code",
      "metadata": {
        "colab": {
          "base_uri": "https://localhost:8080/"
        },
        "id": "puILQPu9Vbkw",
        "outputId": "ba93bb05-6bd1-4dd8-840b-687350d6376e"
      },
      "source": [
        "print(depth)"
      ],
      "execution_count": 70,
      "outputs": [
        {
          "output_type": "stream",
          "text": [
            "4\n"
          ],
          "name": "stdout"
        }
      ]
    },
    {
      "cell_type": "code",
      "metadata": {
        "colab": {
          "base_uri": "https://localhost:8080/"
        },
        "id": "FvMG4_CGVXdh",
        "outputId": "8c080abf-8605-48ca-fd66-3a084b2fa6a5"
      },
      "source": [
        "sol.deepestLeavesSum(root, 1)"
      ],
      "execution_count": 71,
      "outputs": [
        {
          "output_type": "execute_result",
          "data": {
            "text/plain": [
              "15"
            ]
          },
          "metadata": {
            "tags": []
          },
          "execution_count": 71
        }
      ]
    }
  ]
}