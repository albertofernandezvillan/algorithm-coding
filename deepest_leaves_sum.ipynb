{
  "nbformat": 4,
  "nbformat_minor": 0,
  "metadata": {
    "colab": {
      "name": "deepest_leaves_sum.ipynb",
      "provenance": [],
      "collapsed_sections": [],
      "authorship_tag": "ABX9TyNc8WonI6crqIAzqcOv0Thd",
      "include_colab_link": true
    },
    "kernelspec": {
      "name": "python3",
      "display_name": "Python 3"
    },
    "language_info": {
      "name": "python"
    }
  },
  "cells": [
    {
      "cell_type": "markdown",
      "metadata": {
        "id": "view-in-github",
        "colab_type": "text"
      },
      "source": [
        "<a href=\"https://colab.research.google.com/github/albertofernandezvillan/algorithm-coding/blob/main/deepest_leaves_sum.ipynb\" target=\"_parent\"><img src=\"https://colab.research.google.com/assets/colab-badge.svg\" alt=\"Open In Colab\"/></a>"
      ]
    },
    {
      "cell_type": "markdown",
      "metadata": {
        "id": "-OUwiJaGOjvs"
      },
      "source": [
        "# Deepest Leaves Sum\n",
        "\n",
        "Given the root of a binary tree, return the sum of values of its deepest leaves.\n",
        "\n",
        "<img src=\"https://assets.leetcode.com/uploads/2019/07/31/1483_ex1.png\" width=300>\n",
        "\n",
        "- Input: `root = [1,2,3,4,5,null,6,7,null,null,null,null,8]`\n",
        "- Output: `15`\n",
        "\n",
        "Seen here: https://leetcode.com/problems/deepest-leaves-sum/"
      ]
    },
    {
      "cell_type": "code",
      "metadata": {
        "id": "NSoXsVN5Nw1a"
      },
      "source": [
        "# Definition for a binary tree node.\n",
        "class TreeNode(object):\n",
        "     def __init__(self, val=0, left=None, right=None):\n",
        "         self.val = val\n",
        "         self.left = left\n",
        "         self.right = right"
      ],
      "execution_count": 1,
      "outputs": []
    },
    {
      "cell_type": "code",
      "metadata": {
        "id": "_z5YPqLMO60F"
      },
      "source": [
        "_7 = TreeNode(7)\n",
        "_8 = TreeNode(8)\n",
        "\n",
        "_4 = TreeNode(4, _7)\n",
        "_5 = TreeNode(5)\n",
        "_2 = TreeNode(2, _4, _5)\n",
        "\n",
        "_6 = TreeNode(6, None, _8)\n",
        "_3 = TreeNode(3, None, _6)\n",
        "\n",
        "root = TreeNode(1, _2, _3)"
      ],
      "execution_count": 2,
      "outputs": []
    },
    {
      "cell_type": "markdown",
      "metadata": {
        "id": "VifS-JUOQ2Mb"
      },
      "source": [
        "Maybe a simple approach in two stetps: \n",
        " 1. In the first step, get the max depth of the tree\n",
        " 2. In a second step, compute the sum required.\n"
      ]
    },
    {
      "cell_type": "code",
      "metadata": {
        "id": "2bPn3dZsPY6M"
      },
      "source": [
        "class Solution(object):\n",
        "    # Solution     \n",
        "    sum = 0\n",
        "\n",
        "    def maxDepth(self, root):\n",
        "        \"\"\"\n",
        "        :type root: TreeNode\n",
        "        :rtype: int\n",
        "        \"\"\"        \n",
        "        if root == None:\n",
        "          return 0\n",
        "\n",
        "        left = root.left\n",
        "        right = root.right\n",
        "\n",
        "        maxDepthSubTree = max(self.maxDepth(left), self.maxDepth(right)) + 1\n",
        "        return maxDepthSubTree\n",
        "    \n",
        "    def _deepestLeavesSum(self, root, d):\n",
        "        \"\"\"\n",
        "        :type root: TreeNode\n",
        "        :rtype: int\n",
        "        \"\"\"\n",
        "        if root == None: return\n",
        "        if d == depth:\n",
        "          self.sum += root.val\n",
        "        self._deepestLeavesSum(root.right, d+1)  \n",
        "        self._deepestLeavesSum(root.left, d+1)\n",
        "        return self.sum\n",
        "\n",
        "    def deepestLeavesSum(self, root):\n",
        "        \"\"\"\n",
        "        :type root: TreeNode\n",
        "        \"\"\"\n",
        "        return self._deepestLeavesSum(root, 1)       "
      ],
      "execution_count": 4,
      "outputs": []
    },
    {
      "cell_type": "code",
      "metadata": {
        "id": "HjJ6ogwSPZ5i"
      },
      "source": [
        "sol = Solution()\n",
        "depth = sol.maxDepth(root)"
      ],
      "execution_count": 5,
      "outputs": []
    },
    {
      "cell_type": "code",
      "metadata": {
        "colab": {
          "base_uri": "https://localhost:8080/"
        },
        "id": "puILQPu9Vbkw",
        "outputId": "ae130cad-d30a-4b5f-961d-ea6aace42da6"
      },
      "source": [
        "print(depth)"
      ],
      "execution_count": 6,
      "outputs": [
        {
          "output_type": "stream",
          "text": [
            "4\n"
          ],
          "name": "stdout"
        }
      ]
    },
    {
      "cell_type": "code",
      "metadata": {
        "colab": {
          "base_uri": "https://localhost:8080/"
        },
        "id": "FvMG4_CGVXdh",
        "outputId": "e43e4016-f25d-4f27-fcba-e57af6888759"
      },
      "source": [
        "sol.deepestLeavesSum(root)"
      ],
      "execution_count": 7,
      "outputs": [
        {
          "output_type": "execute_result",
          "data": {
            "text/plain": [
              "15"
            ]
          },
          "metadata": {
            "tags": []
          },
          "execution_count": 7
        }
      ]
    },
    {
      "cell_type": "markdown",
      "metadata": {
        "id": "TPxrtlzwTFJV"
      },
      "source": [
        "**Complexity**\n",
        "- Time complexity is O(n)\n",
        "- space is O(h)."
      ]
    },
    {
      "cell_type": "markdown",
      "metadata": {
        "id": "kQuasOsBbak3"
      },
      "source": [
        "# Solution using a BFS and a Deque\n",
        "\n",
        "First of all, it is recommended to check this interesting post \"[BFS vs DFS for Binary Tree](https://www.geeksforgeeks.org/bfs-vs-dfs-binary-tree/)\".\n",
        "\n",
        "\n",
        "Deque (Doubly Ended Queue) provides an O(1) time complexity for append and pop operations"
      ]
    },
    {
      "cell_type": "code",
      "metadata": {
        "colab": {
          "base_uri": "https://localhost:8080/"
        },
        "id": "gDNuGlAkbslu",
        "outputId": "ea4dc744-43c0-432b-b788-9d6d14ad3650"
      },
      "source": [
        "from collections import deque \n",
        "      \n",
        "# Declaring deque \n",
        "queue = deque([1,2,3])\n",
        "print(queue)\n",
        "queue.append(4)\n",
        "print(queue)\n",
        "el = queue.pop()\n",
        "print(queue)\n",
        "print(el)\n",
        "\n",
        "queue.appendleft(5)\n",
        "print(queue)\n",
        "el = queue.popleft()\n",
        "print(queue)\n",
        "print(el)"
      ],
      "execution_count": 9,
      "outputs": [
        {
          "output_type": "stream",
          "text": [
            "deque([1, 2, 3])\n",
            "deque([1, 2, 3, 4])\n",
            "deque([1, 2, 3])\n",
            "4\n",
            "deque([5, 1, 2, 3])\n",
            "deque([1, 2, 3])\n",
            "5\n"
          ],
          "name": "stdout"
        }
      ]
    },
    {
      "cell_type": "markdown",
      "metadata": {
        "id": "srT5uDcVrBK2"
      },
      "source": [
        "Level order traversal of a tree is breadth first traversal for the tree. See these two links: https://www.geeksforgeeks.org/level-order-tree-traversal/, https://en.wikipedia.org/wiki/Breadth-first_search."
      ]
    },
    {
      "cell_type": "code",
      "metadata": {
        "id": "RAlcvZpUvHH1"
      },
      "source": [
        "from collections import deque\n",
        "\n",
        "class Solution(object):\n",
        "  def deepestLeavesSum(self, root):\n",
        "    \"\"\"\n",
        "    :type root: TreeNode\n",
        "    \"\"\"\n",
        "    if root == None:\n",
        "          return 0\n",
        "    \n",
        "    sum = 0\n",
        "    queue = deque()    \n",
        "    queue.append(root)\n",
        "\n",
        "    while queue:\n",
        "      n = len(queue)\n",
        "      level_sum = 0\n",
        "\n",
        "      for _ in range(n):\n",
        "        node = queue.popleft()\n",
        "\n",
        "        if node == None:\n",
        "          continue\n",
        "        \n",
        "        level_sum += node.val        \n",
        "\n",
        "        if node.left:\n",
        "          queue.append(node.left)\n",
        "        \n",
        "        if node.right:\n",
        "          queue.append(node.right)\n",
        "\n",
        "      sum = level_sum\n",
        "      print(sum)\n",
        "\n",
        "    return sum"
      ],
      "execution_count": 45,
      "outputs": []
    },
    {
      "cell_type": "code",
      "metadata": {
        "colab": {
          "base_uri": "https://localhost:8080/"
        },
        "id": "z2aVHH4q8rXM",
        "outputId": "aa78f616-8ce8-4c65-f53e-56da41b6bfb9"
      },
      "source": [
        "sol = Solution()\n",
        "sum = sol.deepestLeavesSum(root)"
      ],
      "execution_count": 47,
      "outputs": [
        {
          "output_type": "stream",
          "text": [
            "1\n",
            "5\n",
            "15\n",
            "15\n"
          ],
          "name": "stdout"
        }
      ]
    },
    {
      "cell_type": "markdown",
      "metadata": {
        "id": "CZFSOz4w_uvn"
      },
      "source": [
        "References:\n",
        " * http://gitlinux.net/2020-03-16-(1302)-deepest-leaves-sum/\n",
        " * https://www.geeksforgeeks.org/sum-nodes-maximum-depth-binary-tree/\n",
        " * https://www.geeksforgeeks.org/sum-of-nodes-at-maximum-depth-of-a-binary-tree-iterative-approach/"
      ]
    }
  ]
}