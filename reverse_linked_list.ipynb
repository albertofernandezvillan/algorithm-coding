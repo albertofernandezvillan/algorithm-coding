{
  "nbformat": 4,
  "nbformat_minor": 0,
  "metadata": {
    "colab": {
      "name": "reverse_linked_list.ipynb",
      "provenance": [],
      "collapsed_sections": [],
      "authorship_tag": "ABX9TyOb80clQSxHilDOxho3rBkl",
      "include_colab_link": true
    },
    "kernelspec": {
      "name": "python3",
      "display_name": "Python 3"
    },
    "language_info": {
      "name": "python"
    }
  },
  "cells": [
    {
      "cell_type": "markdown",
      "metadata": {
        "id": "view-in-github",
        "colab_type": "text"
      },
      "source": [
        "<a href=\"https://colab.research.google.com/github/albertofernandezvillan/algorithm-coding/blob/main/reverse_linked_list.ipynb\" target=\"_parent\"><img src=\"https://colab.research.google.com/assets/colab-badge.svg\" alt=\"Open In Colab\"/></a>"
      ]
    },
    {
      "cell_type": "markdown",
      "metadata": {
        "id": "FnbOkCJtXKDI"
      },
      "source": [
        "# Reverse Linked List\n",
        "\n",
        "Given the `head` of a singly linked list, reverse the list, and return the *reversed list*.\n",
        "\n",
        "<img src=\"https://assets.leetcode.com/uploads/2021/02/19/rev1ex1.jpg\">\n",
        "\n",
        "```\n",
        "Example 1 (see image above):\n",
        "Input: head = [1,2,3,4,5]\n",
        "Output: [5,4,3,2,1]\n",
        "\n",
        "Example 2:\n",
        "Input: head = [1,2]\n",
        "Output: [2,1]\n",
        "\n",
        "Example 3:\n",
        "Input: head = []\n",
        "Output: []\n",
        "```\n",
        "\n",
        "Seen here: https://leetcode.com/problems/reverse-linked-list/\n",
        "\n",
        "\n",
        "\n",
        "\n",
        "```\n",
        "# Definition for singly-linked list.\n",
        "# class ListNode(object):\n",
        "#     def __init__(self, val=0, next=None):\n",
        "#         self.val = val\n",
        "#         self.next = next\n",
        "class Solution(object):\n",
        "    def reverseList(self, head):\n",
        "        \"\"\"\n",
        "        :type head: ListNode\n",
        "        :rtype: ListNode\n",
        "        \"\"\"\n",
        "```\n",
        "\n"
      ]
    },
    {
      "cell_type": "markdown",
      "metadata": {
        "id": "IcTvyBBifHhs"
      },
      "source": [
        "Here it is the iterative approach"
      ]
    },
    {
      "cell_type": "code",
      "metadata": {
        "id": "WMTTS400XHlm"
      },
      "source": [
        "# Definition for singly-linked list.\n",
        "class ListNode(object):\n",
        "    def __init__(self, val=0, next=None):\n",
        "        self.val = val\n",
        "        self.next = next\n",
        "class Solution(object):\n",
        "    def printList(self, head):\n",
        "        node = head\n",
        "        while node is not None:\n",
        "          print(node.val)\n",
        "          node = node.next \n",
        "\n",
        "    def reverseList(self, head):\n",
        "        \"\"\"\n",
        "        :type head: ListNode\n",
        "        :rtype: ListNode\n",
        "        \"\"\"\n",
        "        if head is None:\n",
        "          return None\n",
        "\n",
        "        curr_node = None\n",
        "        next_node = head\n",
        "\n",
        "        # Iterate over the linked list and for every node in it\n",
        "        # we change the pointer to point backwards\n",
        "        # Moreover the first node we are iterating will be the last\n",
        "        # and the pointer should be None\n",
        "\n",
        "        while next_node is not None:\n",
        "          tmp = next_node.next\n",
        "          next_node.next = curr_node\n",
        "\n",
        "          curr_node = next_node\n",
        "          next_node = tmp\n",
        "        \n",
        "        return curr_node"
      ],
      "execution_count": 14,
      "outputs": []
    },
    {
      "cell_type": "code",
      "metadata": {
        "colab": {
          "base_uri": "https://localhost:8080/"
        },
        "id": "v7y51yQZanE_",
        "outputId": "155c5010-a817-44e9-fc79-8c539db5e4a0"
      },
      "source": [
        "myList = ListNode(1, ListNode(2, ListNode(3, ListNode(4))))\n",
        "myList = ListNode(1, ListNode(2))\n",
        "myList = ListNode(1)\n",
        "\n",
        "sol = Solution()\n",
        "sol.printList(myList)"
      ],
      "execution_count": 11,
      "outputs": [
        {
          "output_type": "stream",
          "name": "stdout",
          "text": [
            "1\n"
          ]
        }
      ]
    },
    {
      "cell_type": "code",
      "metadata": {
        "id": "QSJCMgxYaywJ"
      },
      "source": [
        "myListRev = sol.reverseList(myList)\n"
      ],
      "execution_count": 12,
      "outputs": []
    },
    {
      "cell_type": "code",
      "metadata": {
        "colab": {
          "base_uri": "https://localhost:8080/"
        },
        "id": "LPXTwr5wa7_H",
        "outputId": "156e223f-a301-44d0-a9f1-df7e4e5691f1"
      },
      "source": [
        "sol.printList(myListRev)"
      ],
      "execution_count": 13,
      "outputs": [
        {
          "output_type": "stream",
          "name": "stdout",
          "text": [
            "1\n"
          ]
        }
      ]
    },
    {
      "cell_type": "markdown",
      "metadata": {
        "id": "gpk5xwB9fGlN"
      },
      "source": [
        "Before writing the recursive approach, let's first (for practice purposes) create two functions: \n",
        "1. Print the list recursively, \n",
        "2. Print the reverse list recursively.\n",
        "\n",
        "\n"
      ]
    },
    {
      "cell_type": "code",
      "metadata": {
        "id": "AetNhMNUf1N0"
      },
      "source": [
        "# Definition for singly-linked list.\n",
        "class ListNode(object):\n",
        "    def __init__(self, val=0, next=None):\n",
        "        self.val = val\n",
        "        self.next = next\n",
        "class Solution(object):\n",
        "    def printList(self, head):\n",
        "        node = head\n",
        "        while node is not None:\n",
        "          print(node.val)\n",
        "          node = node.next\n",
        "\n",
        "    def printListRec(self, head):\n",
        "      if head is None:\n",
        "        return\n",
        "      print(head.val)\n",
        "      self.printListRec(head.next)\n",
        "    \n",
        "    def printListRecBack(self, head):\n",
        "      if head is None:\n",
        "        return      \n",
        "      self.printListRecBack(head.next)\n",
        "      print(head.val)           "
      ],
      "execution_count": 62,
      "outputs": []
    },
    {
      "cell_type": "code",
      "metadata": {
        "colab": {
          "base_uri": "https://localhost:8080/"
        },
        "id": "ZVx45vpNgOzF",
        "outputId": "4b74379a-6494-44a7-8d6f-334517608bad"
      },
      "source": [
        "myList = ListNode(1, ListNode(2, ListNode(3, ListNode(4))))\n",
        "sol = Solution()\n",
        "sol.printListRec(myList)"
      ],
      "execution_count": 63,
      "outputs": [
        {
          "output_type": "stream",
          "name": "stdout",
          "text": [
            "1\n",
            "2\n",
            "3\n",
            "4\n"
          ]
        }
      ]
    },
    {
      "cell_type": "code",
      "metadata": {
        "colab": {
          "base_uri": "https://localhost:8080/"
        },
        "id": "M-EDFKDWjqp_",
        "outputId": "94b045df-0a10-448f-c052-bf29cd93cbaa"
      },
      "source": [
        "myList = ListNode(1, ListNode(2, ListNode(3, ListNode(4))))\n",
        "sol = Solution()\n",
        "sol.printListRecBack(myList)"
      ],
      "execution_count": 64,
      "outputs": [
        {
          "output_type": "stream",
          "name": "stdout",
          "text": [
            "4\n",
            "3\n",
            "2\n",
            "1\n"
          ]
        }
      ]
    },
    {
      "cell_type": "markdown",
      "metadata": {
        "id": "XX5riO9PATAc"
      },
      "source": [
        "Now the recursive approach.This visualization can help understanding this approach: \"[Reverse a Linked List Recursively]( https://www.youtube.com/watch?v=MRe3UsRadKw)\"."
      ]
    },
    {
      "cell_type": "code",
      "metadata": {
        "id": "qQ-iXPxS0oXf"
      },
      "source": [
        "# Definition for singly-linked list.\n",
        "class ListNode(object):\n",
        "    def __init__(self, val=0, next=None):\n",
        "        self.val = val\n",
        "        self.next = next\n",
        "class Solution(object):\n",
        "    def printList(self, head):\n",
        "        node = head\n",
        "        while node is not None:\n",
        "          print(node.val)\n",
        "          node = node.next \n",
        "\n",
        "    def reverseListRec(self, head):\n",
        "        \"\"\"\n",
        "        :type head: ListNode\n",
        "        :rtype: ListNode\n",
        "        \"\"\"\n",
        "        if head is None:\n",
        "          return None\n",
        "\n",
        "        # If head.next is None means that head is the last node\n",
        "        # So will be the head of the reversed list  \n",
        "        if head.next is None:\n",
        "            return head\n",
        "\n",
        "        # Recursively travers the list\n",
        "        new_head = self.reverseListRec(head.next)\n",
        "\n",
        "        head.next.next = head\n",
        "        head.next = None\n",
        "        \n",
        "        return new_head            "
      ],
      "execution_count": 80,
      "outputs": []
    },
    {
      "cell_type": "code",
      "metadata": {
        "colab": {
          "base_uri": "https://localhost:8080/"
        },
        "id": "alSO8fRq2aUM",
        "outputId": "10374f9a-ae60-4223-a9df-42d2c8e9e503"
      },
      "source": [
        "myList = ListNode(1, ListNode(2, ListNode(3, ListNode(4))))\n",
        "sol = Solution()\n",
        "myListReversed = sol.reverseListRec(myList)\n",
        "sol.printList(myListReversed)"
      ],
      "execution_count": 81,
      "outputs": [
        {
          "output_type": "stream",
          "name": "stdout",
          "text": [
            "4\n",
            "3\n",
            "2\n",
            "1\n"
          ]
        }
      ]
    }
  ]
}