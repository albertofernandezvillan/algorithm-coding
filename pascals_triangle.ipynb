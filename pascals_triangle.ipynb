{
  "nbformat": 4,
  "nbformat_minor": 0,
  "metadata": {
    "colab": {
      "name": "pascals_triangle.ipynb",
      "provenance": [],
      "collapsed_sections": [],
      "authorship_tag": "ABX9TyMnIGQcWojUMVSlpfQYKVDU",
      "include_colab_link": true
    },
    "kernelspec": {
      "name": "python3",
      "display_name": "Python 3"
    },
    "language_info": {
      "name": "python"
    }
  },
  "cells": [
    {
      "cell_type": "markdown",
      "metadata": {
        "id": "view-in-github",
        "colab_type": "text"
      },
      "source": [
        "<a href=\"https://colab.research.google.com/github/albertofernandezvillan/algorithm-coding/blob/main/pascals_triangle.ipynb\" target=\"_parent\"><img src=\"https://colab.research.google.com/assets/colab-badge.svg\" alt=\"Open In Colab\"/></a>"
      ]
    },
    {
      "cell_type": "markdown",
      "metadata": {
        "id": "ln6xnNkf3WYW"
      },
      "source": [
        "# Pascal's Triangle\n",
        "\n",
        "Given an integer `numRows`, return the first numRows of **Pascal's triangle**. In Pascal's triangle, each number is the sum of the two numbers directly above it as shown:"
      ]
    },
    {
      "cell_type": "markdown",
      "metadata": {
        "id": "sijfz3os3MAq"
      },
      "source": [
        "<img src=\"https://upload.wikimedia.org/wikipedia/commons/0/0d/PascalTriangleAnimated2.gif\" width=200>"
      ]
    },
    {
      "cell_type": "markdown",
      "metadata": {
        "id": "W4MZiGF03hPY"
      },
      "source": [
        "```\n",
        "Example 1:\n",
        "Input: numRows = 5\n",
        "Output: [[1],[1,1],[1,2,1],[1,3,3,1],[1,4,6,4,1]]\n",
        "```\n",
        "```\n",
        "Example 2:\n",
        "Input: numRows = 1\n",
        "Output: [[1]]\n",
        "```"
      ]
    },
    {
      "cell_type": "markdown",
      "metadata": {
        "id": "2xTTEroZ3ww0"
      },
      "source": [
        "Seen here: https://leetcode.com/problems/pascals-triangle/"
      ]
    },
    {
      "cell_type": "markdown",
      "metadata": {
        "id": "8VD7NfEn4Bgy"
      },
      "source": [
        "\n",
        "```\n",
        "class Solution(object):\n",
        "    def generate(self, numRows):\n",
        "        \"\"\"\n",
        "        :type numRows: int\n",
        "        :rtype: List[List[int]]\n",
        "        \"\"\"\n",
        "```"
      ]
    },
    {
      "cell_type": "code",
      "metadata": {
        "id": "__fulakt3LcU"
      },
      "source": [
        "class Solution(object):\n",
        "    def generateRow(self, prevRow):\n",
        "        res = []\n",
        "        res.append(1)\n",
        "        for i in range(len(prevRow)-1):\n",
        "          sumTwoEles = prevRow[i] + prevRow[i+1]\n",
        "          res.append(sumTwoEles)\n",
        "        res.append(1)\n",
        "        return res\n",
        "\n",
        "    def generate(self, numRows):\n",
        "        \"\"\"\n",
        "        :type numRows: int\n",
        "        :rtype: List[List[int]]\n",
        "        \"\"\"\n",
        "        result = []\n",
        "        row = [1]       \n",
        "        for _ in range(numRows):\n",
        "          result.append(row)\n",
        "          row = self.generateRow(row)\n",
        "        return result\n",
        "        "
      ],
      "execution_count": 20,
      "outputs": []
    },
    {
      "cell_type": "code",
      "metadata": {
        "colab": {
          "base_uri": "https://localhost:8080/"
        },
        "id": "mPSefFnp4fVx",
        "outputId": "8e1d380f-45c3-4f0b-cdf5-37307c78c394"
      },
      "source": [
        "sol = Solution()\n",
        "sol.generate(5)"
      ],
      "execution_count": 21,
      "outputs": [
        {
          "output_type": "execute_result",
          "data": {
            "text/plain": [
              "[[1], [1, 1], [1, 2, 1], [1, 3, 3, 1], [1, 4, 6, 4, 1]]"
            ]
          },
          "metadata": {
            "tags": []
          },
          "execution_count": 21
        }
      ]
    },
    {
      "cell_type": "markdown",
      "metadata": {
        "id": "hkpIrx1T8bcn"
      },
      "source": [
        "Solution posted here:\n",
        "\n",
        "https://leetcode.com/problems/pascals-triangle/discuss/1373997/Easy-to-understand-Python-solution-(runtime-beats-99.46-Python-submissions)"
      ]
    },
    {
      "cell_type": "markdown",
      "metadata": {
        "id": "cWMeZVQtMirH"
      },
      "source": [
        "See also this approach:\n",
        "\n",
        "https://leetcode.com/problems/pascals-triangle/discuss/1287175/Short-and-Simple-Solution-w-Explanation-or-Beats-100"
      ]
    }
  ]
}