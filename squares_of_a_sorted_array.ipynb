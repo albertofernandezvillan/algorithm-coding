{
  "nbformat": 4,
  "nbformat_minor": 0,
  "metadata": {
    "colab": {
      "name": "squares_of_a_sorted_array.ipynb",
      "provenance": [],
      "collapsed_sections": [],
      "authorship_tag": "ABX9TyN4mzDw9ld9t7n9L1E0gh3w",
      "include_colab_link": true
    },
    "kernelspec": {
      "name": "python3",
      "display_name": "Python 3"
    },
    "language_info": {
      "name": "python"
    }
  },
  "cells": [
    {
      "cell_type": "markdown",
      "metadata": {
        "id": "view-in-github",
        "colab_type": "text"
      },
      "source": [
        "<a href=\"https://colab.research.google.com/github/albertofernandezvillan/algorithm-coding/blob/main/squares_of_a_sorted_array.ipynb\" target=\"_parent\"><img src=\"https://colab.research.google.com/assets/colab-badge.svg\" alt=\"Open In Colab\"/></a>"
      ]
    },
    {
      "cell_type": "markdown",
      "metadata": {
        "id": "OXcQV6NohIWn"
      },
      "source": [
        "# Squares of a Sorted Array"
      ]
    },
    {
      "cell_type": "markdown",
      "metadata": {
        "id": "mVTBPWEuhM_X"
      },
      "source": [
        "Given an integer array nums sorted in non-decreasing order, return an array of the squares of each number sorted in non-decreasing order.\n",
        "\n",
        "Example 1:\n",
        "```\n",
        "Input: nums = [-4,-1,0,3,10]\n",
        "Output: [0,1,9,16,100]\n",
        "Explanation: After squaring, the array becomes [16,1,0,9,100].\n",
        "After sorting, it becomes [0,1,9,16,100].\n",
        "```\n",
        "\n",
        "Example 2:\n",
        "```\n",
        "Input: nums = [-7,-3,2,3,11]\n",
        "Output: [4,9,9,49,121]\n",
        "```\n",
        "\n",
        "Constraints:\n",
        "```\n",
        "1 <= nums.length <= 10^4\n",
        "-10^4 <= nums[i] <= 10^4\n",
        "nums is sorted in non-decreasing order.\n",
        "```\n",
        "\n",
        "\n",
        "Follow up: Squaring each element and sorting the new array is very trivial, could you find an O(n) solution using a different approach?\n",
        "\n",
        "\n",
        "\n",
        "\n",
        "```\n",
        "class Solution(object):\n",
        "    def sortedSquares(self, nums):\n",
        "        \"\"\"\n",
        "        :type nums: List[int]\n",
        "        :rtype: List[int]\n",
        "        \"\"\"\n",
        "```\n",
        "\n",
        "Seen here: https://leetcode.com/problems/squares-of-a-sorted-array/"
      ]
    },
    {
      "cell_type": "markdown",
      "metadata": {
        "id": "7N9bCGkMjtL0"
      },
      "source": [
        "Trivial approach: Squaring each element and sorting the new array"
      ]
    },
    {
      "cell_type": "code",
      "metadata": {
        "id": "jycGu2sagzKw"
      },
      "source": [
        "class Solution(object):\n",
        "    def sortedSquares(self, nums):\n",
        "        \"\"\"\n",
        "        :type nums: List[int]\n",
        "        :rtype: List[int]\n",
        "        \"\"\"\n",
        "        n = len(nums)\n",
        "        for i in range(n):\n",
        "          nums[i] = nums[i] * nums[i]\n",
        "        \n",
        "        nums.sort()\n",
        "        return nums"
      ],
      "execution_count": null,
      "outputs": []
    },
    {
      "cell_type": "code",
      "metadata": {
        "id": "tSo_tLSrivlp"
      },
      "source": [
        "sol = Solution()"
      ],
      "execution_count": null,
      "outputs": []
    },
    {
      "cell_type": "code",
      "metadata": {
        "colab": {
          "base_uri": "https://localhost:8080/"
        },
        "id": "EMv_2EMti5mB",
        "outputId": "65231364-54d3-49f7-bd07-21cee10fc162"
      },
      "source": [
        "print(sol.sortedSquares([-4,-1,0,3,10]))\n",
        "print(sol.sortedSquares([-7,-3,2,3,11]))"
      ],
      "execution_count": null,
      "outputs": [
        {
          "output_type": "stream",
          "text": [
            "[0, 1, 9, 16, 100]\n",
            "[4, 9, 9, 49, 121]\n"
          ],
          "name": "stdout"
        }
      ]
    },
    {
      "cell_type": "markdown",
      "metadata": {
        "id": "qNw4sFiSlC4C"
      },
      "source": [
        "**Complexity Analysis**\n",
        "\n",
        "* Time complexity : O(NlogN). Sorting an array in Python (Python's builtin sort is timsort) is O(NlogN). However, check this because for this specific case, it seems to be a O(N):  *Since the resultant array after squaring all the terms will be first strictly decreasing and then strictly increasing, timsort reverses the strictly decreasing segment and then merges both runs in O(N).* [Seen here](https://leetcode.com/problems/squares-of-a-sorted-array/discuss/233054/Python-sorted()-solution-is-O(N)-not-O(NlogN))\n",
        "* Space complexity : O(1).\n"
      ]
    },
    {
      "cell_type": "markdown",
      "metadata": {
        "id": "_8bLsv7xjzWV"
      },
      "source": [
        "Follow up: Squaring each element and sorting the new array is very trivial, could you find an O(n) solution using a different approach?"
      ]
    },
    {
      "cell_type": "markdown",
      "metadata": {
        "id": "bE4OAY7Kknb0"
      },
      "source": [
        "The resultant array after squaring all the terms will be:\n",
        "* first strictly decreasing\n",
        "* then strictly increasing"
      ]
    },
    {
      "cell_type": "code",
      "metadata": {
        "id": "nO5IzkyBnsUK"
      },
      "source": [
        "class Solution_2(object):\n",
        "    def sortedSquares(self, nums):\n",
        "        \"\"\"\n",
        "        :type nums: List[int]\n",
        "        :rtype: List[int]\n",
        "        \"\"\"\n",
        "        res = []\n",
        "        n = len(nums)\n",
        "        start = 0\n",
        "        end = n - 1\n",
        "        while start <= end:\n",
        "          if abs(nums[start]) >= abs(nums[end]):\n",
        "            res.append(nums[start] * nums[start])\n",
        "            start += 1\n",
        "          else:\n",
        "            res.append(nums[end] * nums[end])\n",
        "            end -= 1\n",
        "\n",
        "        res.reverse()  \n",
        "        return res"
      ],
      "execution_count": null,
      "outputs": []
    },
    {
      "cell_type": "code",
      "metadata": {
        "id": "-owzlLTDoJLd"
      },
      "source": [
        "sol = Solution_2()"
      ],
      "execution_count": null,
      "outputs": []
    },
    {
      "cell_type": "code",
      "metadata": {
        "id": "8SMVNjupoR8e",
        "colab": {
          "base_uri": "https://localhost:8080/"
        },
        "outputId": "8cd774bf-46b1-4610-ae48-3658c4ba35ed"
      },
      "source": [
        "print(sol.sortedSquares([-4,-1,0,3,10]))"
      ],
      "execution_count": null,
      "outputs": [
        {
          "output_type": "stream",
          "text": [
            "[0, 1, 9, 16, 100]\n"
          ],
          "name": "stdout"
        }
      ]
    },
    {
      "cell_type": "markdown",
      "metadata": {
        "id": "EEXdrNXyOQpV"
      },
      "source": [
        "the time complexity of list's reverse() is O(n)"
      ]
    },
    {
      "cell_type": "markdown",
      "metadata": {
        "id": "VHQM5MxNOkbB"
      },
      "source": [
        "Here is another approach, which involves two steps:\n",
        "\n",
        "* Divide the array into two-part \"Negative and positive\".\n",
        "* Use merge function to merge two sorted arrays into a single sorted array.\n",
        "\n",
        "https://www.geeksforgeeks.org/sort-array-converting-elements-squares/"
      ]
    },
    {
      "cell_type": "markdown",
      "metadata": {
        "id": "XWakVgN4Trmw"
      },
      "source": [
        "Here is another approach without list reversal\n",
        "\n",
        "```\n",
        "def sortedSquares(self, A):\n",
        "    answer = [0] * len(A)\n",
        "    l, r = 0, len(A) - 1\n",
        "    while l <= r:\n",
        "        left, right = abs(A[l]), abs(A[r])\n",
        "        if left > right:\n",
        "            answer[r - l] = left * left\n",
        "            l += 1\n",
        "        else:\n",
        "            answer[r - l] = right * right\n",
        "            r -= 1\n",
        "    return answer\n",
        "```\n",
        "\n"
      ]
    }
  ]
}