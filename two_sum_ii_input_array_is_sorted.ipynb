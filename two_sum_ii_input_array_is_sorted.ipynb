{
  "nbformat": 4,
  "nbformat_minor": 0,
  "metadata": {
    "colab": {
      "name": "two_sum_ii_input_array_is_sorted.ipynb",
      "provenance": [],
      "collapsed_sections": [],
      "authorship_tag": "ABX9TyPWDgT14+50ztnbKm3UpFIk",
      "include_colab_link": true
    },
    "kernelspec": {
      "name": "python3",
      "display_name": "Python 3"
    },
    "language_info": {
      "name": "python"
    }
  },
  "cells": [
    {
      "cell_type": "markdown",
      "metadata": {
        "id": "view-in-github",
        "colab_type": "text"
      },
      "source": [
        "<a href=\"https://colab.research.google.com/github/albertofernandezvillan/algorithm-coding/blob/main/two_sum_ii_input_array_is_sorted.ipynb\" target=\"_parent\"><img src=\"https://colab.research.google.com/assets/colab-badge.svg\" alt=\"Open In Colab\"/></a>"
      ]
    },
    {
      "cell_type": "markdown",
      "metadata": {
        "id": "No1JGpSEhfcZ"
      },
      "source": [
        "# Two Sum II - Input array is sorted\n",
        "\n",
        "Given an array of integers `numbers` that is already **sorted in non-decreasing order**, find two numbers such that they add up to a specific `target` number.\n",
        "\n",
        "Return the indices of the two numbers (**1-indexed**) as an integer array **answer** of size `2`, where` 1 <= answer[0] < answer[1] <= numbers.length`.\n",
        "\n",
        "The tests are generated such that there is **exactly one solution**. You may not use the same element twice.\n",
        "\n",
        "Examples:\n",
        "\n",
        "```\n",
        "Input: numbers = [2,7,11,15], target = 9\n",
        "Output: [1,2]\n",
        "Explanation: The sum of 2 and 7 is 9. Therefore index1 = 1, index2 = 2.\n",
        "```\n",
        "```\n",
        "Input: numbers = [-1,0], target = -1\n",
        "Output: [1,2]\n",
        "```\n",
        "```\n",
        "Input: numbers = [2,3,4], target = 6\n",
        "Output: [1,3]\n",
        "```\n",
        "\n",
        "Seen here: https://leetcode.com/problems/two-sum-ii-input-array-is-sorted/"
      ]
    },
    {
      "cell_type": "code",
      "metadata": {
        "id": "ebwkognnifvR"
      },
      "source": [
        "class TwoPointersSolution:\n",
        "  def twoSum(self, nums, target):\n",
        "\n",
        "    l,r = 0, len(nums) - 1\n",
        "\n",
        "    while True:\n",
        "      sum = nums[l] + nums[r]\n",
        "      if sum == target:\n",
        "        return [l+1, r+1]\n",
        "      elif sum < target:\n",
        "        l = l + 1\n",
        "      else:\n",
        "        r = r -1"
      ],
      "execution_count": 5,
      "outputs": []
    },
    {
      "cell_type": "code",
      "metadata": {
        "colab": {
          "base_uri": "https://localhost:8080/"
        },
        "id": "WdRzsZDmjvd7",
        "outputId": "1ade0d2c-5c1a-44cc-b8c9-8205af3dbb44"
      },
      "source": [
        "sol = TwoPointersSolution()\n",
        "\n",
        "print(sol.twoSum([2,3,4], 6))"
      ],
      "execution_count": 6,
      "outputs": [
        {
          "output_type": "stream",
          "text": [
            "[1, 3]\n"
          ],
          "name": "stdout"
        }
      ]
    },
    {
      "cell_type": "markdown",
      "metadata": {
        "id": "ukUuP0p0lhgA"
      },
      "source": [
        "Two pointers solution is: `O(n)` time and `O(1)` space"
      ]
    }
  ]
}