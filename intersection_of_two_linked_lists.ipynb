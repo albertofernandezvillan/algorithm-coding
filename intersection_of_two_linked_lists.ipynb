{
  "nbformat": 4,
  "nbformat_minor": 0,
  "metadata": {
    "colab": {
      "name": "intersection_of_two_linked_lists.ipynb",
      "provenance": [],
      "collapsed_sections": [],
      "authorship_tag": "ABX9TyPCHnshqJbq+J2cQlBBjPdU",
      "include_colab_link": true
    },
    "kernelspec": {
      "name": "python3",
      "display_name": "Python 3"
    },
    "language_info": {
      "name": "python"
    }
  },
  "cells": [
    {
      "cell_type": "markdown",
      "metadata": {
        "id": "view-in-github",
        "colab_type": "text"
      },
      "source": [
        "<a href=\"https://colab.research.google.com/github/albertofernandezvillan/algorithm-coding/blob/main/intersection_of_two_linked_lists.ipynb\" target=\"_parent\"><img src=\"https://colab.research.google.com/assets/colab-badge.svg\" alt=\"Open In Colab\"/></a>"
      ]
    },
    {
      "cell_type": "markdown",
      "metadata": {
        "id": "CBhwzWYtPXZd"
      },
      "source": [
        "# Intersection of Two Linked Lists\n",
        "\n",
        "Given the heads of two singly linked-lists headA and headB, return the node at which the two lists intersect. If the two linked lists have no intersection at all, return null.\n",
        "\n",
        "<img src=\"https://assets.leetcode.com/uploads/2021/03/05/160_example_1_1.png\">\n",
        "\n",
        "**Output**: Intersected at '8'\n",
        "\n",
        "Seen here: https://leetcode.com/problems/intersection-of-two-linked-lists/"
      ]
    },
    {
      "cell_type": "code",
      "metadata": {
        "id": "5q3AeEuqPsJM"
      },
      "source": [
        "# Definition for singly-linked list.\n",
        "class ListNode(object):\n",
        "    def __init__(self, val=0, next=None):\n",
        "        self.val = val\n",
        "        self.next = next\n",
        "        \n",
        "class Solution(object):\n",
        "    def addTwoNumbers(self, l1, l2):\n",
        "        \"\"\"\n",
        "        :type l1: ListNode\n",
        "        :type l2: ListNode\n",
        "        :rtype: ListNode\n",
        "        \"\"\"\n",
        "\n",
        "    def printList(self, l):\n",
        "      node = l\n",
        "      while node is not None:\n",
        "        print(node.val)\n",
        "        node = node.next"
      ],
      "execution_count": 16,
      "outputs": []
    },
    {
      "cell_type": "code",
      "metadata": {
        "id": "WXQyU3TJQI3e"
      },
      "source": [
        "listNode_1_1 = ListNode(1)\n",
        "listNode_1_2 = ListNode(2)\n",
        "listNode_1_3 = ListNode(3)\n",
        "listNode_1_4 = ListNode(4)\n",
        "listNode_1_5 = ListNode(5)\n",
        "listNode_1_6 = ListNode(6)\n",
        "\n",
        "listNode_1_1.next = listNode_1_2\n",
        "listNode_1_2.next = listNode_1_3\n",
        "listNode_1_3.next = listNode_1_4\n",
        "listNode_1_4.next = listNode_1_5\n",
        "listNode_1_5.next = listNode_1_6\n",
        "\n",
        "listNode_2_1 = ListNode(10)\n",
        "listNode_2_2 = ListNode(20)\n",
        "\n",
        "listNode_2_1.next = listNode_2_2\n",
        "# Here is the intersection (they intersect at node 5)\n",
        "listNode_2_2.next = listNode_1_5"
      ],
      "execution_count": 19,
      "outputs": []
    },
    {
      "cell_type": "code",
      "metadata": {
        "colab": {
          "base_uri": "https://localhost:8080/"
        },
        "id": "K3A9AUwzQhU7",
        "outputId": "ddf99685-03ef-4140-a9b9-afafa8c9b98b"
      },
      "source": [
        "sol = Solution()\n",
        "sol.printList(listNode_1_1)\n",
        "print(\"\")\n",
        "sol.printList(listNode_2_1)"
      ],
      "execution_count": 20,
      "outputs": [
        {
          "output_type": "stream",
          "text": [
            "1\n",
            "2\n",
            "3\n",
            "4\n",
            "5\n",
            "6\n",
            "\n",
            "10\n",
            "20\n",
            "5\n",
            "6\n"
          ],
          "name": "stdout"
        }
      ]
    },
    {
      "cell_type": "code",
      "metadata": {
        "id": "W9MGd22Nae9n"
      },
      "source": [
        "# Definition for singly-linked list.\n",
        "class ListNode(object):\n",
        "    def __init__(self, val=0, next=None):\n",
        "        self.val = val\n",
        "        self.next = next\n",
        "        \n",
        "class Solution(object):\n",
        "    def addTwoNumbers(self, l1, l2):\n",
        "        \"\"\"\n",
        "        :type l1: ListNode\n",
        "        :type l2: ListNode\n",
        "        :rtype: ListNode\n",
        "        \"\"\"\n",
        "\n",
        "    def printList(self, l):\n",
        "      node = l\n",
        "      while node is not None:\n",
        "        print(node.val)\n",
        "        node = node.next\n",
        "\n",
        "    def getIntersectionNode(self, headA, headB):\n",
        "      curA, curB = headA, headB\n",
        "      lenA, lenB = 0, 0\n",
        "      # 1. Calculate the length of both lists\n",
        "      while curA is not None:\n",
        "          lenA += 1\n",
        "          curA = curA.next\n",
        "      while curB is not None:\n",
        "          lenB += 1\n",
        "          curB = curB.next\n",
        "      \n",
        "      # 2. Move the head pointer in the longest list abs(lenA - lenB)\n",
        "      curA, curB = headA, headB\n",
        "      if lenA > lenB:\n",
        "          for i in range(lenA-lenB):\n",
        "              curA = curA.next\n",
        "      elif lenB > lenA:\n",
        "          for i in range(lenB-lenA):\n",
        "              curB = curB.next\n",
        "      \n",
        "      # 3. We continue iterating until we reach the intersection or the end\n",
        "      while curB != curA:\n",
        "          curB = curB.next\n",
        "          curA = curA.next\n",
        "      \n",
        "      # 4. Return curA or curB (they are the same or null)\n",
        "      return curA"
      ],
      "execution_count": 23,
      "outputs": []
    },
    {
      "cell_type": "code",
      "metadata": {
        "colab": {
          "base_uri": "https://localhost:8080/"
        },
        "id": "UZfpP2CIaowW",
        "outputId": "15c83941-9b13-4fb9-b4a1-bb79a5d1fc93"
      },
      "source": [
        "sol = Solution()\n",
        "intersect_node = sol.getIntersectionNode(listNode_1_1, listNode_2_1)\n",
        "print(intersect_node.val)"
      ],
      "execution_count": 25,
      "outputs": [
        {
          "output_type": "stream",
          "text": [
            "5\n"
          ],
          "name": "stdout"
        }
      ]
    },
    {
      "cell_type": "markdown",
      "metadata": {
        "id": "q21qscedZND2"
      },
      "source": [
        "[See a nice explanation here](https://www.youtube.com/watch?v=8qi8a2ph71o&ab_channel=AlgorithmsMadeEasy)\n",
        "\n",
        "[Another possible solution here](https://www.youtube.com/watch?v=CPXIkMWNn5Q&ab_channel=KevinNaughtonJr.)"
      ]
    }
  ]
}