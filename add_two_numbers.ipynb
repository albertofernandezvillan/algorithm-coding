{
  "nbformat": 4,
  "nbformat_minor": 0,
  "metadata": {
    "colab": {
      "name": "add_two_numbers.ipynb",
      "provenance": [],
      "collapsed_sections": [],
      "authorship_tag": "ABX9TyP7Tc/BjbrjaPz7jiX/l0JK",
      "include_colab_link": true
    },
    "kernelspec": {
      "name": "python3",
      "display_name": "Python 3"
    },
    "language_info": {
      "name": "python"
    }
  },
  "cells": [
    {
      "cell_type": "markdown",
      "metadata": {
        "id": "view-in-github",
        "colab_type": "text"
      },
      "source": [
        "<a href=\"https://colab.research.google.com/github/albertofernandezvillan/algorithm-coding/blob/main/add_two_numbers.ipynb\" target=\"_parent\"><img src=\"https://colab.research.google.com/assets/colab-badge.svg\" alt=\"Open In Colab\"/></a>"
      ]
    },
    {
      "cell_type": "markdown",
      "metadata": {
        "id": "0q_fAca-zqps"
      },
      "source": [
        "# Add Two Numbers\n",
        "\n",
        "You are given two non-empty linked lists representing two non-negative integers. The digits are stored in reverse order, and each of their nodes contains a single digit. Add the two numbers and return the sum as a linked list.\n",
        "\n",
        "You may assume the two numbers do not contain any leading zero, except the number 0 itself.\n",
        "\n",
        "Seen here: https://leetcode.com/problems/add-two-numbers/"
      ]
    },
    {
      "cell_type": "code",
      "metadata": {
        "id": "969oE3880OAQ"
      },
      "source": [
        "# Definition for singly-linked list.\n",
        "# class ListNode(object):\n",
        "#     def __init__(self, val=0, next=None):\n",
        "#         self.val = val\n",
        "#         self.next = next\n",
        "class Solution(object):\n",
        "    def addTwoNumbers(self, l1, l2):\n",
        "        \"\"\"\n",
        "        :type l1: ListNode\n",
        "        :type l2: ListNode\n",
        "        :rtype: ListNode\n",
        "        \"\"\""
      ],
      "execution_count": 1,
      "outputs": []
    },
    {
      "cell_type": "markdown",
      "metadata": {
        "id": "wfAdxBSA0dps"
      },
      "source": [
        "<img src=\"https://assets.leetcode.com/uploads/2020/10/02/addtwonumber1.jpg\" width=400>\n",
        "\n",
        "```\n",
        "Input: l1 = [2,4,3], l2 = [5,6,4]\n",
        "Output: [7,0,8]\n",
        "Explanation: 342 + 465 = 807\n",
        "```"
      ]
    },
    {
      "cell_type": "code",
      "metadata": {
        "id": "jvY1WuAv0kA7"
      },
      "source": [
        "# Definition for singly-linked list.\n",
        "class ListNode(object):\n",
        "    def __init__(self, val=0, next=None):\n",
        "        self.val = val\n",
        "        self.next = next\n",
        "\n",
        "class Solution(object):\n",
        "    def printList(self, l):\n",
        "        while l is not None:\n",
        "          print(l.val)\n",
        "          l = l.next\n",
        "\n",
        "    def addTwoNumbers(self, l1, l2):\n",
        "        \"\"\"\n",
        "        :type l1: ListNode\n",
        "        :type l2: ListNode\n",
        "        :rtype: ListNode\n",
        "        \"\"\"\n",
        "        l = result = ListNode()\n",
        "        carry = 0\n",
        "\n",
        "        while l1 is not None or l2 is not None or carry:\n",
        "\n",
        "          val1 = l1.val if l1 is not None else 0\n",
        "          val2 = l2.val if l2 is not None else 0\n",
        "\n",
        "          sum = val1 + val2 + carry\n",
        "\n",
        "          if sum >= 10:\n",
        "            sum -= 10\n",
        "            carry = 1\n",
        "          else:\n",
        "            carry = 0\n",
        "          \n",
        "          l.val = sum\n",
        "\n",
        "          if l1 is not None:\n",
        "            l1 = l1.next\n",
        "          \n",
        "          if l2 is not None:\n",
        "            l2 = l2.next\n",
        "\n",
        "          if l1 is not None or l2 is not None or carry:\n",
        "            l.next = ListNode()\n",
        "            l = l.next         \n",
        "\n",
        "        return result"
      ],
      "execution_count": 21,
      "outputs": []
    },
    {
      "cell_type": "code",
      "metadata": {
        "colab": {
          "base_uri": "https://localhost:8080/"
        },
        "id": "Q_zbNOg84ua9",
        "outputId": "bcb225c1-3f20-419a-b000-c6925fb073fd"
      },
      "source": [
        "sol = Solution()\n",
        "\n",
        "l_1 = ListNode(9)\n",
        "l_2 = ListNode(9)\n",
        "\n",
        "list_sum = sol.addTwoNumbers(l_1, l_2)\n",
        "sol.printList(list_sum)"
      ],
      "execution_count": 22,
      "outputs": [
        {
          "output_type": "stream",
          "text": [
            "8\n",
            "1\n"
          ],
          "name": "stdout"
        }
      ]
    },
    {
      "cell_type": "markdown",
      "metadata": {
        "id": "wQwjEp7K9Eeh"
      },
      "source": [
        "A shorter version here but the same idea: https://leetcode.com/problems/add-two-numbers/discuss/1353295/Python-Runtime-60ms"
      ]
    }
  ]
}