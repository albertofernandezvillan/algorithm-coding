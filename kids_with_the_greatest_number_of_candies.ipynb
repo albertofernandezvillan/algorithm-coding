{
  "nbformat": 4,
  "nbformat_minor": 0,
  "metadata": {
    "colab": {
      "name": "kids_with_the_greatest_number_of_candies.ipynb",
      "provenance": [],
      "collapsed_sections": [],
      "authorship_tag": "ABX9TyMiCInHosVDdgUM2/HflJKE",
      "include_colab_link": true
    },
    "kernelspec": {
      "name": "python3",
      "display_name": "Python 3"
    },
    "language_info": {
      "name": "python"
    }
  },
  "cells": [
    {
      "cell_type": "markdown",
      "metadata": {
        "id": "view-in-github",
        "colab_type": "text"
      },
      "source": [
        "<a href=\"https://colab.research.google.com/github/albertofernandezvillan/algorithm-coding/blob/main/kids_with_the_greatest_number_of_candies.ipynb\" target=\"_parent\"><img src=\"https://colab.research.google.com/assets/colab-badge.svg\" alt=\"Open In Colab\"/></a>"
      ]
    },
    {
      "cell_type": "markdown",
      "metadata": {
        "id": "rSq34cw9SzjW"
      },
      "source": [
        "# Kids With the Greatest Number of Candies\n",
        "\n",
        "Given the array candies and the integer `extraCandies`, where `candies[i] `represents the number of candies that the ***ith*** kid has.\n",
        "\n",
        "For each kid check if there is a way to distribute extraCandies among the kids such that he or she can have the **greatest** number of candies among them. Notice that multiple kids can have the **greatest** number of candies.\n",
        "\n",
        "**Example 1**:\n",
        "\n",
        "**Input**: `candies = [2,3,5,1,3], extraCandies = 3`\n",
        "\n",
        "**Output**: `[true,true,true,false,true] `\n",
        "\n",
        "**Explanation**: \n",
        "- Kid 1 has 2 candies and if he or she receives all extra candies (3) will have 5 candies --- the greatest number of candies among the kids. \n",
        "- Kid 2 has 3 candies and if he or she receives at least 2 extra candies will have the greatest number of candies among the kids. \n",
        "- Kid 3 has 5 candies and this is already the greatest number of candies among the kids. \n",
        "- Kid 4 has 1 candy and even if he or she receives all extra candies will only have 4 candies. \n",
        "- Kid 5 has 3 candies and if he or she receives at least 2 extra candies will have the greatest number of candies among the kids. \n",
        "\n",
        "\n",
        "**Example 2**:\n",
        "\n",
        "**Input**: `candies = [4,2,1,1,2], extraCandies = 1`\n",
        "\n",
        "**Output**: `[true,false,false,false,false]`\n",
        "\n",
        "\n",
        "**Example 3**:\n",
        "\n",
        "**Input**: `candies = [12,1,12], extraCandies = 10`\n",
        "\n",
        "**Output**: `[true,false,true`]\n",
        "\n",
        "**Constraints**:\n",
        "\n",
        "- 2 <= candies.length <= 100\n",
        "- 1 <= candies[i] <= 100\n",
        "- 1 <= extraCandies <= 50\n",
        "\n",
        "Seen here: https://leetcode.com/problems/kids-with-the-greatest-number-of-candies/"
      ]
    },
    {
      "cell_type": "code",
      "metadata": {
        "id": "B_hI29VQSs59"
      },
      "source": [
        "class Solution(object):\n",
        "    def kidsWithCandies(self, candies, extraCandies):\n",
        "        \"\"\"\n",
        "        :type candies: List[int]\n",
        "        :type extraCandies: int\n",
        "        :rtype: List[bool]\n",
        "        \"\"\"\n",
        "        n = len(candies)\n",
        "        maxCandies = max(candies)\n",
        "        res = []\n",
        "\n",
        "        for i in range(0, n):\n",
        "          if candies[i] + extraCandies >= maxCandies:\n",
        "            res.append(True)\n",
        "          else:\n",
        "            res.append(False)\n",
        "        \n",
        "        return res"
      ],
      "execution_count": 1,
      "outputs": []
    },
    {
      "cell_type": "code",
      "metadata": {
        "colab": {
          "base_uri": "https://localhost:8080/"
        },
        "id": "dcB6e9sQU-Ww",
        "outputId": "aa40338d-40af-4e35-f2fe-8a56bc39b7c8"
      },
      "source": [
        "sol = Solution()\n",
        "candies = [2,3,5,1,3]\n",
        "extraCandies = 3\n",
        "sol.kidsWithCandies(candies, extraCandies)"
      ],
      "execution_count": 4,
      "outputs": [
        {
          "output_type": "execute_result",
          "data": {
            "text/plain": [
              "[True, True, True, False, True]"
            ]
          },
          "metadata": {
            "tags": []
          },
          "execution_count": 4
        }
      ]
    },
    {
      "cell_type": "markdown",
      "metadata": {
        "id": "h-DL6akCXd6j"
      },
      "source": [
        "This can also be performed using list comprehension\n",
        "\n",
        "`newlist = [expression for item in iterable if condition == True]`\n",
        "\n"
      ]
    },
    {
      "cell_type": "code",
      "metadata": {
        "id": "1Zrl3aVnVguU"
      },
      "source": [
        "class Solution_2(object):\n",
        "    def kidsWithCandies(self, candies, extraCandies):\n",
        "        \"\"\"\n",
        "        :type candies: List[int]\n",
        "        :type extraCandies: int\n",
        "        :rtype: List[bool]\n",
        "        \"\"\"\n",
        "        maxCandies = max(candies)\n",
        "        res = [a + extraCandies >= maxCandies for a in candies]        \n",
        "        return res"
      ],
      "execution_count": 9,
      "outputs": []
    },
    {
      "cell_type": "code",
      "metadata": {
        "colab": {
          "base_uri": "https://localhost:8080/"
        },
        "id": "cdlwhxLJXC2s",
        "outputId": "9e939fc3-302a-40ae-996b-6a60440c8fb2"
      },
      "source": [
        "sol = Solution_2()\n",
        "candies = [2,3,5,1,3]\n",
        "extraCandies = 3\n",
        "sol.kidsWithCandies(candies, extraCandies)"
      ],
      "execution_count": 10,
      "outputs": [
        {
          "output_type": "execute_result",
          "data": {
            "text/plain": [
              "[True, True, True, False, True]"
            ]
          },
          "metadata": {
            "tags": []
          },
          "execution_count": 10
        }
      ]
    },
    {
      "cell_type": "markdown",
      "metadata": {
        "id": "rTekpQN7YQqB"
      },
      "source": [
        "One modification from the previous approach in order to not perform an addition every time.\n"
      ]
    },
    {
      "cell_type": "code",
      "metadata": {
        "id": "OLMk_EYOYpqv"
      },
      "source": [
        "class Solution_3(object):\n",
        "    def kidsWithCandies(self, candies, extraCandies):\n",
        "        \"\"\"\n",
        "        :type candies: List[int]\n",
        "        :type extraCandies: int\n",
        "        :rtype: List[bool]\n",
        "        \"\"\"\n",
        "        maxCandies = max(candies)\n",
        "        diff = maxCandies - extraCandies\n",
        "        res = [a >= diff for a in candies]        \n",
        "        return res"
      ],
      "execution_count": 13,
      "outputs": []
    },
    {
      "cell_type": "code",
      "metadata": {
        "colab": {
          "base_uri": "https://localhost:8080/"
        },
        "id": "z7OrMcuKY2E3",
        "outputId": "b30c66ab-f105-4c28-c09f-d1ed2ab751c3"
      },
      "source": [
        "sol = Solution_3()\n",
        "candies = [2,3,5,1,3]\n",
        "extraCandies = 3\n",
        "sol.kidsWithCandies(candies, extraCandies)"
      ],
      "execution_count": 12,
      "outputs": [
        {
          "output_type": "execute_result",
          "data": {
            "text/plain": [
              "[True, True, True, False, True]"
            ]
          },
          "metadata": {
            "tags": []
          },
          "execution_count": 12
        }
      ]
    }
  ]
}