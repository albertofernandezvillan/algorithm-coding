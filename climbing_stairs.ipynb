{
  "nbformat": 4,
  "nbformat_minor": 0,
  "metadata": {
    "colab": {
      "name": "climbing_stairs.ipynb",
      "provenance": [],
      "authorship_tag": "ABX9TyMPWaig6VzGNBhRsg7cc9VJ",
      "include_colab_link": true
    },
    "kernelspec": {
      "name": "python3",
      "display_name": "Python 3"
    },
    "language_info": {
      "name": "python"
    }
  },
  "cells": [
    {
      "cell_type": "markdown",
      "metadata": {
        "id": "view-in-github",
        "colab_type": "text"
      },
      "source": [
        "<a href=\"https://colab.research.google.com/github/albertofernandezvillan/algorithm-coding/blob/main/climbing_stairs.ipynb\" target=\"_parent\"><img src=\"https://colab.research.google.com/assets/colab-badge.svg\" alt=\"Open In Colab\"/></a>"
      ]
    },
    {
      "cell_type": "markdown",
      "metadata": {
        "id": "4Sg6tgdG8cuD"
      },
      "source": [
        "# Climbing Stairs\n",
        "\n",
        "You are climbing a staircase. It takes `n` steps to reach the top.\n",
        "\n",
        "Each time you can either climb `1` or `2` steps. In how many distinct ways can you climb to the top?\n",
        "\n",
        "\n",
        "\n",
        "```\n",
        "Example 1:\n",
        "\n",
        "Input: n = 2\n",
        "Output: 2\n",
        "Explanation: There are two ways to climb to the top.\n",
        "1. 1 step + 1 step\n",
        "2. 2 steps\n",
        "\n",
        "\n",
        "Example 2:\n",
        "\n",
        "Input: n = 3\n",
        "Output: 3\n",
        "Explanation: There are three ways to climb to the top.\n",
        "1. 1 step + 1 step + 1 step\n",
        "2. 1 step + 2 steps\n",
        "3. 2 steps + 1 step\n",
        "```\n",
        "\n",
        "https://leetcode.com/problems/climbing-stairs/\n",
        "\n",
        "```\n",
        "class Solution(object):\n",
        "    def climbStairs(self, n):\n",
        "        \"\"\"\n",
        "        :type n: int\n",
        "        :rtype: int\n",
        "        \"\"\"\n",
        "```"
      ]
    },
    {
      "cell_type": "markdown",
      "metadata": {
        "id": "uDSL-wY8W7mn"
      },
      "source": [
        "\n",
        "\n",
        "```\n",
        "Input: n = 4\n",
        "Output: 5\n",
        "Explanation: There are three ways to climb to the top.\n",
        "1. 1 step + 1 step + 1 step + 1 step\n",
        "2. 1 step + 1 step + 2 steps\n",
        "3. 1 step + 2 steps + 1 step\n",
        "4. 2 steps + 1 step + 1 step\n",
        "5. 2 steps + 2 steps\n",
        "```\n",
        "\n"
      ]
    },
    {
      "cell_type": "markdown",
      "metadata": {
        "id": "J0q3E4-weZQd"
      },
      "source": [
        "Suppose I have to go up 5 steps. To get there, I first had to be in step 3, or in step 4. If I'm in step 4, I only have one way to get to step 5. If I'm in step 3, I have two ways to get to step 5: taking a step of 2, or taking two steps of 1. If I take two steps of 2, I get to step 4, which already had it accounted for and it would not be a different way. Therefore, I only have the possibility of taking a step of 2. It can be concluded, therefore, that to go up 5 steps, the different possibilities may correspond to the different ways of going up 4 steps + the different ways of going up 3 Steps.\n"
      ]
    },
    {
      "cell_type": "code",
      "metadata": {
        "id": "aiZYmp-W8biM"
      },
      "source": [
        "class Solution:\n",
        "    def climbStairs(self, n):\n",
        "\n",
        "        a,b = 1,0\n",
        "\n",
        "        for _ in range(n):\n",
        "          a = a + b\n",
        "          b = a\n",
        "\n",
        "        return a"
      ],
      "execution_count": 4,
      "outputs": []
    }
  ]
}