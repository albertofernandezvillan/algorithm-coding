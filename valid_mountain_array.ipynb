{
  "nbformat": 4,
  "nbformat_minor": 0,
  "metadata": {
    "colab": {
      "name": "valid_mountain_array.ipynb",
      "provenance": [],
      "collapsed_sections": [],
      "authorship_tag": "ABX9TyO7mWeDLQVGhRmZX32/Cy50",
      "include_colab_link": true
    },
    "kernelspec": {
      "name": "python3",
      "display_name": "Python 3"
    },
    "language_info": {
      "name": "python"
    }
  },
  "cells": [
    {
      "cell_type": "markdown",
      "metadata": {
        "id": "view-in-github",
        "colab_type": "text"
      },
      "source": [
        "<a href=\"https://colab.research.google.com/github/albertofernandezvillan/algorithm-coding/blob/main/valid_mountain_array.ipynb\" target=\"_parent\"><img src=\"https://colab.research.google.com/assets/colab-badge.svg\" alt=\"Open In Colab\"/></a>"
      ]
    },
    {
      "cell_type": "markdown",
      "metadata": {
        "id": "Mb8gP8ADKTJr"
      },
      "source": [
        "# Valid Mountain Array\n",
        "\n",
        "Given an array of integers `arr`, return `true` if and only if it is a valid mountain array. Recall that arr is a mountain array if and only if:\n",
        "\n",
        "* `arr.length >= 3`\n",
        "* There exists some `i` with `0 < i < arr.length - 1` such that:\n",
        "  * `arr[0] < arr[1] < ... < arr[i - 1] < arr[i]`\n",
        "  * `arr[i] > arr[i + 1] > ... > arr[arr.length - 1]`\n",
        "\n",
        "\n",
        "<img src=\"https://assets.leetcode.com/uploads/2019/10/20/hint_valid_mountain_array.png\" width=400>\n",
        "\n",
        "\n",
        "Seen here: https://leetcode.com/problems/valid-mountain-array/\n",
        "\n",
        "\n",
        "```\n",
        "class Solution(object):\n",
        "    def validMountainArray(self, arr):\n",
        "        \"\"\"\n",
        "        :type arr: List[int]\n",
        "        :rtype: bool\n",
        "        \"\"\"\n",
        "```"
      ]
    },
    {
      "cell_type": "markdown",
      "metadata": {
        "id": "0W466E5UUb8-"
      },
      "source": [
        "My first approach is the following."
      ]
    },
    {
      "cell_type": "code",
      "metadata": {
        "id": "TOtxDDTRU28l"
      },
      "source": [
        "class Solution(object):\n",
        "    def validMountainArray(self, arr):\n",
        "        \"\"\"\n",
        "        :type arr: List[int]\n",
        "        :rtype: bool\n",
        "        \"\"\"\n",
        "        n = len(arr)\n",
        "        if n < 3:\n",
        "          return False\n",
        "        \n",
        "        i = 0\n",
        "        while i != n-1:\n",
        "          if arr[i + 1] > arr[i]: \n",
        "            i += 1\n",
        "          else:\n",
        "            break\n",
        "        \n",
        "        j = n-1\n",
        "        while j != 0:\n",
        "           if arr[j - 1] > arr[j]: \n",
        "             j -= 1\n",
        "           else:\n",
        "              break\n",
        "        \n",
        "        if i == n-1 or j == 0:\n",
        "          return False\n",
        "        \n",
        "        return i == j      \n"
      ],
      "execution_count": null,
      "outputs": []
    },
    {
      "cell_type": "code",
      "metadata": {
        "id": "vUeIdUsNVjtZ"
      },
      "source": [
        "sol = Solution()"
      ],
      "execution_count": null,
      "outputs": []
    },
    {
      "cell_type": "code",
      "metadata": {
        "colab": {
          "base_uri": "https://localhost:8080/"
        },
        "id": "YKAeAWtfVlVI",
        "outputId": "8669f4c3-12cc-44a1-9613-bef317e6f759"
      },
      "source": [
        "sol.validMountainArray([0,3,2,1])"
      ],
      "execution_count": null,
      "outputs": [
        {
          "output_type": "execute_result",
          "data": {
            "text/plain": [
              "True"
            ]
          },
          "metadata": {
            "tags": []
          },
          "execution_count": 242
        }
      ]
    },
    {
      "cell_type": "code",
      "metadata": {
        "colab": {
          "base_uri": "https://localhost:8080/"
        },
        "id": "uHezeYe1Yq_U",
        "outputId": "7babd25e-c423-4c3a-cbc9-839bd4fea588"
      },
      "source": [
        "sol.validMountainArray([0,1,2,3,4,5,6,7,8,9])"
      ],
      "execution_count": null,
      "outputs": [
        {
          "output_type": "execute_result",
          "data": {
            "text/plain": [
              "False"
            ]
          },
          "metadata": {
            "tags": []
          },
          "execution_count": 243
        }
      ]
    },
    {
      "cell_type": "code",
      "metadata": {
        "id": "mkGtrYkBdfbr"
      },
      "source": [
        "class Solution(object):\n",
        "    def validMountainArray(self, arr):\n",
        "        \"\"\"\n",
        "        :type arr: List[int]\n",
        "        :rtype: bool\n",
        "        \"\"\"\n",
        "        n = len(arr)\n",
        "        if n < 3:\n",
        "          return False\n",
        "        \n",
        "        i = 0\n",
        "        while i != n-1 and arr[i + 1] > arr[i]:\n",
        "          i += 1\n",
        "        \n",
        "        j = n-1\n",
        "        while j != 0 and arr[j - 1] > arr[j]:\n",
        "          j -= 1\n",
        "\n",
        "        # Check if we met somewhere in the middle:         \n",
        "        if i == n-1 or j == 0:\n",
        "          return False        \n",
        "        return i == j    "
      ],
      "execution_count": null,
      "outputs": []
    },
    {
      "cell_type": "markdown",
      "metadata": {
        "id": "beTZRRTNgoFZ"
      },
      "source": [
        "Mountain array related problems:\n",
        "- https://leetcode.com/problems/valid-mountain-array/\n",
        "- https://leetcode.com/problems/peak-index-in-a-mountain-array/\n",
        "- https://leetcode.com/problems/longest-mountain-in-array/\n",
        "- https://leetcode.com/problems/minimum-number-of-removals-to-make-mountain-array/\n",
        "- https://leetcode.com/problems/find-in-mountain-array/"
      ]
    }
  ]
}