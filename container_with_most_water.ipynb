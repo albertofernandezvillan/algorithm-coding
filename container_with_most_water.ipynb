{
  "nbformat": 4,
  "nbformat_minor": 0,
  "metadata": {
    "colab": {
      "name": "container_with_most_water.ipynb",
      "provenance": [],
      "collapsed_sections": [],
      "authorship_tag": "ABX9TyPq9vcso7QeFKs32Yi2FcY3",
      "include_colab_link": true
    },
    "kernelspec": {
      "name": "python3",
      "display_name": "Python 3"
    },
    "language_info": {
      "name": "python"
    }
  },
  "cells": [
    {
      "cell_type": "markdown",
      "metadata": {
        "id": "view-in-github",
        "colab_type": "text"
      },
      "source": [
        "<a href=\"https://colab.research.google.com/github/albertofernandezvillan/algorithm-coding/blob/main/container_with_most_water.ipynb\" target=\"_parent\"><img src=\"https://colab.research.google.com/assets/colab-badge.svg\" alt=\"Open In Colab\"/></a>"
      ]
    },
    {
      "cell_type": "markdown",
      "metadata": {
        "id": "s8aRR5DFrhMf"
      },
      "source": [
        "# Container With Most Water\n",
        "\n",
        "Given n non-negative integers `a1, a2, ..., an`, where each represents a point at coordinate `(i, ai)`. `n` vertical lines are drawn such that the two endpoints of the line `i` is at `(i, ai)` and `(i, 0)`. Find two lines, which, together with the x-axis forms a container, such that the container contains the most water.\n",
        "\n",
        "<img src=\"https://s3-lc-upload.s3.amazonaws.com/uploads/2018/07/17/question_11.jpg\" width=400>\n",
        "\n",
        "\n",
        "\n",
        "```\n",
        "Input: height = [1,8,6,2,5,4,8,3,7]\n",
        "Output: 49\n",
        "Explanation: The above vertical lines are represented by array [1,8,6,2,5,4,8,3,7]. \n",
        "In this case, the max area of water (blue section) the container can contain is 49.\n",
        "```\n",
        "\n",
        "Seen here: https://leetcode.com/problems/container-with-most-water/\n"
      ]
    },
    {
      "cell_type": "code",
      "metadata": {
        "id": "I_NMaYX9sADo"
      },
      "source": [
        "class Solution(object):\n",
        "    def maxArea(self, height):\n",
        "        \"\"\"\n",
        "        :type height: List[int]\n",
        "        :rtype: int\n",
        "        \"\"\""
      ],
      "execution_count": 1,
      "outputs": []
    },
    {
      "cell_type": "markdown",
      "metadata": {
        "id": "VV34Z3qVulrh"
      },
      "source": [
        "Brute force solution: exploring all the posibilities"
      ]
    },
    {
      "cell_type": "code",
      "metadata": {
        "id": "H8jy8DUQsHto"
      },
      "source": [
        "class Solution(object):\n",
        "    def maxArea(self, height):\n",
        "        \"\"\"\n",
        "        :type height: List[int]\n",
        "        :rtype: int\n",
        "        \"\"\"\n",
        "        max_area = -1\n",
        "        n = len(height)\n",
        "        for i in range(n):\n",
        "          for j in range(i+1, n):\n",
        "            # current area is width * height\n",
        "            curr_area = (j-i) * min(height[i], height[j])\n",
        "            # update max if necessary\n",
        "            max_area = max(max_area, curr_area)\n",
        "        \n",
        "        return max_area"
      ],
      "execution_count": 12,
      "outputs": []
    },
    {
      "cell_type": "code",
      "metadata": {
        "colab": {
          "base_uri": "https://localhost:8080/"
        },
        "id": "b2x9Ko6BseIb",
        "outputId": "d75587e8-abda-47ce-9d80-10fdc6801185"
      },
      "source": [
        "sol = Solution()\n",
        "height = [1,8,6,2,5,4,8,3,7]\n",
        "sol.maxArea(height)"
      ],
      "execution_count": 13,
      "outputs": [
        {
          "output_type": "execute_result",
          "data": {
            "text/plain": [
              "49"
            ]
          },
          "metadata": {},
          "execution_count": 13
        }
      ]
    },
    {
      "cell_type": "markdown",
      "metadata": {
        "id": "YTu8O0Ao0-Ib"
      },
      "source": [
        "Idea to solve it O(n) - only one pass:\n",
        "* The widest container (using first and last line) is a good candidate, because of its width. Its water level is the height of the smaller one of first and last line.\n",
        "* All other containers are less wide and thus would need a higher water level in order to hold more water.\n",
        "* The smaller one of first and last line doesn't support a higher water level and can thus be safely removed from further consideration."
      ]
    },
    {
      "cell_type": "code",
      "metadata": {
        "id": "eH9ot54dvAp6"
      },
      "source": [
        "class Solution(object):\n",
        "    def maxArea(self, height):\n",
        "        \"\"\"\n",
        "        :type height: List[int]\n",
        "        :rtype: int\n",
        "        \"\"\"\n",
        "        max_area = -1\n",
        "        n = len(height)\n",
        "        i = 0\n",
        "        j = n - 1\n",
        "\n",
        "        while i!=j:\n",
        "          # current area is width * height\n",
        "          curr_area = (j-i) * min(height[i], height[j])\n",
        "          # update max if necessary\n",
        "          max_area = max(max_area, curr_area)\n",
        "\n",
        "          if height[i] < height[j]:\n",
        "            i=i+1\n",
        "          else:\n",
        "            j=j-1           \n",
        "          \n",
        "        return max_area"
      ],
      "execution_count": 32,
      "outputs": []
    },
    {
      "cell_type": "code",
      "metadata": {
        "colab": {
          "base_uri": "https://localhost:8080/"
        },
        "id": "04Pf9CmnxNnq",
        "outputId": "d30a0e5e-1051-4f44-f11c-4242a36d39f5"
      },
      "source": [
        "sol = Solution()\n",
        "height = [1,8,6,2,5,4,8,3,7] # expected 49\n",
        "height = [2,3,4,5,18,17,6] # expected 17\n",
        "sol.maxArea(height)"
      ],
      "execution_count": 33,
      "outputs": [
        {
          "output_type": "execute_result",
          "data": {
            "text/plain": [
              "17"
            ]
          },
          "metadata": {},
          "execution_count": 33
        }
      ]
    }
  ]
}