{
  "nbformat": 4,
  "nbformat_minor": 0,
  "metadata": {
    "colab": {
      "name": "defanging_an_ip_address.ipynb",
      "provenance": [],
      "collapsed_sections": [],
      "authorship_tag": "ABX9TyNt1qeOQCRteg2TtzKsuG4Q",
      "include_colab_link": true
    },
    "kernelspec": {
      "name": "python3",
      "display_name": "Python 3"
    },
    "language_info": {
      "name": "python"
    }
  },
  "cells": [
    {
      "cell_type": "markdown",
      "metadata": {
        "id": "view-in-github",
        "colab_type": "text"
      },
      "source": [
        "<a href=\"https://colab.research.google.com/github/albertofernandezvillan/algorithm-coding/blob/main/defanging_an_ip_address.ipynb\" target=\"_parent\"><img src=\"https://colab.research.google.com/assets/colab-badge.svg\" alt=\"Open In Colab\"/></a>"
      ]
    },
    {
      "cell_type": "markdown",
      "metadata": {
        "id": "iP0LE7UMbRX8"
      },
      "source": [
        "# Defanging an IP Address\n",
        "\n",
        "\n",
        "Given a valid (IPv4) IP address, return a defanged version of that IP address.\n",
        "\n",
        "A defanged IP address replaces every period `\".\"` with `\"[.]\"`.\n",
        "\n",
        "**Example 1:**\n",
        "\n",
        "- **Input**: `address = \"1.1.1.1\"`\n",
        "- **Output**: `\"1[.]1[.]1[.]1\"`\n",
        "\n",
        "**Example 2:**\n",
        "\n",
        "- **Input**: `address = \"255.100.50.0\"`\n",
        "- **Output**: `\"255[.]100[.]50[.]0\"`\n",
        "\n",
        "**Constraints**:\n",
        "- The given address is a valid IPv4 address.\n",
        "\n",
        "Seen here: https://leetcode.com/problems/defanging-an-ip-address/\n"
      ]
    },
    {
      "cell_type": "markdown",
      "metadata": {
        "id": "fDN-owYn56YP"
      },
      "source": [
        "To iterate over all the characters of a string in Python, we can perfom:\n",
        "\n",
        "```\n",
        "for i in range(len(address)):\n",
        "  print(address[i])\n",
        "```\n",
        "\n",
        "```\n",
        "for char in address:\n",
        "  print(char)\n",
        "```\n"
      ]
    },
    {
      "cell_type": "code",
      "metadata": {
        "id": "FZ5S221CbtFk"
      },
      "source": [
        "class Solution(object):\n",
        "    def defangIPaddr(self, address):\n",
        "        \"\"\"\n",
        "        :type address: str\n",
        "        :rtype: str\n",
        "        \"\"\"\n",
        "        res = \"\"\n",
        "        n = len(address)\n",
        "\n",
        "        for i in range(n):\n",
        "          if address[i] != \".\":\n",
        "            res +=  address[i]\n",
        "          else:\n",
        "            res += \"[.]\"\n",
        "          \n",
        "        return res"
      ],
      "execution_count": null,
      "outputs": []
    },
    {
      "cell_type": "code",
      "metadata": {
        "colab": {
          "base_uri": "https://localhost:8080/",
          "height": 35
        },
        "id": "YKF76eEdcIHl",
        "outputId": "348c232b-91e3-4cf8-e9b9-dc444ab2e8ac"
      },
      "source": [
        "sol = Solution()\n",
        "address = \"1.1.1.1\"\n",
        "\n",
        "sol.defangIPaddr(address)"
      ],
      "execution_count": null,
      "outputs": [
        {
          "output_type": "execute_result",
          "data": {
            "application/vnd.google.colaboratory.intrinsic+json": {
              "type": "string"
            },
            "text/plain": [
              "'1[.]1[.]1[.]1'"
            ]
          },
          "metadata": {
            "tags": []
          },
          "execution_count": 16
        }
      ]
    },
    {
      "cell_type": "markdown",
      "metadata": {
        "id": "iDMg-OAGeo5H"
      },
      "source": [
        "Complexity:\n",
        "- Time: O(N)\n",
        "- Space: O(1)"
      ]
    },
    {
      "cell_type": "code",
      "metadata": {
        "id": "5iiLQarocuuI"
      },
      "source": [
        "class Solution_2(object):\n",
        "    def defangIPaddr(self, address):\n",
        "        \"\"\"\n",
        "        :type address: str\n",
        "        :rtype: str\n",
        "        \"\"\"\n",
        "        # Convert address into a list of numbers using split()\n",
        "        # Add \"[.]\" between the numbers using join()\n",
        "        res = \"[.]\".join(address.split(\".\"))\n",
        "        return res"
      ],
      "execution_count": null,
      "outputs": []
    },
    {
      "cell_type": "code",
      "metadata": {
        "colab": {
          "base_uri": "https://localhost:8080/",
          "height": 35
        },
        "id": "EiiasCmNeOx-",
        "outputId": "75b7d4bd-6778-44cf-9ae8-af30675d74bd"
      },
      "source": [
        "sol = Solution_2()\n",
        "address = \"1.1.1.1\"\n",
        "\n",
        "sol.defangIPaddr(address)"
      ],
      "execution_count": null,
      "outputs": [
        {
          "output_type": "execute_result",
          "data": {
            "application/vnd.google.colaboratory.intrinsic+json": {
              "type": "string"
            },
            "text/plain": [
              "'1[.]1[.]1[.]1'"
            ]
          },
          "metadata": {
            "tags": []
          },
          "execution_count": 18
        }
      ]
    },
    {
      "cell_type": "markdown",
      "metadata": {
        "id": "KmaQUwELeuM0"
      },
      "source": [
        "Complexity:\n",
        "- Time: O(N)\n",
        "- Space: O(1)"
      ]
    },
    {
      "cell_type": "markdown",
      "metadata": {
        "id": "rLClRFOL6vrf"
      },
      "source": [
        "**Additional notes**:\n",
        "\n",
        "To iterate characters of `address` in reverse order:\n",
        " * Use `range()` function with arguments `range(len(address)-1,-1,-1)`\n",
        " * Combine `range()` and slicing: `range(len(address))[::-1]`\n",
        " * Slice the string in reverse fashion: `address[::-1]`"
      ]
    },
    {
      "cell_type": "code",
      "metadata": {
        "id": "kT2PC6q36_8Q"
      },
      "source": [
        "address = \"gnirts ym si siht\""
      ],
      "execution_count": 9,
      "outputs": []
    },
    {
      "cell_type": "code",
      "metadata": {
        "colab": {
          "base_uri": "https://localhost:8080/"
        },
        "id": "aB6w3uw67_vJ",
        "outputId": "f86d0624-886f-4a76-f093-378da564ee25"
      },
      "source": [
        "reversed = \"\"\n",
        "for i in range(len(address)-1, -1, -1):\n",
        "  reversed += address[i]\n",
        "\n",
        "print(reversed)"
      ],
      "execution_count": 10,
      "outputs": [
        {
          "output_type": "stream",
          "text": [
            "this is my string\n"
          ],
          "name": "stdout"
        }
      ]
    },
    {
      "cell_type": "code",
      "metadata": {
        "id": "r-eaeTOP9KU5"
      },
      "source": [
        "reversed = \"\"\n",
        "for i in range(len(address))[::-1]:\n",
        "  print(i)\n",
        "  reversed += address[i]\n",
        "\n",
        "print(reversed)"
      ],
      "execution_count": null,
      "outputs": []
    },
    {
      "cell_type": "code",
      "metadata": {
        "colab": {
          "base_uri": "https://localhost:8080/"
        },
        "id": "vv28YjLH9t6r",
        "outputId": "b55abb82-c8d7-4668-a311-cf909abda0df"
      },
      "source": [
        "reversed = \"\"\n",
        "for element in address[::-1]:\n",
        "  reversed += element\n",
        "\n",
        "print(reversed)"
      ],
      "execution_count": 14,
      "outputs": [
        {
          "output_type": "stream",
          "text": [
            "this is my string\n"
          ],
          "name": "stdout"
        }
      ]
    },
    {
      "cell_type": "markdown",
      "metadata": {
        "id": "lpo5AcEk-2tU"
      },
      "source": [
        "Finally, remember that the `join()` method is a string method and returns a string in which the elements of sequence have been joined by str separator:"
      ]
    },
    {
      "cell_type": "code",
      "metadata": {
        "colab": {
          "base_uri": "https://localhost:8080/"
        },
        "id": "UBUXa1Me_E9d",
        "outputId": "c32dc6cf-6733-4d33-cd4e-97b9a8815d06"
      },
      "source": [
        "my_list = ['aa','bb','cc','dd']\n",
        "\n",
        "res_1 = \"--\".join(my_list)\n",
        "res_2 = \"\".join(my_list)\n",
        "\n",
        "res_3 = \"--\".join(my_list)[::-1]\n",
        "\n",
        "print(res_1)\n",
        "print(res_2)\n",
        "print(res_3)"
      ],
      "execution_count": 16,
      "outputs": [
        {
          "output_type": "stream",
          "text": [
            "aa--bb--cc--dd\n",
            "aabbccdd\n",
            "dd--cc--bb--aa\n"
          ],
          "name": "stdout"
        }
      ]
    }
  ]
}