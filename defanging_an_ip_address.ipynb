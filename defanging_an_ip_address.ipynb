{
  "nbformat": 4,
  "nbformat_minor": 0,
  "metadata": {
    "colab": {
      "name": "defanging_an_ip_address.ipynb",
      "provenance": [],
      "collapsed_sections": [],
      "authorship_tag": "ABX9TyMiw8hDT5Xi194ateUp5C7u",
      "include_colab_link": true
    },
    "kernelspec": {
      "name": "python3",
      "display_name": "Python 3"
    },
    "language_info": {
      "name": "python"
    }
  },
  "cells": [
    {
      "cell_type": "markdown",
      "metadata": {
        "id": "view-in-github",
        "colab_type": "text"
      },
      "source": [
        "<a href=\"https://colab.research.google.com/github/albertofernandezvillan/algorithm-coding/blob/main/defanging_an_ip_address.ipynb\" target=\"_parent\"><img src=\"https://colab.research.google.com/assets/colab-badge.svg\" alt=\"Open In Colab\"/></a>"
      ]
    },
    {
      "cell_type": "markdown",
      "metadata": {
        "id": "iP0LE7UMbRX8"
      },
      "source": [
        "# Defanging an IP Address\n",
        "\n",
        "\n",
        "Given a valid (IPv4) IP address, return a defanged version of that IP address.\n",
        "\n",
        "A defanged IP address replaces every period `\".\"` with `\"[.]\"`.\n",
        "\n",
        "**Example 1:**\n",
        "\n",
        "- **Input**: `address = \"1.1.1.1\"`\n",
        "- **Output**: `\"1[.]1[.]1[.]1\"`\n",
        "\n",
        "**Example 2:**\n",
        "\n",
        "- **Input**: `address = \"255.100.50.0\"`\n",
        "- **Output**: `\"255[.]100[.]50[.]0\"`\n",
        "\n",
        "**Constraints**:\n",
        "- The given address is a valid IPv4 address.\n",
        "\n",
        "Seen here: https://leetcode.com/problems/defanging-an-ip-address/\n"
      ]
    },
    {
      "cell_type": "code",
      "metadata": {
        "id": "FZ5S221CbtFk"
      },
      "source": [
        "class Solution(object):\n",
        "    def defangIPaddr(self, address):\n",
        "        \"\"\"\n",
        "        :type address: str\n",
        "        :rtype: str\n",
        "        \"\"\"\n",
        "        res = \"\"\n",
        "        n = len(address)\n",
        "\n",
        "        for i in range(n):\n",
        "          if address[i] != \".\":\n",
        "            res +=  address[i]\n",
        "          else:\n",
        "            res += \"[.]\"\n",
        "          \n",
        "        return res"
      ],
      "execution_count": 15,
      "outputs": []
    },
    {
      "cell_type": "code",
      "metadata": {
        "colab": {
          "base_uri": "https://localhost:8080/",
          "height": 35
        },
        "id": "YKF76eEdcIHl",
        "outputId": "348c232b-91e3-4cf8-e9b9-dc444ab2e8ac"
      },
      "source": [
        "sol = Solution()\n",
        "address = \"1.1.1.1\"\n",
        "\n",
        "sol.defangIPaddr(address)"
      ],
      "execution_count": 16,
      "outputs": [
        {
          "output_type": "execute_result",
          "data": {
            "application/vnd.google.colaboratory.intrinsic+json": {
              "type": "string"
            },
            "text/plain": [
              "'1[.]1[.]1[.]1'"
            ]
          },
          "metadata": {
            "tags": []
          },
          "execution_count": 16
        }
      ]
    },
    {
      "cell_type": "markdown",
      "metadata": {
        "id": "iDMg-OAGeo5H"
      },
      "source": [
        "Complexity:\n",
        "- Time: O(N)\n",
        "- Space: O(1)"
      ]
    },
    {
      "cell_type": "code",
      "metadata": {
        "id": "5iiLQarocuuI"
      },
      "source": [
        "class Solution_2(object):\n",
        "    def defangIPaddr(self, address):\n",
        "        \"\"\"\n",
        "        :type address: str\n",
        "        :rtype: str\n",
        "        \"\"\"\n",
        "        # Convert address into a list of numbers using split()\n",
        "        # Add \"[.]\" between the numbers using join()\n",
        "        res = \"[.]\".join(address.split(\".\"))\n",
        "        return res"
      ],
      "execution_count": 17,
      "outputs": []
    },
    {
      "cell_type": "code",
      "metadata": {
        "colab": {
          "base_uri": "https://localhost:8080/",
          "height": 35
        },
        "id": "EiiasCmNeOx-",
        "outputId": "75b7d4bd-6778-44cf-9ae8-af30675d74bd"
      },
      "source": [
        "sol = Solution_2()\n",
        "address = \"1.1.1.1\"\n",
        "\n",
        "sol.defangIPaddr(address)"
      ],
      "execution_count": 18,
      "outputs": [
        {
          "output_type": "execute_result",
          "data": {
            "application/vnd.google.colaboratory.intrinsic+json": {
              "type": "string"
            },
            "text/plain": [
              "'1[.]1[.]1[.]1'"
            ]
          },
          "metadata": {
            "tags": []
          },
          "execution_count": 18
        }
      ]
    },
    {
      "cell_type": "markdown",
      "metadata": {
        "id": "KmaQUwELeuM0"
      },
      "source": [
        "Complexity:\n",
        "- Time: O(N)\n",
        "- Space: O(1)"
      ]
    }
  ]
}