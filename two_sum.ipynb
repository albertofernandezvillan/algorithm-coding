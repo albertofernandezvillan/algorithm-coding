{
  "nbformat": 4,
  "nbformat_minor": 0,
  "metadata": {
    "colab": {
      "name": "two_sum.ipynb",
      "provenance": [],
      "collapsed_sections": [],
      "authorship_tag": "ABX9TyORBsTDDdlk5ynrukOANVLY",
      "include_colab_link": true
    },
    "kernelspec": {
      "name": "python3",
      "display_name": "Python 3"
    },
    "language_info": {
      "name": "python"
    }
  },
  "cells": [
    {
      "cell_type": "markdown",
      "metadata": {
        "id": "view-in-github",
        "colab_type": "text"
      },
      "source": [
        "<a href=\"https://colab.research.google.com/github/albertofernandezvillan/algorithm-coding/blob/main/two_sum.ipynb\" target=\"_parent\"><img src=\"https://colab.research.google.com/assets/colab-badge.svg\" alt=\"Open In Colab\"/></a>"
      ]
    },
    {
      "cell_type": "markdown",
      "metadata": {
        "id": "378k4Xjlw8e6"
      },
      "source": [
        "# Two Sum\n",
        "\n",
        "Given an array of integers nums and an integer target, return indices of the two numbers such that they add up to target. You may assume that each input would have exactly one solution, and you may not use the same element twice. You can return the answer in any order.\n",
        "\n",
        "Example 1:\n",
        "```\n",
        "Input: nums = [2,7,11,15], target = 9\n",
        "Output: [0,1]\n",
        "Output: Because nums[0] + nums[1] == 9, we return [0, 1].\n",
        "```\n",
        "Example 2:\n",
        "```\n",
        "Input: nums = [3,2,4], target = 6\n",
        "Output: [1,2]\n",
        "```\n",
        "Example 3:\n",
        "```\n",
        "Input: nums = [3,3], target = 6\n",
        "Output: [0,1]\n",
        "```\n",
        "Constraints:\n",
        "\n",
        "* 2 <= nums.length <= 10^3\n",
        "* -10^9 <= nums[i] <= 10^9\n",
        "* -10^9 <= target <= 10^9\n",
        "* Only one valid answer exists.\n",
        "\n",
        "Seen here: https://leetcode.com/problems/two-sum/\n",
        "\n"
      ]
    },
    {
      "cell_type": "markdown",
      "metadata": {
        "id": "xhB6LVlc2SWP"
      },
      "source": [
        "## Brute force solution\n",
        "\n",
        "A really brute force way would be to search for all possible pairs of numbers but that would be too slow. Again, it's best to try out brute force solutions for just for completeness. It is from these brute force solutions that you can come up with optimizations."
      ]
    },
    {
      "cell_type": "code",
      "metadata": {
        "id": "R1lkArdLw7eF"
      },
      "source": [
        "class BrutForceSolution:\n",
        "  def twoSum(self, nums, target):\n",
        "    \"\"\"\n",
        "    :type nums: List[int]\n",
        "    :type target: int\n",
        "    :rtype: List[int]\n",
        "    \"\"\"\n",
        "    n = len(nums)\n",
        "    for i in range(n):\n",
        "      for j in range(i+1, n):\n",
        "        if(nums[i] + nums[j] == target):\n",
        "          return [i, j]\n",
        "\n",
        "    # Raised when an operation or function receives an argument that has \n",
        "    # the right type but an inappropriate value      \n",
        "    raise ValueError(\"No two sum solution\")      "
      ],
      "execution_count": 33,
      "outputs": []
    },
    {
      "cell_type": "code",
      "metadata": {
        "colab": {
          "base_uri": "https://localhost:8080/"
        },
        "id": "h9Baxt3M2wyd",
        "outputId": "6d0ee983-dc9f-4901-f69b-898ecb17f6cf"
      },
      "source": [
        "sol = BrutForceSolution()\n",
        "\n",
        "print(sol.twoSum([2,7,11,15], 9))\n",
        "print(sol.twoSum([3,2,4], 6))\n",
        "print(sol.twoSum([3,3], 6))"
      ],
      "execution_count": 34,
      "outputs": [
        {
          "output_type": "stream",
          "text": [
            "[0, 1]\n",
            "[1, 2]\n",
            "[0, 1]\n"
          ],
          "name": "stdout"
        }
      ]
    },
    {
      "cell_type": "markdown",
      "metadata": {
        "id": "5kD8ZNIU3ZIY"
      },
      "source": [
        "**Complexity Analysis**\n",
        "* Time complexity : O(n^2). For each element, we try to find its complement by looping through the rest of array which takes O(n) time. Therefore, the time complexity is O(n^2).\n",
        "* Space complexity : O(1)."
      ]
    },
    {
      "cell_type": "markdown",
      "metadata": {
        "id": "Uyzq4ezvDzhX"
      },
      "source": [
        "## Improvement using hash\n",
        "\n",
        "Dictionaries in Python are implemented using hash tables.\n"
      ]
    },
    {
      "cell_type": "code",
      "metadata": {
        "id": "RiHRWbQG3RKg"
      },
      "source": [
        "class Solution:\n",
        "  def twoSum(self, nums, target):\n",
        "    \"\"\"\n",
        "    :type nums: List[int]\n",
        "    :type target: int\n",
        "    :rtype: List[int]\n",
        "    \"\"\"\n",
        "    # initialize empty dictionary:\n",
        "    # We will use it to store the index of the values\n",
        "    seen = {}\n",
        "\n",
        "    for i, value in enumerate(nums):\n",
        "        complement = target - value\n",
        "        if complement in seen:\n",
        "            return [seen[complement], i]           \n",
        "        seen[value] = i\n",
        "    \n",
        "    raise ValueError(\"No two sum solution\") "
      ],
      "execution_count": 39,
      "outputs": []
    },
    {
      "cell_type": "code",
      "metadata": {
        "colab": {
          "base_uri": "https://localhost:8080/"
        },
        "id": "XQZcv1-29U8e",
        "outputId": "a029f3ca-c9e7-48b5-f7bd-681bad9c4f4e"
      },
      "source": [
        "sol = Solution()\n",
        "\n",
        "print(sol.twoSum([2,7,11,15], 9))\n",
        "print(sol.twoSum([3,2,4], 6))\n",
        "print(sol.twoSum([3,3], 6))"
      ],
      "execution_count": 40,
      "outputs": [
        {
          "output_type": "stream",
          "text": [
            "[0, 1]\n",
            "[1, 2]\n",
            "[0, 1]\n"
          ],
          "name": "stdout"
        }
      ]
    },
    {
      "cell_type": "markdown",
      "metadata": {
        "id": "b_QnM8AX--oR"
      },
      "source": [
        "**Complexity Analysis**:\n",
        "\n",
        "* Time complexity : O(n). We traverse the list containing n elements only once. Each look up in the table costs only O(1) time.\n",
        "* Space complexity : O(n). The extra space required depends on the number of items stored in the hash table, which stores at most n elements."
      ]
    },
    {
      "cell_type": "markdown",
      "metadata": {
        "id": "EOsiSSguCulY"
      },
      "source": [
        "We can use `get()` method for dictionaries. It will return `None` if there is no specified key."
      ]
    },
    {
      "cell_type": "code",
      "metadata": {
        "id": "fekr2JyiDH5-"
      },
      "source": [
        "class Solution_2:\n",
        "  def twoSum(self, nums, target):\n",
        "    \"\"\"\n",
        "    :type nums: List[int]\n",
        "    :type target: int\n",
        "    :rtype: List[int]\n",
        "    \"\"\"\n",
        "    # initialize empty dictionary:\n",
        "    # We will use it to store the index of the values\n",
        "    seen = {}\n",
        "\n",
        "    for i, value in enumerate(nums):\n",
        "        complement = target - value\n",
        "        if seen.get(complement) != None:\n",
        "            return [seen[complement], i]           \n",
        "        seen[value] = i\n",
        "    \n",
        "    raise ValueError(\"No two sum solution\") "
      ],
      "execution_count": 46,
      "outputs": []
    },
    {
      "cell_type": "code",
      "metadata": {
        "colab": {
          "base_uri": "https://localhost:8080/"
        },
        "id": "V_yG6JBPDUSt",
        "outputId": "295e1a80-5c1f-4765-a08e-c6ed8a6ca957"
      },
      "source": [
        "sol = Solution_2()\n",
        "\n",
        "print(sol.twoSum([2,7,11,15], 9))\n",
        "print(sol.twoSum([3,2,4], 6))\n",
        "print(sol.twoSum([3,3], 6))"
      ],
      "execution_count": 47,
      "outputs": [
        {
          "output_type": "stream",
          "text": [
            "[0, 1]\n",
            "[1, 2]\n",
            "[0, 1]\n"
          ],
          "name": "stdout"
        }
      ]
    }
  ]
}