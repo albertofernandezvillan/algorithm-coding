{
  "nbformat": 4,
  "nbformat_minor": 0,
  "metadata": {
    "colab": {
      "name": "rotate-list.ipynb",
      "provenance": [],
      "collapsed_sections": [],
      "authorship_tag": "ABX9TyO1VUKvXe8cRDHQcOFw7HlB",
      "include_colab_link": true
    },
    "kernelspec": {
      "name": "python3",
      "display_name": "Python 3"
    },
    "language_info": {
      "name": "python"
    }
  },
  "cells": [
    {
      "cell_type": "markdown",
      "metadata": {
        "id": "view-in-github",
        "colab_type": "text"
      },
      "source": [
        "<a href=\"https://colab.research.google.com/github/albertofernandezvillan/algorithm-coding/blob/main/rotate_list.ipynb\" target=\"_parent\"><img src=\"https://colab.research.google.com/assets/colab-badge.svg\" alt=\"Open In Colab\"/></a>"
      ]
    },
    {
      "cell_type": "markdown",
      "metadata": {
        "id": "G_fwWa_aWWtd"
      },
      "source": [
        "# Rotate List\n",
        "\n",
        "Given the `head` of a linked list, rotate the list to the right by `k` places.\n",
        "\n",
        "<img src=\"https://assets.leetcode.com/uploads/2020/11/13/rotate1.jpg\" width=400>\n",
        "\n",
        "```\n",
        "Input: head = [1,2,3,4,5], k = 2\n",
        "Output: [4,5,1,2,3]\n",
        "```\n",
        "\n",
        "<img src=\"https://assets.leetcode.com/uploads/2020/11/13/roate2.jpg\" width=400>\n",
        "\n",
        "```\n",
        "Input: head = [0,1,2], k = 4\n",
        "Output: [2,0,1]\n",
        "```\n",
        "\n",
        "\n",
        "Seen here: https://leetcode.com/problems/rotate-list/"
      ]
    },
    {
      "cell_type": "code",
      "metadata": {
        "id": "b2PzPYQsWVh_"
      },
      "source": [
        "# Definition for singly-linked list.\n",
        "# class ListNode(object):\n",
        "#     def __init__(self, val=0, next=None):\n",
        "#         self.val = val\n",
        "#         self.next = next\n",
        "class Solution(object):\n",
        "    def rotateRight(self, head, k):\n",
        "        \"\"\"\n",
        "        :type head: ListNode\n",
        "        :type k: int\n",
        "        :rtype: ListNode\n",
        "        \"\"\""
      ],
      "execution_count": 2,
      "outputs": []
    },
    {
      "cell_type": "code",
      "metadata": {
        "id": "pSVcjwRZYAwz"
      },
      "source": [
        "# Definition for singly-linked list.\n",
        "class ListNode(object):\n",
        "    def __init__(self, val=0, next=None):\n",
        "        self.val = val\n",
        "        self.next = next\n",
        "\n",
        "class Solution(object):\n",
        "    def printList(self, head):\n",
        "      copy = head\n",
        "      while copy is not None:\n",
        "        print(copy.val)\n",
        "        copy = copy.next\n",
        "\n",
        "    def rotateRight(self, head, k):\n",
        "        \"\"\"\n",
        "        :type head: ListNode\n",
        "        :type k: int\n",
        "        :rtype: ListNode\n",
        "        \"\"\"\n",
        "        if not head:\n",
        "            return None\n",
        "\n",
        "        # get the length of the list and save a ref for the last node:\n",
        "        length = 1\n",
        "        lastElement = head\n",
        "        while lastElement.next is not None:\n",
        "          length += 1\n",
        "          lastElement = lastElement.next      \n",
        "        \n",
        "        # get the 'real' value of k\n",
        "        k = k % length\n",
        "        \n",
        "        # if no rotation needs to be done, return\n",
        "        if k == 0:\n",
        "         return head\n",
        "        \n",
        "        # Update the two pointers and the head\n",
        "        lastElement.next = head\n",
        "\n",
        "        # Traverse the list to get the node that will be the last node of the \n",
        "        # new list to be returned\n",
        "        times = length - k - 1\n",
        "        newLastElement = head\n",
        "        while times > 0:\n",
        "          newLastElement = newLastElement.next\n",
        "          times -= 1\n",
        "        \n",
        "        # stablish the new head\n",
        "        head = newLastElement.next\n",
        "\n",
        "        # set the end of the rotated list\n",
        "        newLastElement.next = None\n",
        "        \n",
        "        return head"
      ],
      "execution_count": 20,
      "outputs": []
    },
    {
      "cell_type": "code",
      "metadata": {
        "colab": {
          "base_uri": "https://localhost:8080/"
        },
        "id": "Tcca4QlmYCcR",
        "outputId": "ac5f3eab-2e73-493c-c501-f2dce873aef6"
      },
      "source": [
        "myList = ListNode(1, ListNode(2, ListNode(3, ListNode(4, ListNode(5)))))\n",
        "sol = Solution()\n",
        "rotated = sol.rotateRight(myList, 2)\n",
        "sol.printList(rotated)"
      ],
      "execution_count": 22,
      "outputs": [
        {
          "output_type": "stream",
          "name": "stdout",
          "text": [
            "4\n",
            "5\n",
            "1\n",
            "2\n",
            "3\n"
          ]
        }
      ]
    }
  ]
}