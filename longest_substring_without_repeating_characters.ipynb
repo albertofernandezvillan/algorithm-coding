{
  "nbformat": 4,
  "nbformat_minor": 0,
  "metadata": {
    "colab": {
      "name": "longest_substring_without_repeating_characters.ipynb",
      "provenance": [],
      "collapsed_sections": [],
      "authorship_tag": "ABX9TyNz2CKS4EplLyzDqSoyDoy4",
      "include_colab_link": true
    },
    "kernelspec": {
      "name": "python3",
      "display_name": "Python 3"
    },
    "language_info": {
      "name": "python"
    }
  },
  "cells": [
    {
      "cell_type": "markdown",
      "metadata": {
        "id": "view-in-github",
        "colab_type": "text"
      },
      "source": [
        "<a href=\"https://colab.research.google.com/github/albertofernandezvillan/algorithm-coding/blob/main/longest_substring_without_repeating_characters.ipynb\" target=\"_parent\"><img src=\"https://colab.research.google.com/assets/colab-badge.svg\" alt=\"Open In Colab\"/></a>"
      ]
    },
    {
      "cell_type": "markdown",
      "metadata": {
        "id": "zLShgHp1UJ3f"
      },
      "source": [
        "# Longest substring without repeating characters\n",
        "\n",
        "Given a string `s`, find the length of the longest substring without repeating characters.\n",
        "\n",
        " \n",
        "\n",
        "```\n",
        "Example 1:\n",
        "Input: s = \"abcabcbb\"\n",
        "Output: 3\n",
        "Explanation: The answer is \"abc\", with the length of 3.\n",
        "\n",
        "Example 2:\n",
        "Input: s = \"bbbbb\"\n",
        "Output: 1\n",
        "Explanation: The answer is \"b\", with the length of 1.\n",
        "\n",
        "Example 3:\n",
        "Input: s = \"pwwkew\"\n",
        "Output: 3\n",
        "Explanation: The answer is \"wke\", with the length of 3.\n",
        "Notice that the answer must be a substring, \"pwke\" is a subsequence and not a substring.\n",
        "\n",
        "Example 4:\n",
        "Input: s = \"\"\n",
        "Output: 0\n",
        "```\n",
        "\n",
        "Seen here: https://leetcode.com/problems/longest-substring-without-repeating-characters/\n",
        "\n",
        "\n"
      ]
    },
    {
      "cell_type": "code",
      "metadata": {
        "id": "ZdkQaGZTUI96"
      },
      "source": [
        "class Solution(object):\n",
        "    def lengthOfLongestSubstring(self, s):\n",
        "        \"\"\"\n",
        "        :type s: str\n",
        "        :rtype: int\n",
        "        \"\"\""
      ],
      "execution_count": null,
      "outputs": []
    },
    {
      "cell_type": "markdown",
      "metadata": {
        "id": "KlXf1n15F_Qc"
      },
      "source": [
        "Important key point in connection with `start <= seen[c]`: Note that if the character `c` is previously seen but `start` index is bigger than the position of this character `c` in the string, we have not to move `start` index because means that this character `c` is not considered in the current substring. This occurs for example in the string `abbac`: debug the code and check it."
      ]
    },
    {
      "cell_type": "code",
      "metadata": {
        "id": "tlqyfXQRU_vl"
      },
      "source": [
        "class Solution(object):\n",
        "    def lengthOfLongestSubstring(self, s):\n",
        "        \"\"\"\n",
        "        :type s: str\n",
        "        :rtype: int\n",
        "        \"\"\"\n",
        "        start = 0\n",
        "        maxLength = 0\n",
        "        seen = {}\n",
        "        \n",
        "        for i in range(len(s)):\n",
        "            c = s[i]\n",
        "            if c in seen and start <= seen[c]:\n",
        "              start = seen[c] + 1\n",
        "\n",
        "            maxLength = max(maxLength, i - start + 1)\n",
        "\n",
        "            seen[c] = i            \n",
        "\n",
        "        return maxLength"
      ],
      "execution_count": 29,
      "outputs": []
    },
    {
      "cell_type": "code",
      "metadata": {
        "colab": {
          "base_uri": "https://localhost:8080/"
        },
        "id": "a1t6WvK4VtH6",
        "outputId": "703a26cc-ba42-4c1b-93e4-0a9289f1d791"
      },
      "source": [
        "sol = Solution()\n",
        "\n",
        "my_string = \"abcabcbb\"# 3\n",
        "my_string = \"aab\"     # 2\n",
        "my_string = \"bbbbbbb\" # 1\n",
        "my_string = \"\"        # 0\n",
        "my_string = \"pwwkew\"  # 3\n",
        "my_string = \"aab\"     # 2\n",
        "my_string = \"dvdf\"    # 3\n",
        "my_string = \"abbac\"   # 3\n",
        "sol.lengthOfLongestSubstring(my_string)"
      ],
      "execution_count": 31,
      "outputs": [
        {
          "output_type": "execute_result",
          "data": {
            "text/plain": [
              "3"
            ]
          },
          "metadata": {},
          "execution_count": 31
        }
      ]
    },
    {
      "cell_type": "markdown",
      "metadata": {
        "id": "u6i3Q1syKVHF"
      },
      "source": [
        "See this link (https://www.geeksforgeeks.org/length-of-the-longest-substring-without-repeating-characters/) and explore the Method 3 (Linear Time) for a very simmilar solution."
      ]
    },
    {
      "cell_type": "markdown",
      "metadata": {
        "id": "Vf6Tvk19LIia"
      },
      "source": [
        "* **Time Complexity**: O(n) where n is length of the input string\n",
        "* **Auxiliary Space**: O(d) where d is number of characters in input string alphabet"
      ]
    }
  ]
}