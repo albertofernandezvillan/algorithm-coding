{
  "nbformat": 4,
  "nbformat_minor": 0,
  "metadata": {
    "colab": {
      "name": "longest_mountain_in_array.ipynb",
      "provenance": [],
      "collapsed_sections": [],
      "authorship_tag": "ABX9TyM3TdhuhxWSwPQSDXwIVE/o",
      "include_colab_link": true
    },
    "kernelspec": {
      "name": "python3",
      "display_name": "Python 3"
    },
    "language_info": {
      "name": "python"
    }
  },
  "cells": [
    {
      "cell_type": "markdown",
      "metadata": {
        "id": "view-in-github",
        "colab_type": "text"
      },
      "source": [
        "<a href=\"https://colab.research.google.com/github/albertofernandezvillan/algorithm-coding/blob/main/longest_mountain_in_array.ipynb\" target=\"_parent\"><img src=\"https://colab.research.google.com/assets/colab-badge.svg\" alt=\"Open In Colab\"/></a>"
      ]
    },
    {
      "cell_type": "markdown",
      "metadata": {
        "id": "jYVQUK9Z9E7_"
      },
      "source": [
        "# Longest Mountain in Array\n",
        "\n",
        "\n",
        "Given an integer array `arr`, return the length of the longest subarray, which is a mountain. Return `0` if there is no mountain subarray.\n",
        "\n",
        "You may recall that an array `arr` is a mountain array if and only if:\n",
        "\n",
        "* `arr.length >= 3`\n",
        "* There exists some index `i` (0-indexed) with `0 < i < arr.length - 1` such that:\n",
        "   * `arr[0] < arr[1] < ... < arr[i - 1] < arr[i]`\n",
        "   * `arr[i] > arr[i + 1] > ... > arr[arr.length - 1]`\n",
        "\n",
        "```\n",
        "Input: arr = [2,1,4,7,3,2,5]\n",
        "Output: 5\n",
        "Explanation: The largest mountain is [1,4,7,3,2] which has length 5.\n",
        "```\n",
        "```\n",
        "Input: arr = [2,2,2]\n",
        "Output: 0\n",
        "Explanation: There is no mountain.\n",
        "```\n",
        "\n",
        "Follow up:\n",
        "- Can you solve it using only one pass?\n",
        "- Can you solve it in `O(1)` space?\n",
        "\n",
        "Seen here: https://leetcode.com/problems/longest-mountain-in-array/"
      ]
    },
    {
      "cell_type": "code",
      "metadata": {
        "id": "ObaLXtkD9Al0"
      },
      "source": [
        "class Solution(object):\n",
        "    def longestMountain(self, arr):\n",
        "        \"\"\"\n",
        "        :type arr: List[int]\n",
        "        :rtype: int\n",
        "        \"\"\"\n",
        "        max_mountain = 0\n",
        "        n = len(arr)\n",
        "        i = 1\n",
        "        while i < n:\n",
        "          up = 0\n",
        "          down = 0\n",
        "\n",
        "          # we go up\n",
        "          while (i < n and arr[i-1] < arr[i]):\n",
        "            up += 1\n",
        "            i += 1          \n",
        "          \n",
        "          # we go down\n",
        "          while (i < n and arr[i-1] > arr[i]):\n",
        "            down += 1\n",
        "            i += 1\n",
        "\n",
        "          # check if this is a mountain array:\n",
        "          if (up > 0 and down > 0):\n",
        "            max_mountain = max(max_mountain, up + down + 1)\n",
        "          \n",
        "          # Just walk for non up or down regions of the mountain (flat):\n",
        "          while (i < n and arr[i-1] == arr[i]):\n",
        "            i += 1\n",
        "\n",
        "        return max_mountain          "
      ],
      "execution_count": 9,
      "outputs": []
    },
    {
      "cell_type": "code",
      "metadata": {
        "colab": {
          "base_uri": "https://localhost:8080/"
        },
        "id": "YUJDVgwJ4IgY",
        "outputId": "0eb8a288-0605-4f42-d3d4-023e645d62a1"
      },
      "source": [
        "sol = Solution()\n",
        "print(sol.longestMountain([1,4,7,3,2]))"
      ],
      "execution_count": 10,
      "outputs": [
        {
          "output_type": "stream",
          "text": [
            "5\n"
          ],
          "name": "stdout"
        }
      ]
    },
    {
      "cell_type": "markdown",
      "metadata": {
        "id": "rU_ISGP16qch"
      },
      "source": [
        "Proposed next: 1671. Minimum Number of Removals to Make Mountain Array (https://leetcode.com/problems/minimum-number-of-removals-to-make-mountain-array/)\n"
      ]
    },
    {
      "cell_type": "markdown",
      "metadata": {
        "id": "-u_lcb-30h6v"
      },
      "source": [
        "Updated list of problems that involved 1 or 2 passes from left to right/right to left:\n",
        "\n",
        "```\n",
        "53 Maximum Subarray\n",
        "121 Best Time to Buy and Sell Stock\n",
        "152 Maximum Product Subarray\n",
        "238 Product of Array Except Self\n",
        "581. Shortest Unsorted Continuous Subarray\n",
        "739 Daily Temperatures\n",
        "769 Max Chunks to Make Sorted\n",
        "770 Max Chunks to Make Sorted II\n",
        "821 Shortest Distance to a Character\n",
        "845 Longest Mountain in Array\n",
        "896. Monotonic Array\n",
        "```\n",
        "3-pass: `42. Trapping Rain Water`\n",
        "\n",
        "\n"
      ]
    }
  ]
}