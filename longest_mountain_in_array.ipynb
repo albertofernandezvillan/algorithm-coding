{
  "nbformat": 4,
  "nbformat_minor": 0,
  "metadata": {
    "colab": {
      "name": "longest_mountain_in_array.ipynb",
      "provenance": [],
      "collapsed_sections": [],
      "authorship_tag": "ABX9TyPcbCqT9y1+S8218iH4AYjN",
      "include_colab_link": true
    },
    "kernelspec": {
      "name": "python3",
      "display_name": "Python 3"
    },
    "language_info": {
      "name": "python"
    }
  },
  "cells": [
    {
      "cell_type": "markdown",
      "metadata": {
        "id": "view-in-github",
        "colab_type": "text"
      },
      "source": [
        "<a href=\"https://colab.research.google.com/github/albertofernandezvillan/algorithm-coding/blob/main/longest_mountain_in_array.ipynb\" target=\"_parent\"><img src=\"https://colab.research.google.com/assets/colab-badge.svg\" alt=\"Open In Colab\"/></a>"
      ]
    },
    {
      "cell_type": "markdown",
      "metadata": {
        "id": "jYVQUK9Z9E7_"
      },
      "source": [
        "# Longest Mountain in Array\n",
        "\n",
        "\n",
        "Given an integer array `arr`, return the length of the longest subarray, which is a mountain. Return `0` if there is no mountain subarray.\n",
        "\n",
        "You may recall that an array `arr` is a mountain array if and only if:\n",
        "\n",
        "* `arr.length >= 3`\n",
        "* There exists some index `i` (0-indexed) with `0 < i < arr.length - 1` such that:\n",
        "   * `arr[0] < arr[1] < ... < arr[i - 1] < arr[i]`\n",
        "   * `arr[i] > arr[i + 1] > ... > arr[arr.length - 1]`\n",
        "\n",
        "```\n",
        "Input: arr = [2,1,4,7,3,2,5]\n",
        "Output: 5\n",
        "Explanation: The largest mountain is [1,4,7,3,2] which has length 5.\n",
        "```\n",
        "```\n",
        "Input: arr = [2,2,2]\n",
        "Output: 0\n",
        "Explanation: There is no mountain.\n",
        "```\n",
        "\n",
        "Follow up:\n",
        "- Can you solve it using only one pass?\n",
        "- Can you solve it in `O(1)` space?\n",
        "\n",
        "Seen here: https://leetcode.com/problems/longest-mountain-in-array/"
      ]
    },
    {
      "cell_type": "code",
      "metadata": {
        "id": "ObaLXtkD9Al0"
      },
      "source": [
        ""
      ],
      "execution_count": null,
      "outputs": []
    }
  ]
}