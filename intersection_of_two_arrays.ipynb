{
  "nbformat": 4,
  "nbformat_minor": 0,
  "metadata": {
    "colab": {
      "name": "intersection_of_two_arrays.ipynb",
      "provenance": [],
      "collapsed_sections": [],
      "authorship_tag": "ABX9TyNZTsj9NDNWqD5fMZtKz3zb",
      "include_colab_link": true
    },
    "kernelspec": {
      "name": "python3",
      "display_name": "Python 3"
    },
    "language_info": {
      "name": "python"
    }
  },
  "cells": [
    {
      "cell_type": "markdown",
      "metadata": {
        "id": "view-in-github",
        "colab_type": "text"
      },
      "source": [
        "<a href=\"https://colab.research.google.com/github/albertofernandezvillan/algorithm-coding/blob/main/intersection_of_two_arrays.ipynb\" target=\"_parent\"><img src=\"https://colab.research.google.com/assets/colab-badge.svg\" alt=\"Open In Colab\"/></a>"
      ]
    },
    {
      "cell_type": "markdown",
      "metadata": {
        "id": "4JgL8md73IXj"
      },
      "source": [
        "# Intersection of Two Arrays\n",
        "\n",
        "Given two integer arrays `nums1` and `nums2`, return an array of their intersection. Each element in the result must be unique and you may return the result in any order.\n",
        "\n",
        "```\n",
        "Example 1:\n",
        "Input: nums1 = [1,2,2,1], nums2 = [2,2]\n",
        "Output: [2]\n",
        "\n",
        "Example 2:\n",
        "Input: nums1 = [4,9,5], nums2 = [9,4,9,8,4]\n",
        "Output: [9,4]\n",
        "Explanation: [4,9] is also accepted.\n",
        "```\n",
        "\n",
        "Seen here: https://leetcode.com/problems/intersection-of-two-arrays/\n",
        "```\n",
        "class Solution(object):\n",
        "    def intersection(self, nums1, nums2):\n",
        "        \"\"\"\n",
        "        :type nums1: List[int]\n",
        "        :type nums2: List[int]\n",
        "        :rtype: List[int]\n",
        "        \"\"\"\n",
        "```\n"
      ]
    },
    {
      "cell_type": "markdown",
      "metadata": {
        "id": "UvmG1gTu8onl"
      },
      "source": [
        "We use dict/hashmap to record all nums in the first list, and then check if there are nums in the second list that are already added in the dict."
      ]
    },
    {
      "cell_type": "code",
      "metadata": {
        "id": "ZxFynkID3H8C"
      },
      "source": [
        "class Solution(object):\n",
        "    def intersection(self, nums1, nums2):\n",
        "        \"\"\"\n",
        "        :type nums1: List[int]\n",
        "        :type nums2: List[int]\n",
        "        :rtype: List[int]\n",
        "        \"\"\"\n",
        "        intersection = {}\n",
        "        res = []\n",
        "\n",
        "        for i in range(len(nums1)):\n",
        "             intersection[nums1[i]] = 1\n",
        "        \n",
        "        for i in range(len(nums2)):\n",
        "           if nums2[i] in intersection:\n",
        "             intersection[nums2[i]] += 1        \n",
        "        \n",
        "        for key in intersection.keys():\n",
        "          if intersection[key] > 1:\n",
        "            res.append(key)            \n",
        "        \n",
        "        return res"
      ],
      "execution_count": 20,
      "outputs": []
    },
    {
      "cell_type": "markdown",
      "metadata": {
        "id": "roJq9oDA_sik"
      },
      "source": [
        "**A small optimization**: at the time of iterating over the second array we can build the result. Notice that when an element in the intersection is added to the result, we indicate it in the intersection dictionary setting the value to 0. This way, we avoid adding duplicates."
      ]
    },
    {
      "cell_type": "code",
      "metadata": {
        "id": "ewaNEMc7_qau"
      },
      "source": [
        "class Solution(object):\n",
        "    def intersection(self, nums1, nums2):\n",
        "        \"\"\"\n",
        "        :type nums1: List[int]\n",
        "        :type nums2: List[int]\n",
        "        :rtype: List[int]\n",
        "        \"\"\"\n",
        "        intersection = {}\n",
        "        res = []\n",
        "\n",
        "        for i in range(len(nums1)):\n",
        "             intersection[nums1[i]] = 1\n",
        "        \n",
        "        for i in range(len(nums2)):\n",
        "           if nums2[i] in intersection and intersection[nums2[i]] > 0:\n",
        "             res.append(nums2[i])\n",
        "             intersection[nums2[i]] = 0 # to avoid duplicates            \n",
        "               \n",
        "        return res"
      ],
      "execution_count": 23,
      "outputs": []
    },
    {
      "cell_type": "markdown",
      "metadata": {
        "id": "dZSbVNnO-waB"
      },
      "source": [
        "**Complexity**:\n",
        "* Time: `O(m + n) `\n",
        "* Space:` O(n)` where `n = len(nums1), m = len(nums2)`\n",
        "\n",
        "Remember that we don't consider `res` in the space complexity"
      ]
    },
    {
      "cell_type": "markdown",
      "metadata": {
        "id": "wKuiqInlAypn"
      },
      "source": [
        "Moreover, we can use a set to store the elements so we don't have to add the second condition and also we don't have to set the value to 0"
      ]
    },
    {
      "cell_type": "code",
      "metadata": {
        "id": "bfV7eIrMBMzf"
      },
      "source": [
        "class Solution(object):\n",
        "    def intersection(self, nums1, nums2):\n",
        "        \"\"\"\n",
        "        :type nums1: List[int]\n",
        "        :type nums2: List[int]\n",
        "        :rtype: List[int]\n",
        "        \"\"\"\n",
        "        intersection = {}\n",
        "        res = set()\n",
        "\n",
        "        for i in range(len(nums1)):\n",
        "             intersection[nums1[i]] = 1\n",
        "        \n",
        "        for i in range(len(nums2)):\n",
        "           if nums2[i] in intersection:\n",
        "             res.add(nums2[i])          \n",
        "               \n",
        "        return list(res)"
      ],
      "execution_count": 28,
      "outputs": []
    },
    {
      "cell_type": "code",
      "metadata": {
        "colab": {
          "base_uri": "https://localhost:8080/"
        },
        "id": "5g4k7Giq4oCj",
        "outputId": "03437906-22ec-4ddd-817b-221d1e604f38"
      },
      "source": [
        "sol = Solution()\n",
        "\n",
        "sol.intersection([4,9,5], [9,4,9,8,4])"
      ],
      "execution_count": 29,
      "outputs": [
        {
          "output_type": "execute_result",
          "data": {
            "text/plain": [
              "[9, 4]"
            ]
          },
          "metadata": {},
          "execution_count": 29
        }
      ]
    },
    {
      "cell_type": "markdown",
      "metadata": {
        "id": "EFho4dLjDT7o"
      },
      "source": [
        "Check also here (https://leetcode.com/problems/intersection-of-two-arrays/discuss/82006/Four-Python-solutions-with-simple-explanation) for more options to approach this problem. See also the comments where the time and space complexity is explained"
      ]
    }
  ]
}