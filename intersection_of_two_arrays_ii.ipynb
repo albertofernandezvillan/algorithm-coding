{
  "nbformat": 4,
  "nbformat_minor": 0,
  "metadata": {
    "colab": {
      "name": "intersection_of_two_arrays_ii.ipynb",
      "provenance": [],
      "collapsed_sections": [],
      "authorship_tag": "ABX9TyOfjeJ8tRl1O5/ERzkx5nak",
      "include_colab_link": true
    },
    "kernelspec": {
      "name": "python3",
      "display_name": "Python 3"
    },
    "language_info": {
      "name": "python"
    }
  },
  "cells": [
    {
      "cell_type": "markdown",
      "metadata": {
        "id": "view-in-github",
        "colab_type": "text"
      },
      "source": [
        "<a href=\"https://colab.research.google.com/github/albertofernandezvillan/algorithm-coding/blob/main/intersection_of_two_arrays_ii.ipynb\" target=\"_parent\"><img src=\"https://colab.research.google.com/assets/colab-badge.svg\" alt=\"Open In Colab\"/></a>"
      ]
    },
    {
      "cell_type": "markdown",
      "metadata": {
        "id": "RlWWd3tFGq7t"
      },
      "source": [
        "# Intersection of Two Arrays II\n",
        "\n",
        "Given two integer arrays `nums1` and `nums2`, return an array of their intersection. Each element in the result must appear as many times as it shows in both arrays and you may return the result in **any order**.\n",
        "\n",
        "```\n",
        "Example 1:\n",
        "Input: nums1 = [1,2,2,1], nums2 = [2,2]\n",
        "Output: [2,2]\n",
        "\n",
        "Example 2:\n",
        "Input: nums1 = [4,9,5], nums2 = [9,4,9,8,4]\n",
        "Output: [4,9]\n",
        "Explanation: [9,4] is also accepted.\n",
        "```\n",
        "\n",
        "Seen here: https://leetcode.com/problems/intersection-of-two-arrays-ii/\n",
        "\n",
        "\n",
        "\n",
        "```\n",
        "class Solution(object):\n",
        "    def intersect(self, nums1, nums2):\n",
        "        \"\"\"\n",
        "        :type nums1: List[int]\n",
        "        :type nums2: List[int]\n",
        "        :rtype: List[int]\n",
        "        \"\"\"\n",
        "```\n",
        "\n",
        "\n",
        "\n"
      ]
    },
    {
      "cell_type": "code",
      "metadata": {
        "id": "P4jsPDlNGqeF"
      },
      "source": [
        "class Solution(object):\n",
        "    def intersect(self, nums1, nums2):\n",
        "        \"\"\"\n",
        "        :type nums1: List[int]\n",
        "        :type nums2: List[int]\n",
        "        :rtype: List[int]\n",
        "        \"\"\"\n",
        "        intersection = {}\n",
        "        res = []\n",
        "\n",
        "        # key: number, value: ocurrence\n",
        "        for i in range(len(nums1)):\n",
        "          if nums1[i] in intersection:\n",
        "            intersection[nums1[i]] += 1\n",
        "          else:\n",
        "             intersection[nums1[i]] = 1  \n",
        "\n",
        "        # each time we add a number that is in both arrays\n",
        "        # we decrement the ocurrence. \n",
        "        for i in range(len(nums2)):\n",
        "           if nums2[i] in intersection and intersection[nums2[i]] > 0:\n",
        "             res.append(nums2[i])\n",
        "             intersection[nums2[i]] -= 1            \n",
        "               \n",
        "        return res"
      ],
      "execution_count": 2,
      "outputs": []
    },
    {
      "cell_type": "code",
      "metadata": {
        "colab": {
          "base_uri": "https://localhost:8080/"
        },
        "id": "ZfBtpU24IZZt",
        "outputId": "fb7bf4af-acc7-43db-a81d-4085121b53fc"
      },
      "source": [
        "sol = Solution()\n",
        "sol.intersect([4,9,5], [9,4,9,8,4])"
      ],
      "execution_count": 3,
      "outputs": [
        {
          "output_type": "execute_result",
          "data": {
            "text/plain": [
              "[9, 4]"
            ]
          },
          "metadata": {},
          "execution_count": 3
        }
      ]
    },
    {
      "cell_type": "markdown",
      "metadata": {
        "id": "D0qT05rRLqlX"
      },
      "source": [
        "**Complexity**:\n",
        "\n",
        "* This solution is O(N + M) time complexity, O(N) for iterate one of the array to create a hashmap and O(M) to iterate the other array. \n",
        "\n",
        "* O(N) space to store such hashmap."
      ]
    },
    {
      "cell_type": "markdown",
      "metadata": {
        "id": "FPjW0Bu7JpGp"
      },
      "source": [
        "**Follow up:** What if the given array is already sorted? How would you optimize your algorithm?: **two pointer iteration**. \n",
        "\n"
      ]
    },
    {
      "cell_type": "code",
      "metadata": {
        "id": "5BR2wvOEJ0Kh"
      },
      "source": [
        "class Solution(object):\n",
        "    def intersect(self, nums1, nums2):\n",
        "        \"\"\"\n",
        "        :type nums1: List[int]\n",
        "        :type nums2: List[int]\n",
        "        :rtype: List[int]\n",
        "        \"\"\"\n",
        "        res = []\n",
        "\n",
        "        nums1.sort()\n",
        "        nums2.sort()\n",
        "\n",
        "        index1, index2 = 0, 0\n",
        "\n",
        "        while index1 < len(nums1) and index2 < len(nums2):\n",
        "          if nums1[index1] == nums2[index2]:\n",
        "            res.append(nums1[index1])\n",
        "            index1 += 1\n",
        "            index2 += 1\n",
        "          elif nums1[index1] < nums2[index2]:\n",
        "            index1 += 1\n",
        "          else:\n",
        "            index2 += 1\n",
        "  \n",
        "        return res"
      ],
      "execution_count": 10,
      "outputs": []
    },
    {
      "cell_type": "code",
      "metadata": {
        "colab": {
          "base_uri": "https://localhost:8080/"
        },
        "id": "tNLl-pziKtyW",
        "outputId": "4d4352b3-ca2f-44f2-b68a-e1a8abd8b98c"
      },
      "source": [
        "sol = Solution()\n",
        "sol.intersect([4,9,5], [9,4,9,8,4])"
      ],
      "execution_count": 11,
      "outputs": [
        {
          "output_type": "execute_result",
          "data": {
            "text/plain": [
              "[4, 9]"
            ]
          },
          "metadata": {},
          "execution_count": 11
        }
      ]
    },
    {
      "cell_type": "markdown",
      "metadata": {
        "id": "O8xqWG8GMUMT"
      },
      "source": [
        "**Complexity**:\n",
        "* Time Complexity `O(max(N, M))`. Worst case, for example, would be` nums1 = {100}`, and `nums2 = {1, 2, ..., 100 }`. We will always iterate the longest array."
      ]
    },
    {
      "cell_type": "markdown",
      "metadata": {
        "id": "gDoesQVjNf-k"
      },
      "source": [
        "**Follow-up (2)**: What if `nums1's` size is small compared to `nums2's` size? Which algorithm is better? (remember from previous follow-up that the arrays are ordered).\n",
        "\n",
        "Let's say nums1 is `K` size. Then we should do **binary search** for every element in `nums1`. Each lookup is `O(log N)`, and if we do `K` times, we have `O(K log N)`. If `K` this is small enough,` O(K log N) < O(max(N, M))`. Otherwise, we have to use the previous two pointers method."
      ]
    }
  ]
}