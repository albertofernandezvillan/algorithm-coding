{
  "nbformat": 4,
  "nbformat_minor": 0,
  "metadata": {
    "colab": {
      "name": "minimum_index_sum_of_two_lists.ipynb",
      "provenance": [],
      "collapsed_sections": [],
      "authorship_tag": "ABX9TyP1Lcv/S5UMdaXFxEggA3HO",
      "include_colab_link": true
    },
    "kernelspec": {
      "name": "python3",
      "display_name": "Python 3"
    },
    "language_info": {
      "name": "python"
    }
  },
  "cells": [
    {
      "cell_type": "markdown",
      "metadata": {
        "id": "view-in-github",
        "colab_type": "text"
      },
      "source": [
        "<a href=\"https://colab.research.google.com/github/albertofernandezvillan/algorithm-coding/blob/main/minimum_index_sum_of_two_lists.ipynb\" target=\"_parent\"><img src=\"https://colab.research.google.com/assets/colab-badge.svg\" alt=\"Open In Colab\"/></a>"
      ]
    },
    {
      "cell_type": "markdown",
      "metadata": {
        "id": "4KMr4PpHU1n6"
      },
      "source": [
        "# Minimum Index Sum of Two Lists\n",
        "\n",
        "Suppose Andy and Doris want to choose a restaurant for dinner, and they both have a list of favorite restaurants represented by strings.\n",
        "\n",
        "You need to help them find out their common interest with the least list index sum. If there is a choice tie between answers, output all of them with no order requirement. You could assume there always exists an answer.\n",
        "\n",
        "Seen here: https://leetcode.com/problems/minimum-index-sum-of-two-lists/"
      ]
    },
    {
      "cell_type": "code",
      "metadata": {
        "id": "1zTOZiWVafaX"
      },
      "source": [
        "class Solution(object):\n",
        "    def findRestaurant(self, list1, list2):\n",
        "        \"\"\"\n",
        "        :type list1: List[str]\n",
        "        :type list2: List[str]\n",
        "        :rtype: List[str]\n",
        "        \"\"\""
      ],
      "execution_count": 10,
      "outputs": []
    },
    {
      "cell_type": "markdown",
      "metadata": {
        "id": "W-2cvrkxVHzJ"
      },
      "source": [
        "\n",
        "\n",
        "```\n",
        "Example 1:\n",
        "Input: list1 = [\"Shogun\",\"Tapioca Express\",\"Burger King\",\"KFC\"], list2 = [\"Piatti\",\"The Grill at Torrey Pines\",\"Hungry Hunter Steakhouse\",\"Shogun\"]\n",
        "Output: [\"Shogun\"]\n",
        "Explanation: The only restaurant they both like is \"Shogun\".\n",
        "\n",
        "Example 2:\n",
        "Input: list1 = [\"Shogun\",\"Tapioca Express\",\"Burger King\",\"KFC\"], list2 = [\"KFC\",\"Shogun\",\"Burger King\"]\n",
        "Output: [\"Shogun\"]\n",
        "Explanation: The restaurant they both like and have the least index sum is \"Shogun\" with index sum 1 (0+1).\n",
        "\n",
        "Example 3:\n",
        "Input: list1 = [\"Shogun\",\"Tapioca Express\",\"Burger King\",\"KFC\"], list2 = [\"KFC\",\"Burger King\",\"Tapioca Express\",\"Shogun\"]\n",
        "Output: [\"KFC\",\"Burger King\",\"Tapioca Express\",\"Shogun\"]\n",
        "\n",
        "Example 4:\n",
        "Input: list1 = [\"Shogun\",\"Tapioca Express\",\"Burger King\",\"KFC\"], list2 = [\"KNN\",\"KFC\",\"Burger King\",\"Tapioca Express\",\"Shogun\"]\n",
        "Output: [\"KFC\",\"Burger King\",\"Tapioca Express\",\"Shogun\"]\n",
        "\n",
        "Example 5:\n",
        "Input: list1 = [\"KFC\"], list2 = [\"KFC\"]\n",
        "Output: [\"KFC\"]\n",
        "```\n",
        "\n"
      ]
    },
    {
      "cell_type": "markdown",
      "metadata": {
        "id": "uBYF9X-hzduK"
      },
      "source": [
        "I have performed three approaches. The first one uses two dictionaries, while the second and the third only use one. The third one is the best approach."
      ]
    },
    {
      "cell_type": "code",
      "metadata": {
        "id": "YErYMZQhdxMd"
      },
      "source": [
        "class Solution(object):\n",
        "    def findRestaurant(self, list1, list2):\n",
        "        \"\"\"\n",
        "        :type list1: List[str]\n",
        "        :type list2: List[str]\n",
        "        :rtype: List[str]\n",
        "        \"\"\"\n",
        "        d = {}\n",
        "        d2 = {}\n",
        "        MIN_VAL = 100000\n",
        "\n",
        "        for i, val in enumerate(list1):\n",
        "          d[val] = i\n",
        "\n",
        "        for i, val in enumerate(list2):\n",
        "          v = d.get(val, -1) # if val does not exists in d, return -1\n",
        "          if v != -1:\n",
        "            d2[val] = v + i\n",
        "\n",
        "            if d2[val] < MIN_VAL:\n",
        "              MIN_VAL = d2[val]\n",
        "        \n",
        "        res = []\n",
        "        for k,v in d2.items():\n",
        "          if v == MIN_VAL:\n",
        "            res.append(k)\n",
        "\n",
        "        return res        "
      ],
      "execution_count": 51,
      "outputs": []
    },
    {
      "cell_type": "code",
      "metadata": {
        "id": "tsZa6XAxd1fn"
      },
      "source": [
        "list1 = [\"Shogun\",\"Tapioca Express\",\"Burger King\",\"KFC\"]\n",
        "list2 = [\"Piatti\",\"The Grill at Torrey Pines\",\"Hungry Hunter Steakhouse\",\"Shogun\"]\n",
        "sol = Solution()\n",
        "d = sol.findRestaurant(list1, list2)\n",
        "print(d)"
      ],
      "execution_count": 52,
      "outputs": []
    },
    {
      "cell_type": "code",
      "metadata": {
        "id": "cusjnb0StWYb"
      },
      "source": [
        "class Solution(object):\n",
        "    def findRestaurant(self, list1, list2):\n",
        "        \"\"\"\n",
        "        :type list1: List[str]\n",
        "        :type list2: List[str]\n",
        "        :rtype: List[str]\n",
        "        \"\"\"\n",
        "        d = {}\n",
        "        MIN_VAL = 100000\n",
        "\n",
        "        # all the values (distances) are going to be <= 0\n",
        "        for i, val in enumerate(list1):\n",
        "          d[val] = -i \n",
        "\n",
        "        for i, val in enumerate(list2):\n",
        "          v = d.get(val, 1) # if val does not exists in d, return 1\n",
        "\n",
        "          # if the obtained value is != 1 means that the restaurant exists\n",
        "          if v != 1:\n",
        "            # convert the value (distance) to a positive value (the correct one)\n",
        "            # and add the new distance\n",
        "            d[val] = (-1 * v) + i\n",
        "\n",
        "            # update the minimum value\n",
        "            if d[val] < MIN_VAL:\n",
        "              MIN_VAL = d[val]\n",
        "        \n",
        "        # return all the restaurants with the minimum distance\n",
        "        res = []\n",
        "        for k,v in d.items():\n",
        "          if v == MIN_VAL:\n",
        "            res.append(k)\n",
        "\n",
        "        return res   "
      ],
      "execution_count": 60,
      "outputs": []
    },
    {
      "cell_type": "code",
      "metadata": {
        "colab": {
          "base_uri": "https://localhost:8080/"
        },
        "id": "rzlOnbYdt4pC",
        "outputId": "8ea61ffb-aac5-4cdb-a134-5c4e0d7bba1a"
      },
      "source": [
        "list1 = [\"Shogun\",\"Tapioca Express\",\"Burger King\",\"KFC\"]\n",
        "list2 = [\"KFC\",\"Burger King\",\"Tapioca Express\",\"Shogun\"]\n",
        "sol = Solution()\n",
        "d = sol.findRestaurant(list1, list2)\n",
        "print(d)"
      ],
      "execution_count": 61,
      "outputs": [
        {
          "output_type": "stream",
          "text": [
            "{'Shogun': 0, 'Tapioca Express': -1, 'Burger King': -2, 'KFC': -3}\n",
            "['Shogun', 'Tapioca Express', 'Burger King', 'KFC']\n"
          ],
          "name": "stdout"
        }
      ]
    },
    {
      "cell_type": "code",
      "metadata": {
        "id": "jz6epXkpyMCe"
      },
      "source": [
        "class Solution(object):\n",
        "    def findRestaurant(self, list1, list2):\n",
        "        \"\"\"\n",
        "        :type list1: List[str]\n",
        "        :type list2: List[str]\n",
        "        :rtype: List[str]\n",
        "        \"\"\"\n",
        "        d = {}\n",
        "        MIN_VAL = 100000\n",
        "        res = []\n",
        "\n",
        "        for i, val in enumerate(list1):\n",
        "          d[val] = i \n",
        "\n",
        "        for i, val in enumerate(list2):\n",
        "          v = d.get(val, -1) # if val does not exists in d, return -1\n",
        "\n",
        "          if v != -1:\n",
        "            d[val] = v+ i\n",
        "\n",
        "            if d[val] < MIN_VAL:\n",
        "              MIN_VAL = d[val]\n",
        "              res = [val]\n",
        "            elif d[val] == MIN_VAL:\n",
        "              res.append(val)    \n",
        "\n",
        "        return res   "
      ],
      "execution_count": 62,
      "outputs": []
    },
    {
      "cell_type": "code",
      "metadata": {
        "colab": {
          "base_uri": "https://localhost:8080/"
        },
        "id": "egvCV_QEy8TB",
        "outputId": "d8542b90-e443-43f2-a548-0389549f45c0"
      },
      "source": [
        "list1 = [\"Shogun\",\"Tapioca Express\",\"Burger King\",\"KFC\"]\n",
        "list2 = [\"KFC\",\"Burger King\",\"Tapioca Express\",\"Shogun\"]\n",
        "sol = Solution()\n",
        "d = sol.findRestaurant(list1, list2)\n",
        "print(d)"
      ],
      "execution_count": 63,
      "outputs": [
        {
          "output_type": "stream",
          "text": [
            "['KFC', 'Burger King', 'Tapioca Express', 'Shogun']\n"
          ],
          "name": "stdout"
        }
      ]
    },
    {
      "cell_type": "markdown",
      "metadata": {
        "id": "qqPYS8omzQOA"
      },
      "source": [
        "**Complexity**:\n",
        "\n",
        "*   Time: O(N+M)\n",
        "*   Space: O(N)"
      ]
    }
  ]
}